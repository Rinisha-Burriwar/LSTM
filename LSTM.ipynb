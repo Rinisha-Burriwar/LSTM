{
 "cells": [
  {
   "cell_type": "markdown",
   "metadata": {
    "colab_type": "text",
    "id": "Hyy0yZAdDMkO"
   },
   "source": [
    "# Amazon Fine Food Reviews Analysis\n",
    "\n",
    "\n",
    "Data Source: https://www.kaggle.com/snap/amazon-fine-food-reviews <br>\n",
    "\n",
    "EDA: https://nycdatascience.com/blog/student-works/amazon-fine-foods-visualization/\n",
    "\n",
    "\n",
    "The Amazon Fine Food Reviews dataset consists of reviews of fine foods from Amazon.<br>\n",
    "\n",
    "Number of reviews: 568,454<br>\n",
    "Number of users: 256,059<br>\n",
    "Number of products: 74,258<br>\n",
    "Timespan: Oct 1999 - Oct 2012<br>\n",
    "Number of Attributes/Columns in data: 10 \n",
    "\n",
    "Attribute Information:\n",
    "\n",
    "1. Id\n",
    "2. ProductId - unique identifier for the product\n",
    "3. UserId - unqiue identifier for the user\n",
    "4. ProfileName\n",
    "5. HelpfulnessNumerator - number of users who found the review helpful\n",
    "6. HelpfulnessDenominator - number of users who indicated whether they found the review helpful or not\n",
    "7. Score - rating between 1 and 5\n",
    "8. Time - timestamp for the review\n",
    "9. Summary - brief summary of the review\n",
    "10. Text - text of the review\n",
    "\n",
    "\n",
    "#### Objective:\n",
    "Given a review, determine whether the review is positive (rating of 4 or 5) or negative (rating of 1 or 2).\n",
    "\n",
    "<br>\n",
    "[Q] How to determine if a review is positive or negative?<br>\n",
    "<br> \n",
    "[Ans] We could use Score/Rating. A rating of 4 or 5 can be cosnidered as a positive review. A rating of 1 or 2 can be considered as negative one. A review of rating 3 is considered nuetral and such reviews are ignored from our analysis. This is an approximate and proxy way of determining the polarity (positivity/negativity) of a review.\n",
    "\n",
    "\n"
   ]
  },
  {
   "cell_type": "code",
   "execution_count": 1,
   "metadata": {
    "colab": {
     "base_uri": "https://localhost:8080/",
     "height": 126
    },
    "colab_type": "code",
    "id": "TqNCL6u9DeTI",
    "outputId": "81681f30-e875-4975-eeac-6371f0f98fb8"
   },
   "outputs": [
    {
     "name": "stdout",
     "output_type": "stream",
     "text": [
      "Go to this URL in a browser: https://accounts.google.com/o/oauth2/auth?client_id=947318989803-6bn6qk8qdgf4n4g3pfee6491hc0brc4i.apps.googleusercontent.com&redirect_uri=urn%3Aietf%3Awg%3Aoauth%3A2.0%3Aoob&scope=email%20https%3A%2F%2Fwww.googleapis.com%2Fauth%2Fdocs.test%20https%3A%2F%2Fwww.googleapis.com%2Fauth%2Fdrive%20https%3A%2F%2Fwww.googleapis.com%2Fauth%2Fdrive.photos.readonly%20https%3A%2F%2Fwww.googleapis.com%2Fauth%2Fpeopleapi.readonly&response_type=code\n",
      "\n",
      "Enter your authorization code:\n",
      "··········\n",
      "Mounted at /content/drive\n"
     ]
    }
   ],
   "source": [
    "from google.colab import drive\n",
    "drive.mount('/content/drive')"
   ]
  },
  {
   "cell_type": "markdown",
   "metadata": {
    "colab_type": "text",
    "id": "8CnYWw8RDMkR"
   },
   "source": [
    "# [1]. Reading Data"
   ]
  },
  {
   "cell_type": "markdown",
   "metadata": {
    "colab_type": "text",
    "id": "D7mDIfAdDMkS"
   },
   "source": [
    "## [1.1] Loading the data\n",
    "\n",
    "The dataset is available in two forms\n",
    "1. .csv file\n",
    "2. SQLite Database\n",
    "\n",
    "In order to load the data, We have used the SQLITE dataset as it is easier to query the data and visualise the data efficiently.\n",
    "<br> \n",
    "\n",
    "Here as we only want to get the global sentiment of the recommendations (positive or negative), we will purposefully ignore all Scores equal to 3. If the score is above 3, then the recommendation wil be set to \"positive\". Otherwise, it will be set to \"negative\"."
   ]
  },
  {
   "cell_type": "code",
   "execution_count": 0,
   "metadata": {
    "colab": {},
    "colab_type": "code",
    "id": "LBsTWZEfL-RJ"
   },
   "outputs": [],
   "source": [
    "%matplotlib inline\n",
    "import warnings\n",
    "warnings.filterwarnings(\"ignore\")\n",
    "\n",
    "import numpy as np\n",
    "import pandas as pd\n",
    "pd.set_option('display.max_colwidth', -1)\n",
    "from matplotlib import pyplot as plt\n",
    "import seaborn as sns\n",
    "import keras\n",
    "from keras.layers import Dense, Embedding, LSTM, Dropout\n",
    "from keras.models import Sequential\n",
    "from keras.preprocessing import sequence\n",
    "from keras.preprocessing.text import Tokenizer\n",
    "import sqlite3\n",
    "from tqdm import tqdm\n",
    "import re\n",
    "from bs4 import BeautifulSoup\n",
    "\n",
    "from sklearn.model_selection import train_test_split"
   ]
  },
  {
   "cell_type": "code",
   "execution_count": 0,
   "metadata": {
    "colab": {},
    "colab_type": "code",
    "id": "iJm6tBCHDMkU"
   },
   "outputs": [],
   "source": [
    "%matplotlib inline\n",
    "import warnings\n",
    "warnings.filterwarnings(\"ignore\")\n",
    "\n",
    "\n",
    "import sqlite3\n",
    "import pandas as pd\n",
    "import numpy as np\n",
    "import nltk\n",
    "import string\n",
    "import matplotlib.pyplot as plt\n",
    "import seaborn as sns\n",
    "from sklearn.feature_extraction.text import TfidfTransformer\n",
    "from sklearn.feature_extraction.text import TfidfVectorizer\n",
    "\n",
    "from sklearn.feature_extraction.text import CountVectorizer\n",
    "from sklearn.metrics import confusion_matrix\n",
    "from sklearn import metrics\n",
    "from sklearn.metrics import roc_curve, auc\n",
    "from nltk.stem.porter import PorterStemmer\n",
    "\n",
    "import re\n",
    "# Tutorial about Python regular expressions: https://pymotw.com/2/re/\n",
    "import string\n",
    "from nltk.corpus import stopwords\n",
    "from nltk.stem import PorterStemmer\n",
    "from nltk.stem.wordnet import WordNetLemmatizer\n",
    "\n",
    "from gensim.models import Word2Vec\n",
    "from gensim.models import KeyedVectors\n",
    "import pickle\n",
    "\n",
    "from tqdm import tqdm\n",
    "import os"
   ]
  },
  {
   "cell_type": "code",
   "execution_count": 3,
   "metadata": {
    "colab": {
     "base_uri": "https://localhost:8080/",
     "height": 153
    },
    "colab_type": "code",
    "id": "U4jRaD60DMkb",
    "outputId": "925b412c-599f-4788-ef04-3b679c509024"
   },
   "outputs": [
    {
     "name": "stdout",
     "output_type": "stream",
     "text": [
      "Number of data points in our data (5000, 10)\n"
     ]
    },
    {
     "data": {
      "text/html": [
       "<div>\n",
       "<style scoped>\n",
       "    .dataframe tbody tr th:only-of-type {\n",
       "        vertical-align: middle;\n",
       "    }\n",
       "\n",
       "    .dataframe tbody tr th {\n",
       "        vertical-align: top;\n",
       "    }\n",
       "\n",
       "    .dataframe thead th {\n",
       "        text-align: right;\n",
       "    }\n",
       "</style>\n",
       "<table border=\"1\" class=\"dataframe\">\n",
       "  <thead>\n",
       "    <tr style=\"text-align: right;\">\n",
       "      <th></th>\n",
       "      <th>Id</th>\n",
       "      <th>ProductId</th>\n",
       "      <th>UserId</th>\n",
       "      <th>ProfileName</th>\n",
       "      <th>HelpfulnessNumerator</th>\n",
       "      <th>HelpfulnessDenominator</th>\n",
       "      <th>Score</th>\n",
       "      <th>Time</th>\n",
       "      <th>Summary</th>\n",
       "      <th>Text</th>\n",
       "    </tr>\n",
       "  </thead>\n",
       "  <tbody>\n",
       "    <tr>\n",
       "      <th>0</th>\n",
       "      <td>1</td>\n",
       "      <td>B001E4KFG0</td>\n",
       "      <td>A3SGXH7AUHU8GW</td>\n",
       "      <td>delmartian</td>\n",
       "      <td>1</td>\n",
       "      <td>1</td>\n",
       "      <td>1</td>\n",
       "      <td>1303862400</td>\n",
       "      <td>Good Quality Dog Food</td>\n",
       "      <td>I have bought several of the Vitality canned d...</td>\n",
       "    </tr>\n",
       "    <tr>\n",
       "      <th>1</th>\n",
       "      <td>2</td>\n",
       "      <td>B00813GRG4</td>\n",
       "      <td>A1D87F6ZCVE5NK</td>\n",
       "      <td>dll pa</td>\n",
       "      <td>0</td>\n",
       "      <td>0</td>\n",
       "      <td>0</td>\n",
       "      <td>1346976000</td>\n",
       "      <td>Not as Advertised</td>\n",
       "      <td>Product arrived labeled as Jumbo Salted Peanut...</td>\n",
       "    </tr>\n",
       "    <tr>\n",
       "      <th>2</th>\n",
       "      <td>3</td>\n",
       "      <td>B000LQOCH0</td>\n",
       "      <td>ABXLMWJIXXAIN</td>\n",
       "      <td>Natalia Corres \"Natalia Corres\"</td>\n",
       "      <td>1</td>\n",
       "      <td>1</td>\n",
       "      <td>1</td>\n",
       "      <td>1219017600</td>\n",
       "      <td>\"Delight\" says it all</td>\n",
       "      <td>This is a confection that has been around a fe...</td>\n",
       "    </tr>\n",
       "  </tbody>\n",
       "</table>\n",
       "</div>"
      ],
      "text/plain": [
       "   Id  ...                                               Text\n",
       "0   1  ...  I have bought several of the Vitality canned d...\n",
       "1   2  ...  Product arrived labeled as Jumbo Salted Peanut...\n",
       "2   3  ...  This is a confection that has been around a fe...\n",
       "\n",
       "[3 rows x 10 columns]"
      ]
     },
     "execution_count": 3,
     "metadata": {
      "tags": []
     },
     "output_type": "execute_result"
    }
   ],
   "source": [
    "# using SQLite Table to read data.\n",
    "con = sqlite3.connect('/content/drive/My Drive/amazon data/database.sqlite') \n",
    "\n",
    "# filtering only positive and negative reviews i.e. \n",
    "# not taking into consideration those reviews with Score=3\n",
    "# SELECT * FROM Reviews WHERE Score != 3 LIMIT 500000, will give top 500000 data points\n",
    "# you can change the number to any other number based on your computing power\n",
    "\n",
    "# filtered_data = pd.read_sql_query(\"\"\" SELECT * FROM Reviews WHERE Score != 3 LIMIT 500000\"\"\", con) \n",
    "# for tsne assignment you can take 5k data points\n",
    "\n",
    "filtered_data = pd.read_sql_query(\"\"\" SELECT * FROM Reviews WHERE Score != 3 LIMIT 5000\"\"\", con) \n",
    "\n",
    "# Give reviews with Score>3 a positive rating(1), and reviews with a score<3 a negative rating(0).\n",
    "def partition(x):\n",
    "    if x < 3:\n",
    "        return 0\n",
    "    return 1\n",
    "\n",
    "#changing reviews with score less than 3 to be positive and vice-versa\n",
    "actualScore = filtered_data['Score']\n",
    "positiveNegative = actualScore.map(partition) \n",
    "filtered_data['Score'] = positiveNegative\n",
    "print(\"Number of data points in our data\", filtered_data.shape)\n",
    "filtered_data.head(3)"
   ]
  },
  {
   "cell_type": "code",
   "execution_count": 0,
   "metadata": {
    "colab": {},
    "colab_type": "code",
    "id": "QWoNP18KDMkn"
   },
   "outputs": [],
   "source": [
    "display = pd.read_sql_query(\"\"\"\n",
    "SELECT UserId, ProductId, ProfileName, Time, Score, Text, COUNT(*)\n",
    "FROM Reviews\n",
    "GROUP BY UserId\n",
    "HAVING COUNT(*)>1\n",
    "\"\"\", con)"
   ]
  },
  {
   "cell_type": "code",
   "execution_count": 5,
   "metadata": {
    "colab": {
     "base_uri": "https://localhost:8080/",
     "height": 212
    },
    "colab_type": "code",
    "id": "uZrg73G9DMks",
    "outputId": "ff2f0e1a-ce2b-4fc0-ae34-546c717e7c32",
    "scrolled": true
   },
   "outputs": [
    {
     "name": "stdout",
     "output_type": "stream",
     "text": [
      "(80668, 7)\n"
     ]
    },
    {
     "data": {
      "text/html": [
       "<div>\n",
       "<style scoped>\n",
       "    .dataframe tbody tr th:only-of-type {\n",
       "        vertical-align: middle;\n",
       "    }\n",
       "\n",
       "    .dataframe tbody tr th {\n",
       "        vertical-align: top;\n",
       "    }\n",
       "\n",
       "    .dataframe thead th {\n",
       "        text-align: right;\n",
       "    }\n",
       "</style>\n",
       "<table border=\"1\" class=\"dataframe\">\n",
       "  <thead>\n",
       "    <tr style=\"text-align: right;\">\n",
       "      <th></th>\n",
       "      <th>UserId</th>\n",
       "      <th>ProductId</th>\n",
       "      <th>ProfileName</th>\n",
       "      <th>Time</th>\n",
       "      <th>Score</th>\n",
       "      <th>Text</th>\n",
       "      <th>COUNT(*)</th>\n",
       "    </tr>\n",
       "  </thead>\n",
       "  <tbody>\n",
       "    <tr>\n",
       "      <th>0</th>\n",
       "      <td>#oc-R115TNMSPFT9I7</td>\n",
       "      <td>B007Y59HVM</td>\n",
       "      <td>Breyton</td>\n",
       "      <td>1331510400</td>\n",
       "      <td>2</td>\n",
       "      <td>Overall its just OK when considering the price...</td>\n",
       "      <td>2</td>\n",
       "    </tr>\n",
       "    <tr>\n",
       "      <th>1</th>\n",
       "      <td>#oc-R11D9D7SHXIJB9</td>\n",
       "      <td>B005HG9ET0</td>\n",
       "      <td>Louis E. Emory \"hoppy\"</td>\n",
       "      <td>1342396800</td>\n",
       "      <td>5</td>\n",
       "      <td>My wife has recurring extreme muscle spasms, u...</td>\n",
       "      <td>3</td>\n",
       "    </tr>\n",
       "    <tr>\n",
       "      <th>2</th>\n",
       "      <td>#oc-R11DNU2NBKQ23Z</td>\n",
       "      <td>B007Y59HVM</td>\n",
       "      <td>Kim Cieszykowski</td>\n",
       "      <td>1348531200</td>\n",
       "      <td>1</td>\n",
       "      <td>This coffee is horrible and unfortunately not ...</td>\n",
       "      <td>2</td>\n",
       "    </tr>\n",
       "    <tr>\n",
       "      <th>3</th>\n",
       "      <td>#oc-R11O5J5ZVQE25C</td>\n",
       "      <td>B005HG9ET0</td>\n",
       "      <td>Penguin Chick</td>\n",
       "      <td>1346889600</td>\n",
       "      <td>5</td>\n",
       "      <td>This will be the bottle that you grab from the...</td>\n",
       "      <td>3</td>\n",
       "    </tr>\n",
       "    <tr>\n",
       "      <th>4</th>\n",
       "      <td>#oc-R12KPBODL2B5ZD</td>\n",
       "      <td>B007OSBE1U</td>\n",
       "      <td>Christopher P. Presta</td>\n",
       "      <td>1348617600</td>\n",
       "      <td>1</td>\n",
       "      <td>I didnt like this coffee. Instead of telling y...</td>\n",
       "      <td>2</td>\n",
       "    </tr>\n",
       "  </tbody>\n",
       "</table>\n",
       "</div>"
      ],
      "text/plain": [
       "               UserId  ... COUNT(*)\n",
       "0  #oc-R115TNMSPFT9I7  ...        2\n",
       "1  #oc-R11D9D7SHXIJB9  ...        3\n",
       "2  #oc-R11DNU2NBKQ23Z  ...        2\n",
       "3  #oc-R11O5J5ZVQE25C  ...        3\n",
       "4  #oc-R12KPBODL2B5ZD  ...        2\n",
       "\n",
       "[5 rows x 7 columns]"
      ]
     },
     "execution_count": 5,
     "metadata": {
      "tags": []
     },
     "output_type": "execute_result"
    }
   ],
   "source": [
    "print(display.shape)\n",
    "display.head()"
   ]
  },
  {
   "cell_type": "code",
   "execution_count": 6,
   "metadata": {
    "colab": {
     "base_uri": "https://localhost:8080/",
     "height": 76
    },
    "colab_type": "code",
    "id": "GxTkVL0YDMkz",
    "outputId": "56f320b8-a12c-46c1-e410-176f5521d222"
   },
   "outputs": [
    {
     "data": {
      "text/html": [
       "<div>\n",
       "<style scoped>\n",
       "    .dataframe tbody tr th:only-of-type {\n",
       "        vertical-align: middle;\n",
       "    }\n",
       "\n",
       "    .dataframe tbody tr th {\n",
       "        vertical-align: top;\n",
       "    }\n",
       "\n",
       "    .dataframe thead th {\n",
       "        text-align: right;\n",
       "    }\n",
       "</style>\n",
       "<table border=\"1\" class=\"dataframe\">\n",
       "  <thead>\n",
       "    <tr style=\"text-align: right;\">\n",
       "      <th></th>\n",
       "      <th>UserId</th>\n",
       "      <th>ProductId</th>\n",
       "      <th>ProfileName</th>\n",
       "      <th>Time</th>\n",
       "      <th>Score</th>\n",
       "      <th>Text</th>\n",
       "      <th>COUNT(*)</th>\n",
       "    </tr>\n",
       "  </thead>\n",
       "  <tbody>\n",
       "    <tr>\n",
       "      <th>80638</th>\n",
       "      <td>AZY10LLTJ71NX</td>\n",
       "      <td>B006P7E5ZI</td>\n",
       "      <td>undertheshrine \"undertheshrine\"</td>\n",
       "      <td>1334707200</td>\n",
       "      <td>5</td>\n",
       "      <td>I was recommended to try green tea extract to ...</td>\n",
       "      <td>5</td>\n",
       "    </tr>\n",
       "  </tbody>\n",
       "</table>\n",
       "</div>"
      ],
      "text/plain": [
       "              UserId  ... COUNT(*)\n",
       "80638  AZY10LLTJ71NX  ...        5\n",
       "\n",
       "[1 rows x 7 columns]"
      ]
     },
     "execution_count": 6,
     "metadata": {
      "tags": []
     },
     "output_type": "execute_result"
    }
   ],
   "source": [
    "display[display['UserId']=='AZY10LLTJ71NX']"
   ]
  },
  {
   "cell_type": "code",
   "execution_count": 7,
   "metadata": {
    "colab": {
     "base_uri": "https://localhost:8080/",
     "height": 35
    },
    "colab_type": "code",
    "id": "M-HxqjDhDMk4",
    "outputId": "38575e46-fd8a-412a-ec1a-92c7ccf62868"
   },
   "outputs": [
    {
     "data": {
      "text/plain": [
       "393063"
      ]
     },
     "execution_count": 7,
     "metadata": {
      "tags": []
     },
     "output_type": "execute_result"
    }
   ],
   "source": [
    "display['COUNT(*)'].sum()"
   ]
  },
  {
   "cell_type": "markdown",
   "metadata": {
    "colab_type": "text",
    "id": "xadpBwfPDMlF"
   },
   "source": [
    "#  [2] Exploratory Data Analysis"
   ]
  },
  {
   "cell_type": "markdown",
   "metadata": {
    "colab_type": "text",
    "id": "q3LuqhW2DMlG"
   },
   "source": [
    "## [2.1] Data Cleaning: Deduplication\n",
    "\n",
    "It is observed (as shown in the table below) that the reviews data had many duplicate entries. Hence it was necessary to remove duplicates in order to get unbiased results for the analysis of the data.  Following is an example:"
   ]
  },
  {
   "cell_type": "code",
   "execution_count": 8,
   "metadata": {
    "colab": {
     "base_uri": "https://localhost:8080/",
     "height": 278
    },
    "colab_type": "code",
    "id": "1hYaYW_FDMlH",
    "outputId": "6896c51f-cabb-4c7b-ea9e-94c4a6c8dbcf",
    "scrolled": false
   },
   "outputs": [
    {
     "data": {
      "text/html": [
       "<div>\n",
       "<style scoped>\n",
       "    .dataframe tbody tr th:only-of-type {\n",
       "        vertical-align: middle;\n",
       "    }\n",
       "\n",
       "    .dataframe tbody tr th {\n",
       "        vertical-align: top;\n",
       "    }\n",
       "\n",
       "    .dataframe thead th {\n",
       "        text-align: right;\n",
       "    }\n",
       "</style>\n",
       "<table border=\"1\" class=\"dataframe\">\n",
       "  <thead>\n",
       "    <tr style=\"text-align: right;\">\n",
       "      <th></th>\n",
       "      <th>Id</th>\n",
       "      <th>ProductId</th>\n",
       "      <th>UserId</th>\n",
       "      <th>ProfileName</th>\n",
       "      <th>HelpfulnessNumerator</th>\n",
       "      <th>HelpfulnessDenominator</th>\n",
       "      <th>Score</th>\n",
       "      <th>Time</th>\n",
       "      <th>Summary</th>\n",
       "      <th>Text</th>\n",
       "    </tr>\n",
       "  </thead>\n",
       "  <tbody>\n",
       "    <tr>\n",
       "      <th>0</th>\n",
       "      <td>78445</td>\n",
       "      <td>B000HDL1RQ</td>\n",
       "      <td>AR5J8UI46CURR</td>\n",
       "      <td>Geetha Krishnan</td>\n",
       "      <td>2</td>\n",
       "      <td>2</td>\n",
       "      <td>5</td>\n",
       "      <td>1199577600</td>\n",
       "      <td>LOACKER QUADRATINI VANILLA WAFERS</td>\n",
       "      <td>DELICIOUS WAFERS. I FIND THAT EUROPEAN WAFERS ...</td>\n",
       "    </tr>\n",
       "    <tr>\n",
       "      <th>1</th>\n",
       "      <td>138317</td>\n",
       "      <td>B000HDOPYC</td>\n",
       "      <td>AR5J8UI46CURR</td>\n",
       "      <td>Geetha Krishnan</td>\n",
       "      <td>2</td>\n",
       "      <td>2</td>\n",
       "      <td>5</td>\n",
       "      <td>1199577600</td>\n",
       "      <td>LOACKER QUADRATINI VANILLA WAFERS</td>\n",
       "      <td>DELICIOUS WAFERS. I FIND THAT EUROPEAN WAFERS ...</td>\n",
       "    </tr>\n",
       "    <tr>\n",
       "      <th>2</th>\n",
       "      <td>138277</td>\n",
       "      <td>B000HDOPYM</td>\n",
       "      <td>AR5J8UI46CURR</td>\n",
       "      <td>Geetha Krishnan</td>\n",
       "      <td>2</td>\n",
       "      <td>2</td>\n",
       "      <td>5</td>\n",
       "      <td>1199577600</td>\n",
       "      <td>LOACKER QUADRATINI VANILLA WAFERS</td>\n",
       "      <td>DELICIOUS WAFERS. I FIND THAT EUROPEAN WAFERS ...</td>\n",
       "    </tr>\n",
       "    <tr>\n",
       "      <th>3</th>\n",
       "      <td>73791</td>\n",
       "      <td>B000HDOPZG</td>\n",
       "      <td>AR5J8UI46CURR</td>\n",
       "      <td>Geetha Krishnan</td>\n",
       "      <td>2</td>\n",
       "      <td>2</td>\n",
       "      <td>5</td>\n",
       "      <td>1199577600</td>\n",
       "      <td>LOACKER QUADRATINI VANILLA WAFERS</td>\n",
       "      <td>DELICIOUS WAFERS. I FIND THAT EUROPEAN WAFERS ...</td>\n",
       "    </tr>\n",
       "    <tr>\n",
       "      <th>4</th>\n",
       "      <td>155049</td>\n",
       "      <td>B000PAQ75C</td>\n",
       "      <td>AR5J8UI46CURR</td>\n",
       "      <td>Geetha Krishnan</td>\n",
       "      <td>2</td>\n",
       "      <td>2</td>\n",
       "      <td>5</td>\n",
       "      <td>1199577600</td>\n",
       "      <td>LOACKER QUADRATINI VANILLA WAFERS</td>\n",
       "      <td>DELICIOUS WAFERS. I FIND THAT EUROPEAN WAFERS ...</td>\n",
       "    </tr>\n",
       "  </tbody>\n",
       "</table>\n",
       "</div>"
      ],
      "text/plain": [
       "       Id  ...                                               Text\n",
       "0   78445  ...  DELICIOUS WAFERS. I FIND THAT EUROPEAN WAFERS ...\n",
       "1  138317  ...  DELICIOUS WAFERS. I FIND THAT EUROPEAN WAFERS ...\n",
       "2  138277  ...  DELICIOUS WAFERS. I FIND THAT EUROPEAN WAFERS ...\n",
       "3   73791  ...  DELICIOUS WAFERS. I FIND THAT EUROPEAN WAFERS ...\n",
       "4  155049  ...  DELICIOUS WAFERS. I FIND THAT EUROPEAN WAFERS ...\n",
       "\n",
       "[5 rows x 10 columns]"
      ]
     },
     "execution_count": 8,
     "metadata": {
      "tags": []
     },
     "output_type": "execute_result"
    }
   ],
   "source": [
    "display= pd.read_sql_query(\"\"\"\n",
    "SELECT *\n",
    "FROM Reviews\n",
    "WHERE Score != 3 AND UserId=\"AR5J8UI46CURR\"\n",
    "ORDER BY ProductID\n",
    "\"\"\", con)\n",
    "display.head()"
   ]
  },
  {
   "cell_type": "markdown",
   "metadata": {
    "colab_type": "text",
    "id": "WMYroKJADMlK"
   },
   "source": [
    "As it can be seen above that same user has multiple reviews with same values for HelpfulnessNumerator, HelpfulnessDenominator, Score, Time, Summary and Text and on doing analysis it was found that <br>\n",
    "<br> \n",
    "ProductId=B000HDOPZG was Loacker Quadratini Vanilla Wafer Cookies, 8.82-Ounce Packages (Pack of 8)<br>\n",
    "<br> \n",
    "ProductId=B000HDL1RQ was Loacker Quadratini Lemon Wafer Cookies, 8.82-Ounce Packages (Pack of 8) and so on<br>\n",
    "\n",
    "It was inferred after analysis that reviews with same parameters other than ProductId belonged to the same product just having different flavour or quantity. Hence in order to reduce redundancy it was decided to eliminate the rows having same parameters.<br>\n",
    "\n",
    "The method used for the same was that we first sort the data according to ProductId and then just keep the first similar product review and delelte the others. for eg. in the above just the review for ProductId=B000HDL1RQ remains. This method ensures that there is only one representative for each product and deduplication without sorting would lead to possibility of different representatives still existing for the same product."
   ]
  },
  {
   "cell_type": "code",
   "execution_count": 0,
   "metadata": {
    "colab": {},
    "colab_type": "code",
    "id": "F7jUzbUTDMlM"
   },
   "outputs": [],
   "source": [
    "#Sorting data according to ProductId in ascending order\n",
    "sorted_data=filtered_data.sort_values('ProductId', axis=0, ascending=True, inplace=False, kind='quicksort', na_position='last')"
   ]
  },
  {
   "cell_type": "code",
   "execution_count": 10,
   "metadata": {
    "colab": {
     "base_uri": "https://localhost:8080/",
     "height": 35
    },
    "colab_type": "code",
    "id": "NYWqFqVmDMlS",
    "outputId": "f1467950-ec6a-436b-fde2-b5c8119bbdae"
   },
   "outputs": [
    {
     "data": {
      "text/plain": [
       "(4986, 10)"
      ]
     },
     "execution_count": 10,
     "metadata": {
      "tags": []
     },
     "output_type": "execute_result"
    }
   ],
   "source": [
    "#Deduplication of entries\n",
    "final=sorted_data.drop_duplicates(subset={\"UserId\",\"ProfileName\",\"Time\",\"Text\"}, keep='first', inplace=False)\n",
    "final.shape"
   ]
  },
  {
   "cell_type": "code",
   "execution_count": 11,
   "metadata": {
    "colab": {
     "base_uri": "https://localhost:8080/",
     "height": 35
    },
    "colab_type": "code",
    "id": "W5EoE6Y0DMlW",
    "outputId": "3954c147-e8b7-4047-c99f-73e74080dcb6"
   },
   "outputs": [
    {
     "data": {
      "text/plain": [
       "99.72"
      ]
     },
     "execution_count": 11,
     "metadata": {
      "tags": []
     },
     "output_type": "execute_result"
    }
   ],
   "source": [
    "#Checking to see how much % of data still remains\n",
    "(final['Id'].size*1.0)/(filtered_data['Id'].size*1.0)*100"
   ]
  },
  {
   "cell_type": "markdown",
   "metadata": {
    "colab_type": "text",
    "id": "IHsSi1D8DMlZ"
   },
   "source": [
    "<b>Observation:-</b> It was also seen that in two rows given below the value of HelpfulnessNumerator is greater than HelpfulnessDenominator which is not practically possible hence these two rows too are removed from calcualtions"
   ]
  },
  {
   "cell_type": "code",
   "execution_count": 12,
   "metadata": {
    "colab": {
     "base_uri": "https://localhost:8080/",
     "height": 140
    },
    "colab_type": "code",
    "id": "iQl_AZdMDMla",
    "outputId": "72412f70-38ff-4cf8-f589-1bdb5c7e0bad"
   },
   "outputs": [
    {
     "data": {
      "text/html": [
       "<div>\n",
       "<style scoped>\n",
       "    .dataframe tbody tr th:only-of-type {\n",
       "        vertical-align: middle;\n",
       "    }\n",
       "\n",
       "    .dataframe tbody tr th {\n",
       "        vertical-align: top;\n",
       "    }\n",
       "\n",
       "    .dataframe thead th {\n",
       "        text-align: right;\n",
       "    }\n",
       "</style>\n",
       "<table border=\"1\" class=\"dataframe\">\n",
       "  <thead>\n",
       "    <tr style=\"text-align: right;\">\n",
       "      <th></th>\n",
       "      <th>Id</th>\n",
       "      <th>ProductId</th>\n",
       "      <th>UserId</th>\n",
       "      <th>ProfileName</th>\n",
       "      <th>HelpfulnessNumerator</th>\n",
       "      <th>HelpfulnessDenominator</th>\n",
       "      <th>Score</th>\n",
       "      <th>Time</th>\n",
       "      <th>Summary</th>\n",
       "      <th>Text</th>\n",
       "    </tr>\n",
       "  </thead>\n",
       "  <tbody>\n",
       "    <tr>\n",
       "      <th>0</th>\n",
       "      <td>64422</td>\n",
       "      <td>B000MIDROQ</td>\n",
       "      <td>A161DK06JJMCYF</td>\n",
       "      <td>J. E. Stephens \"Jeanne\"</td>\n",
       "      <td>3</td>\n",
       "      <td>1</td>\n",
       "      <td>5</td>\n",
       "      <td>1224892800</td>\n",
       "      <td>Bought This for My Son at College</td>\n",
       "      <td>My son loves spaghetti so I didn't hesitate or...</td>\n",
       "    </tr>\n",
       "    <tr>\n",
       "      <th>1</th>\n",
       "      <td>44737</td>\n",
       "      <td>B001EQ55RW</td>\n",
       "      <td>A2V0I904FH7ABY</td>\n",
       "      <td>Ram</td>\n",
       "      <td>3</td>\n",
       "      <td>2</td>\n",
       "      <td>4</td>\n",
       "      <td>1212883200</td>\n",
       "      <td>Pure cocoa taste with crunchy almonds inside</td>\n",
       "      <td>It was almost a 'love at first bite' - the per...</td>\n",
       "    </tr>\n",
       "  </tbody>\n",
       "</table>\n",
       "</div>"
      ],
      "text/plain": [
       "      Id  ...                                               Text\n",
       "0  64422  ...  My son loves spaghetti so I didn't hesitate or...\n",
       "1  44737  ...  It was almost a 'love at first bite' - the per...\n",
       "\n",
       "[2 rows x 10 columns]"
      ]
     },
     "execution_count": 12,
     "metadata": {
      "tags": []
     },
     "output_type": "execute_result"
    }
   ],
   "source": [
    "display= pd.read_sql_query(\"\"\"\n",
    "SELECT *\n",
    "FROM Reviews\n",
    "WHERE Score != 3 AND Id=44737 OR Id=64422\n",
    "ORDER BY ProductID\n",
    "\"\"\", con)\n",
    "\n",
    "display.head()"
   ]
  },
  {
   "cell_type": "code",
   "execution_count": 0,
   "metadata": {
    "colab": {},
    "colab_type": "code",
    "id": "_C3e6EJRDMlh"
   },
   "outputs": [],
   "source": [
    "final=final[final.HelpfulnessNumerator<=final.HelpfulnessDenominator]"
   ]
  },
  {
   "cell_type": "code",
   "execution_count": 14,
   "metadata": {
    "colab": {
     "base_uri": "https://localhost:8080/",
     "height": 88
    },
    "colab_type": "code",
    "id": "l_v11ZHbDMlk",
    "outputId": "a578bce0-15e9-4446-9552-4ed74808ea2a"
   },
   "outputs": [
    {
     "name": "stdout",
     "output_type": "stream",
     "text": [
      "(4986, 10)\n"
     ]
    },
    {
     "data": {
      "text/plain": [
       "1    4178\n",
       "0     808\n",
       "Name: Score, dtype: int64"
      ]
     },
     "execution_count": 14,
     "metadata": {
      "tags": []
     },
     "output_type": "execute_result"
    }
   ],
   "source": [
    "#Before starting the next phase of preprocessing lets see the number of entries left\n",
    "print(final.shape)\n",
    "\n",
    "#How many positive and negative reviews are present in our dataset?\n",
    "final['Score'].value_counts()"
   ]
  },
  {
   "cell_type": "markdown",
   "metadata": {
    "colab_type": "text",
    "id": "M0ubEGzXDMlm"
   },
   "source": [
    "#  [3] Preprocessing"
   ]
  },
  {
   "cell_type": "markdown",
   "metadata": {
    "colab_type": "text",
    "id": "VVFEOuNbDMln"
   },
   "source": [
    "## [3.1].  Preprocessing Review Text\n",
    "\n",
    "Now that we have finished deduplication our data requires some preprocessing before we go on further with analysis and making the prediction model.\n",
    "\n",
    "Hence in the Preprocessing phase we do the following in the order below:-\n",
    "\n",
    "1. Begin by removing the html tags\n",
    "2. Remove any punctuations or limited set of special characters like , or . or # etc.\n",
    "3. Check if the word is made up of english letters and is not alpha-numeric\n",
    "4. Check to see if the length of the word is greater than 2 (as it was researched that there is no adjective in 2-letters)\n",
    "5. Convert the word to lowercase\n",
    "6. Remove Stopwords\n",
    "7. Finally Snowball Stemming the word (it was obsereved to be better than Porter Stemming)<br>\n",
    "\n",
    "After which we collect the words used to describe positive and negative reviews"
   ]
  },
  {
   "cell_type": "code",
   "execution_count": 15,
   "metadata": {
    "colab": {
     "base_uri": "https://localhost:8080/",
     "height": 179
    },
    "colab_type": "code",
    "id": "tkZDoayEDMlo",
    "outputId": "ef1b38e9-afe2-4368-f7fd-8568fc3b806c"
   },
   "outputs": [
    {
     "name": "stdout",
     "output_type": "stream",
     "text": [
      "Why is this $[...] when the same product is available for $[...] here?<br />http://www.amazon.com/VICTOR-FLY-MAGNET-BAIT-REFILL/dp/B00004RBDY<br /><br />The Victor M380 and M502 traps are unreal, of course -- total fly genocide. Pretty stinky, but only right nearby.\n",
      "==================================================\n",
      "I recently tried this flavor/brand and was surprised at how delicious these chips are.  The best thing was that there were a lot of \"brown\" chips in the bsg (my favorite), so I bought some more through amazon and shared with family and friends.  I am a little disappointed that there are not, so far, very many brown chips in these bags, but the flavor is still very good.  I like them better than the yogurt and green onion flavor because they do not seem to be as salty, and the onion flavor is better.  If you haven't eaten Kettle chips before, I recommend that you try a bag before buying bulk.  They are thicker and crunchier than Lays but just as fresh out of the bag.\n",
      "==================================================\n",
      "Wow.  So far, two two-star reviews.  One obviously had no idea what they were ordering; the other wants crispy cookies.  Hey, I'm sorry; but these reviews do nobody any good beyond reminding us to look  before ordering.<br /><br />These are chocolate-oatmeal cookies.  If you don't like that combination, don't order this type of cookie.  I find the combo quite nice, really.  The oatmeal sort of \"calms\" the rich chocolate flavor and gives the cookie sort of a coconut-type consistency.  Now let's also remember that tastes differ; so, I've given my opinion.<br /><br />Then, these are soft, chewy cookies -- as advertised.  They are not \"crispy\" cookies, or the blurb would say \"crispy,\" rather than \"chewy.\"  I happen to like raw cookie dough; however, I don't see where these taste like raw cookie dough.  Both are soft, however, so is this the confusion?  And, yes, they stick together.  Soft cookies tend to do that.  They aren't individually wrapped, which would add to the cost.  Oh yeah, chocolate chip cookies tend to be somewhat sweet.<br /><br />So, if you want something hard and crisp, I suggest Nabiso's Ginger Snaps.  If you want a cookie that's soft, chewy and tastes like a combination of chocolate and oatmeal, give these a try.  I'm here to place my second order.\n",
      "==================================================\n",
      "love to order my coffee on amazon.  easy and shows up quickly.<br />This k cup is great coffee.  dcaf is very good as well\n",
      "==================================================\n"
     ]
    }
   ],
   "source": [
    "# printing some random reviews\n",
    "sent_0 = final['Text'].values[0]\n",
    "print(sent_0)\n",
    "print(\"=\"*50)\n",
    "\n",
    "sent_1000 = final['Text'].values[1000]\n",
    "print(sent_1000)\n",
    "print(\"=\"*50)\n",
    "\n",
    "sent_1500 = final['Text'].values[1500]\n",
    "print(sent_1500)\n",
    "print(\"=\"*50)\n",
    "\n",
    "sent_4900 = final['Text'].values[4900]\n",
    "print(sent_4900)\n",
    "print(\"=\"*50)"
   ]
  },
  {
   "cell_type": "code",
   "execution_count": 16,
   "metadata": {
    "colab": {
     "base_uri": "https://localhost:8080/",
     "height": 35
    },
    "colab_type": "code",
    "id": "HC_GiLZjDMlq",
    "outputId": "d1d9ba76-a2fd-4863-826c-4e26f8728d38"
   },
   "outputs": [
    {
     "name": "stdout",
     "output_type": "stream",
     "text": [
      "Why is this $[...] when the same product is available for $[...] here?<br /> /><br />The Victor M380 and M502 traps are unreal, of course -- total fly genocide. Pretty stinky, but only right nearby.\n"
     ]
    }
   ],
   "source": [
    "# remove urls from text python: https://stackoverflow.com/a/40823105/4084039\n",
    "sent_0 = re.sub(r\"http\\S+\", \"\", sent_0)\n",
    "sent_1000 = re.sub(r\"http\\S+\", \"\", sent_1000)\n",
    "sent_150 = re.sub(r\"http\\S+\", \"\", sent_1500)\n",
    "sent_4900 = re.sub(r\"http\\S+\", \"\", sent_4900)\n",
    "\n",
    "print(sent_0)"
   ]
  },
  {
   "cell_type": "code",
   "execution_count": 17,
   "metadata": {
    "colab": {
     "base_uri": "https://localhost:8080/",
     "height": 161
    },
    "colab_type": "code",
    "id": "9K30v8vhDMlt",
    "outputId": "e3f2b7be-c2d5-4a0f-cf2a-2ae77f18c374"
   },
   "outputs": [
    {
     "name": "stdout",
     "output_type": "stream",
     "text": [
      "Why is this $[...] when the same product is available for $[...] here? />The Victor M380 and M502 traps are unreal, of course -- total fly genocide. Pretty stinky, but only right nearby.\n",
      "==================================================\n",
      "I recently tried this flavor/brand and was surprised at how delicious these chips are.  The best thing was that there were a lot of \"brown\" chips in the bsg (my favorite), so I bought some more through amazon and shared with family and friends.  I am a little disappointed that there are not, so far, very many brown chips in these bags, but the flavor is still very good.  I like them better than the yogurt and green onion flavor because they do not seem to be as salty, and the onion flavor is better.  If you haven't eaten Kettle chips before, I recommend that you try a bag before buying bulk.  They are thicker and crunchier than Lays but just as fresh out of the bag.\n",
      "==================================================\n",
      "Wow.  So far, two two-star reviews.  One obviously had no idea what they were ordering; the other wants crispy cookies.  Hey, I'm sorry; but these reviews do nobody any good beyond reminding us to look  before ordering.These are chocolate-oatmeal cookies.  If you don't like that combination, don't order this type of cookie.  I find the combo quite nice, really.  The oatmeal sort of \"calms\" the rich chocolate flavor and gives the cookie sort of a coconut-type consistency.  Now let's also remember that tastes differ; so, I've given my opinion.Then, these are soft, chewy cookies -- as advertised.  They are not \"crispy\" cookies, or the blurb would say \"crispy,\" rather than \"chewy.\"  I happen to like raw cookie dough; however, I don't see where these taste like raw cookie dough.  Both are soft, however, so is this the confusion?  And, yes, they stick together.  Soft cookies tend to do that.  They aren't individually wrapped, which would add to the cost.  Oh yeah, chocolate chip cookies tend to be somewhat sweet.So, if you want something hard and crisp, I suggest Nabiso's Ginger Snaps.  If you want a cookie that's soft, chewy and tastes like a combination of chocolate and oatmeal, give these a try.  I'm here to place my second order.\n",
      "==================================================\n",
      "love to order my coffee on amazon.  easy and shows up quickly.This k cup is great coffee.  dcaf is very good as well\n"
     ]
    }
   ],
   "source": [
    "# https://stackoverflow.com/questions/16206380/python-beautifulsoup-how-to-remove-all-tags-from-an-element\n",
    "from bs4 import BeautifulSoup\n",
    "\n",
    "soup = BeautifulSoup(sent_0, 'lxml')\n",
    "text = soup.get_text()\n",
    "print(text)\n",
    "print(\"=\"*50)\n",
    "\n",
    "soup = BeautifulSoup(sent_1000, 'lxml')\n",
    "text = soup.get_text()\n",
    "print(text)\n",
    "print(\"=\"*50)\n",
    "\n",
    "soup = BeautifulSoup(sent_1500, 'lxml')\n",
    "text = soup.get_text()\n",
    "print(text)\n",
    "print(\"=\"*50)\n",
    "\n",
    "soup = BeautifulSoup(sent_4900, 'lxml')\n",
    "text = soup.get_text()\n",
    "print(text)"
   ]
  },
  {
   "cell_type": "code",
   "execution_count": 0,
   "metadata": {
    "colab": {},
    "colab_type": "code",
    "id": "LNap_CZ6DMly"
   },
   "outputs": [],
   "source": [
    "# https://stackoverflow.com/a/47091490/4084039\n",
    "import re\n",
    "\n",
    "def decontracted(phrase):\n",
    "    # specific\n",
    "    phrase = re.sub(r\"won't\", \"will not\", phrase)\n",
    "    phrase = re.sub(r\"can\\'t\", \"can not\", phrase)\n",
    "\n",
    "    # general\n",
    "    phrase = re.sub(r\"n\\'t\", \" not\", phrase)\n",
    "    phrase = re.sub(r\"\\'re\", \" are\", phrase)\n",
    "    phrase = re.sub(r\"\\'s\", \" is\", phrase)\n",
    "    phrase = re.sub(r\"\\'d\", \" would\", phrase)\n",
    "    phrase = re.sub(r\"\\'ll\", \" will\", phrase)\n",
    "    phrase = re.sub(r\"\\'t\", \" not\", phrase)\n",
    "    phrase = re.sub(r\"\\'ve\", \" have\", phrase)\n",
    "    phrase = re.sub(r\"\\'m\", \" am\", phrase)\n",
    "    return phrase"
   ]
  },
  {
   "cell_type": "code",
   "execution_count": 19,
   "metadata": {
    "colab": {
     "base_uri": "https://localhost:8080/",
     "height": 72
    },
    "colab_type": "code",
    "id": "udvSPb9TDMl0",
    "outputId": "187220d4-6890-4878-b2e5-05f49cb0d5c2"
   },
   "outputs": [
    {
     "name": "stdout",
     "output_type": "stream",
     "text": [
      "Wow.  So far, two two-star reviews.  One obviously had no idea what they were ordering; the other wants crispy cookies.  Hey, I am sorry; but these reviews do nobody any good beyond reminding us to look  before ordering.<br /><br />These are chocolate-oatmeal cookies.  If you do not like that combination, do not order this type of cookie.  I find the combo quite nice, really.  The oatmeal sort of \"calms\" the rich chocolate flavor and gives the cookie sort of a coconut-type consistency.  Now let is also remember that tastes differ; so, I have given my opinion.<br /><br />Then, these are soft, chewy cookies -- as advertised.  They are not \"crispy\" cookies, or the blurb would say \"crispy,\" rather than \"chewy.\"  I happen to like raw cookie dough; however, I do not see where these taste like raw cookie dough.  Both are soft, however, so is this the confusion?  And, yes, they stick together.  Soft cookies tend to do that.  They are not individually wrapped, which would add to the cost.  Oh yeah, chocolate chip cookies tend to be somewhat sweet.<br /><br />So, if you want something hard and crisp, I suggest Nabiso is Ginger Snaps.  If you want a cookie that is soft, chewy and tastes like a combination of chocolate and oatmeal, give these a try.  I am here to place my second order.\n",
      "==================================================\n"
     ]
    }
   ],
   "source": [
    "sent_1500 = decontracted(sent_1500)\n",
    "print(sent_1500)\n",
    "print(\"=\"*50)"
   ]
  },
  {
   "cell_type": "code",
   "execution_count": 20,
   "metadata": {
    "colab": {
     "base_uri": "https://localhost:8080/",
     "height": 35
    },
    "colab_type": "code",
    "id": "2ofK7w-wDMl8",
    "outputId": "6f3d5720-b522-482c-919c-f0d007fc0e08"
   },
   "outputs": [
    {
     "name": "stdout",
     "output_type": "stream",
     "text": [
      "Why is this $[...] when the same product is available for $[...] here?<br /> /><br />The Victor  and  traps are unreal, of course -- total fly genocide. Pretty stinky, but only right nearby.\n"
     ]
    }
   ],
   "source": [
    "#remove words with numbers python: https://stackoverflow.com/a/18082370/4084039\n",
    "sent_0 = re.sub(\"\\S*\\d\\S*\", \"\", sent_0).strip()\n",
    "print(sent_0)"
   ]
  },
  {
   "cell_type": "code",
   "execution_count": 21,
   "metadata": {
    "colab": {
     "base_uri": "https://localhost:8080/",
     "height": 55
    },
    "colab_type": "code",
    "id": "V3Fx1mDkDMmB",
    "outputId": "d4c8d4c6-8f9b-47e2-ea83-226ddbddb96a"
   },
   "outputs": [
    {
     "name": "stdout",
     "output_type": "stream",
     "text": [
      "Wow So far two two star reviews One obviously had no idea what they were ordering the other wants crispy cookies Hey I am sorry but these reviews do nobody any good beyond reminding us to look before ordering br br These are chocolate oatmeal cookies If you do not like that combination do not order this type of cookie I find the combo quite nice really The oatmeal sort of calms the rich chocolate flavor and gives the cookie sort of a coconut type consistency Now let is also remember that tastes differ so I have given my opinion br br Then these are soft chewy cookies as advertised They are not crispy cookies or the blurb would say crispy rather than chewy I happen to like raw cookie dough however I do not see where these taste like raw cookie dough Both are soft however so is this the confusion And yes they stick together Soft cookies tend to do that They are not individually wrapped which would add to the cost Oh yeah chocolate chip cookies tend to be somewhat sweet br br So if you want something hard and crisp I suggest Nabiso is Ginger Snaps If you want a cookie that is soft chewy and tastes like a combination of chocolate and oatmeal give these a try I am here to place my second order \n"
     ]
    }
   ],
   "source": [
    "#remove spacial character: https://stackoverflow.com/a/5843547/4084039\n",
    "sent_1500 = re.sub('[^A-Za-z0-9]+', ' ', sent_1500)\n",
    "print(sent_1500)"
   ]
  },
  {
   "cell_type": "code",
   "execution_count": 0,
   "metadata": {
    "colab": {},
    "colab_type": "code",
    "id": "UItz5k7FDMmH"
   },
   "outputs": [],
   "source": [
    "# https://gist.github.com/sebleier/554280\n",
    "# we are removing the words from the stop words list: 'no', 'nor', 'not'\n",
    "# <br /><br /> ==> after the above steps, we are getting \"br br\"\n",
    "# we are including them into stop words list\n",
    "# instead of <br /> if we have <br/> these tags would have revmoved in the 1st step\n",
    "\n",
    "stopwords= set(['br', 'the', 'i', 'me', 'my', 'myself', 'we', 'our', 'ours', 'ourselves', 'you', \"you're\", \"you've\",\\\n",
    "            \"you'll\", \"you'd\", 'your', 'yours', 'yourself', 'yourselves', 'he', 'him', 'his', 'himself', \\\n",
    "            'she', \"she's\", 'her', 'hers', 'herself', 'it', \"it's\", 'its', 'itself', 'they', 'them', 'their',\\\n",
    "            'theirs', 'themselves', 'what', 'which', 'who', 'whom', 'this', 'that', \"that'll\", 'these', 'those', \\\n",
    "            'am', 'is', 'are', 'was', 'were', 'be', 'been', 'being', 'have', 'has', 'had', 'having', 'do', 'does', \\\n",
    "            'did', 'doing', 'a', 'an', 'the', 'and', 'but', 'if', 'or', 'because', 'as', 'until', 'while', 'of', \\\n",
    "            'at', 'by', 'for', 'with', 'about', 'against', 'between', 'into', 'through', 'during', 'before', 'after',\\\n",
    "            'above', 'below', 'to', 'from', 'up', 'down', 'in', 'out', 'on', 'off', 'over', 'under', 'again', 'further',\\\n",
    "            'then', 'once', 'here', 'there', 'when', 'where', 'why', 'how', 'all', 'any', 'both', 'each', 'few', 'more',\\\n",
    "            'most', 'other', 'some', 'such', 'only', 'own', 'same', 'so', 'than', 'too', 'very', \\\n",
    "            's', 't', 'can', 'will', 'just', 'don', \"don't\", 'should', \"should've\", 'now', 'd', 'll', 'm', 'o', 're', \\\n",
    "            've', 'y', 'ain', 'aren', \"aren't\", 'couldn', \"couldn't\", 'didn', \"didn't\", 'doesn', \"doesn't\", 'hadn',\\\n",
    "            \"hadn't\", 'hasn', \"hasn't\", 'haven', \"haven't\", 'isn', \"isn't\", 'ma', 'mightn', \"mightn't\", 'mustn',\\\n",
    "            \"mustn't\", 'needn', \"needn't\", 'shan', \"shan't\", 'shouldn', \"shouldn't\", 'wasn', \"wasn't\", 'weren', \"weren't\", \\\n",
    "            'won', \"won't\", 'wouldn', \"wouldn't\"])"
   ]
  },
  {
   "cell_type": "code",
   "execution_count": 23,
   "metadata": {
    "colab": {
     "base_uri": "https://localhost:8080/",
     "height": 35
    },
    "colab_type": "code",
    "id": "DIwerEJZDMmK",
    "outputId": "e737d9ce-cde3-4513-cd61-1f218f428705"
   },
   "outputs": [
    {
     "name": "stderr",
     "output_type": "stream",
     "text": [
      "100%|██████████| 4986/4986 [00:02<00:00, 2474.71it/s]\n"
     ]
    }
   ],
   "source": [
    "# Combining all the above stundents \n",
    "from tqdm import tqdm\n",
    "preprocessed_reviews = []\n",
    "# tqdm is for printing the status bar\n",
    "for sentance in tqdm(final['Text'].values):\n",
    "    sentance = re.sub(r\"http\\S+\", \"\", sentance)\n",
    "    sentance = BeautifulSoup(sentance, 'lxml').get_text()\n",
    "    sentance = decontracted(sentance)\n",
    "    sentance = re.sub(\"\\S*\\d\\S*\", \"\", sentance).strip()\n",
    "    sentance = re.sub('[^A-Za-z]+', ' ', sentance)\n",
    "    # https://gist.github.com/sebleier/554280\n",
    "    sentance = ' '.join(e.lower() for e in sentance.split() if e.lower() not in stopwords)\n",
    "    preprocessed_reviews.append(sentance.strip())"
   ]
  },
  {
   "cell_type": "code",
   "execution_count": 24,
   "metadata": {
    "colab": {
     "base_uri": "https://localhost:8080/",
     "height": 55
    },
    "colab_type": "code",
    "id": "tXSd1yWHDMmO",
    "outputId": "51dac145-9e2e-4e91-cfa2-d0608bb794a8"
   },
   "outputs": [
    {
     "data": {
      "text/plain": [
       "'wow far two two star reviews one obviously no idea ordering wants crispy cookies hey sorry reviews nobody good beyond reminding us look ordering chocolate oatmeal cookies not like combination not order type cookie find combo quite nice really oatmeal sort calms rich chocolate flavor gives cookie sort coconut type consistency let also remember tastes differ given opinion soft chewy cookies advertised not crispy cookies blurb would say crispy rather chewy happen like raw cookie dough however not see taste like raw cookie dough soft however confusion yes stick together soft cookies tend not individually wrapped would add cost oh yeah chocolate chip cookies tend somewhat sweet want something hard crisp suggest nabiso ginger snaps want cookie soft chewy tastes like combination chocolate oatmeal give try place second order'"
      ]
     },
     "execution_count": 24,
     "metadata": {
      "tags": []
     },
     "output_type": "execute_result"
    }
   ],
   "source": [
    "preprocessed_reviews[1500]"
   ]
  },
  {
   "cell_type": "code",
   "execution_count": 25,
   "metadata": {
    "colab": {
     "base_uri": "https://localhost:8080/",
     "height": 194
    },
    "colab_type": "code",
    "id": "axLt1vaeEzB_",
    "outputId": "1b7217d0-f7e7-45ee-bace-c27757cbc391"
   },
   "outputs": [
    {
     "data": {
      "text/html": [
       "<div>\n",
       "<style scoped>\n",
       "    .dataframe tbody tr th:only-of-type {\n",
       "        vertical-align: middle;\n",
       "    }\n",
       "\n",
       "    .dataframe tbody tr th {\n",
       "        vertical-align: top;\n",
       "    }\n",
       "\n",
       "    .dataframe thead th {\n",
       "        text-align: right;\n",
       "    }\n",
       "</style>\n",
       "<table border=\"1\" class=\"dataframe\">\n",
       "  <thead>\n",
       "    <tr style=\"text-align: right;\">\n",
       "      <th></th>\n",
       "      <th>Id</th>\n",
       "      <th>ProductId</th>\n",
       "      <th>UserId</th>\n",
       "      <th>ProfileName</th>\n",
       "      <th>HelpfulnessNumerator</th>\n",
       "      <th>HelpfulnessDenominator</th>\n",
       "      <th>Score</th>\n",
       "      <th>Time</th>\n",
       "      <th>Summary</th>\n",
       "      <th>Text</th>\n",
       "    </tr>\n",
       "  </thead>\n",
       "  <tbody>\n",
       "    <tr>\n",
       "      <th>2546</th>\n",
       "      <td>2774</td>\n",
       "      <td>B00002NCJC</td>\n",
       "      <td>A196AJHU9EASJN</td>\n",
       "      <td>Alex Chaffee</td>\n",
       "      <td>0</td>\n",
       "      <td>0</td>\n",
       "      <td>1</td>\n",
       "      <td>1282953600</td>\n",
       "      <td>thirty bucks?</td>\n",
       "      <td>Why is this $[...] when the same product is av...</td>\n",
       "    </tr>\n",
       "    <tr>\n",
       "      <th>2547</th>\n",
       "      <td>2775</td>\n",
       "      <td>B00002NCJC</td>\n",
       "      <td>A13RRPGE79XFFH</td>\n",
       "      <td>reader48</td>\n",
       "      <td>0</td>\n",
       "      <td>0</td>\n",
       "      <td>1</td>\n",
       "      <td>1281052800</td>\n",
       "      <td>Flies Begone</td>\n",
       "      <td>We have used the Victor fly bait for 3 seasons...</td>\n",
       "    </tr>\n",
       "    <tr>\n",
       "      <th>1145</th>\n",
       "      <td>1244</td>\n",
       "      <td>B00002Z754</td>\n",
       "      <td>A3B8RCEI0FXFI6</td>\n",
       "      <td>B G Chase</td>\n",
       "      <td>10</td>\n",
       "      <td>10</td>\n",
       "      <td>1</td>\n",
       "      <td>962236800</td>\n",
       "      <td>WOW Make your own 'slickers' !</td>\n",
       "      <td>I just received my shipment and could hardly w...</td>\n",
       "    </tr>\n",
       "    <tr>\n",
       "      <th>1146</th>\n",
       "      <td>1245</td>\n",
       "      <td>B00002Z754</td>\n",
       "      <td>A29Z5PI9BW2PU3</td>\n",
       "      <td>Robbie</td>\n",
       "      <td>7</td>\n",
       "      <td>7</td>\n",
       "      <td>1</td>\n",
       "      <td>961718400</td>\n",
       "      <td>Great Product</td>\n",
       "      <td>This was a really good idea and the final prod...</td>\n",
       "    </tr>\n",
       "    <tr>\n",
       "      <th>2942</th>\n",
       "      <td>3204</td>\n",
       "      <td>B000084DVR</td>\n",
       "      <td>A1UGDJP1ZJWVPF</td>\n",
       "      <td>T. Moore \"thoughtful reader\"</td>\n",
       "      <td>1</td>\n",
       "      <td>1</td>\n",
       "      <td>1</td>\n",
       "      <td>1177977600</td>\n",
       "      <td>Good stuff!</td>\n",
       "      <td>I'm glad my 45lb cocker/standard poodle puppy ...</td>\n",
       "    </tr>\n",
       "  </tbody>\n",
       "</table>\n",
       "</div>"
      ],
      "text/plain": [
       "        Id  ...                                               Text\n",
       "2546  2774  ...  Why is this $[...] when the same product is av...\n",
       "2547  2775  ...  We have used the Victor fly bait for 3 seasons...\n",
       "1145  1244  ...  I just received my shipment and could hardly w...\n",
       "1146  1245  ...  This was a really good idea and the final prod...\n",
       "2942  3204  ...  I'm glad my 45lb cocker/standard poodle puppy ...\n",
       "\n",
       "[5 rows x 10 columns]"
      ]
     },
     "execution_count": 25,
     "metadata": {
      "tags": []
     },
     "output_type": "execute_result"
    }
   ],
   "source": [
    "final.head()"
   ]
  },
  {
   "cell_type": "markdown",
   "metadata": {
    "colab_type": "text",
    "id": "0EC8q5mJDMmT"
   },
   "source": [
    "<h2><font color='red'>[3.2] Preprocessing Review Summary</font></h2>"
   ]
  },
  {
   "cell_type": "code",
   "execution_count": 26,
   "metadata": {
    "colab": {
     "base_uri": "https://localhost:8080/",
     "height": 35
    },
    "colab_type": "code",
    "id": "6SbHMZUmEsOy",
    "outputId": "47f3b75a-74df-44ac-89a2-bfcff7e435a5"
   },
   "outputs": [
    {
     "name": "stderr",
     "output_type": "stream",
     "text": [
      "100%|██████████| 4986/4986 [00:01<00:00, 3339.47it/s]\n"
     ]
    }
   ],
   "source": [
    "# Combining all the above stundents \n",
    "from tqdm import tqdm\n",
    "preprocessed_reviews_summary = []\n",
    "# tqdm is for printing the status bar\n",
    "for sentance in tqdm(final['Summary'].values):\n",
    "    sentance = re.sub(r\"http\\S+\", \"\", sentance)\n",
    "    sentance = BeautifulSoup(sentance, 'lxml').get_text()\n",
    "    sentance = decontracted(sentance)\n",
    "    sentance = re.sub(\"\\S*\\d\\S*\", \"\", sentance).strip()\n",
    "    sentance = re.sub('[^A-Za-z]+', ' ', sentance)\n",
    "    # https://gist.github.com/sebleier/554280\n",
    "    sentance = ' '.join(e.lower() for e in sentance.split() if e.lower() not in stopwords)\n",
    "    preprocessed_reviews_summary.append(sentance.strip())"
   ]
  },
  {
   "cell_type": "code",
   "execution_count": 27,
   "metadata": {
    "colab": {
     "base_uri": "https://localhost:8080/",
     "height": 35
    },
    "colab_type": "code",
    "id": "aKHAAsqkFH9Z",
    "outputId": "89191cff-ff3a-47fd-f58e-99cba5a92047"
   },
   "outputs": [
    {
     "data": {
      "text/plain": [
       "'thirty bucks'"
      ]
     },
     "execution_count": 27,
     "metadata": {
      "tags": []
     },
     "output_type": "execute_result"
    }
   ],
   "source": [
    "preprocessed_reviews_summary[0]"
   ]
  },
  {
   "cell_type": "code",
   "execution_count": 28,
   "metadata": {
    "colab": {
     "base_uri": "https://localhost:8080/",
     "height": 194
    },
    "colab_type": "code",
    "id": "bRPpHO2xFAUK",
    "outputId": "28ef6f12-f3bd-4cb7-8adc-d1d89e5f218b"
   },
   "outputs": [
    {
     "data": {
      "text/html": [
       "<div>\n",
       "<style scoped>\n",
       "    .dataframe tbody tr th:only-of-type {\n",
       "        vertical-align: middle;\n",
       "    }\n",
       "\n",
       "    .dataframe tbody tr th {\n",
       "        vertical-align: top;\n",
       "    }\n",
       "\n",
       "    .dataframe thead th {\n",
       "        text-align: right;\n",
       "    }\n",
       "</style>\n",
       "<table border=\"1\" class=\"dataframe\">\n",
       "  <thead>\n",
       "    <tr style=\"text-align: right;\">\n",
       "      <th></th>\n",
       "      <th>Id</th>\n",
       "      <th>ProductId</th>\n",
       "      <th>UserId</th>\n",
       "      <th>ProfileName</th>\n",
       "      <th>HelpfulnessNumerator</th>\n",
       "      <th>HelpfulnessDenominator</th>\n",
       "      <th>Score</th>\n",
       "      <th>Time</th>\n",
       "      <th>Summary</th>\n",
       "      <th>Text</th>\n",
       "    </tr>\n",
       "  </thead>\n",
       "  <tbody>\n",
       "    <tr>\n",
       "      <th>2546</th>\n",
       "      <td>2774</td>\n",
       "      <td>B00002NCJC</td>\n",
       "      <td>A196AJHU9EASJN</td>\n",
       "      <td>Alex Chaffee</td>\n",
       "      <td>0</td>\n",
       "      <td>0</td>\n",
       "      <td>1</td>\n",
       "      <td>1282953600</td>\n",
       "      <td>thirty bucks?</td>\n",
       "      <td>Why is this $[...] when the same product is av...</td>\n",
       "    </tr>\n",
       "    <tr>\n",
       "      <th>2547</th>\n",
       "      <td>2775</td>\n",
       "      <td>B00002NCJC</td>\n",
       "      <td>A13RRPGE79XFFH</td>\n",
       "      <td>reader48</td>\n",
       "      <td>0</td>\n",
       "      <td>0</td>\n",
       "      <td>1</td>\n",
       "      <td>1281052800</td>\n",
       "      <td>Flies Begone</td>\n",
       "      <td>We have used the Victor fly bait for 3 seasons...</td>\n",
       "    </tr>\n",
       "    <tr>\n",
       "      <th>1145</th>\n",
       "      <td>1244</td>\n",
       "      <td>B00002Z754</td>\n",
       "      <td>A3B8RCEI0FXFI6</td>\n",
       "      <td>B G Chase</td>\n",
       "      <td>10</td>\n",
       "      <td>10</td>\n",
       "      <td>1</td>\n",
       "      <td>962236800</td>\n",
       "      <td>WOW Make your own 'slickers' !</td>\n",
       "      <td>I just received my shipment and could hardly w...</td>\n",
       "    </tr>\n",
       "    <tr>\n",
       "      <th>1146</th>\n",
       "      <td>1245</td>\n",
       "      <td>B00002Z754</td>\n",
       "      <td>A29Z5PI9BW2PU3</td>\n",
       "      <td>Robbie</td>\n",
       "      <td>7</td>\n",
       "      <td>7</td>\n",
       "      <td>1</td>\n",
       "      <td>961718400</td>\n",
       "      <td>Great Product</td>\n",
       "      <td>This was a really good idea and the final prod...</td>\n",
       "    </tr>\n",
       "    <tr>\n",
       "      <th>2942</th>\n",
       "      <td>3204</td>\n",
       "      <td>B000084DVR</td>\n",
       "      <td>A1UGDJP1ZJWVPF</td>\n",
       "      <td>T. Moore \"thoughtful reader\"</td>\n",
       "      <td>1</td>\n",
       "      <td>1</td>\n",
       "      <td>1</td>\n",
       "      <td>1177977600</td>\n",
       "      <td>Good stuff!</td>\n",
       "      <td>I'm glad my 45lb cocker/standard poodle puppy ...</td>\n",
       "    </tr>\n",
       "  </tbody>\n",
       "</table>\n",
       "</div>"
      ],
      "text/plain": [
       "        Id  ...                                               Text\n",
       "2546  2774  ...  Why is this $[...] when the same product is av...\n",
       "2547  2775  ...  We have used the Victor fly bait for 3 seasons...\n",
       "1145  1244  ...  I just received my shipment and could hardly w...\n",
       "1146  1245  ...  This was a really good idea and the final prod...\n",
       "2942  3204  ...  I'm glad my 45lb cocker/standard poodle puppy ...\n",
       "\n",
       "[5 rows x 10 columns]"
      ]
     },
     "execution_count": 28,
     "metadata": {
      "tags": []
     },
     "output_type": "execute_result"
    }
   ],
   "source": [
    "final.head()"
   ]
  },
  {
   "cell_type": "code",
   "execution_count": 0,
   "metadata": {
    "colab": {},
    "colab_type": "code",
    "id": "CtSWARP_Fc2E"
   },
   "outputs": [],
   "source": [
    "final['preprocessed_text'] = preprocessed_reviews\n",
    "final['preprocessed_summary'] = preprocessed_reviews_summary"
   ]
  },
  {
   "cell_type": "code",
   "execution_count": 0,
   "metadata": {
    "colab": {
     "base_uri": "https://localhost:8080/",
     "height": 346
    },
    "colab_type": "code",
    "id": "9sOFDAttGBvt",
    "outputId": "50b820f3-58a8-4ebc-b96d-62928945349f"
   },
   "outputs": [
    {
     "data": {
      "text/html": [
       "<div>\n",
       "<style scoped>\n",
       "    .dataframe tbody tr th:only-of-type {\n",
       "        vertical-align: middle;\n",
       "    }\n",
       "\n",
       "    .dataframe tbody tr th {\n",
       "        vertical-align: top;\n",
       "    }\n",
       "\n",
       "    .dataframe thead th {\n",
       "        text-align: right;\n",
       "    }\n",
       "</style>\n",
       "<table border=\"1\" class=\"dataframe\">\n",
       "  <thead>\n",
       "    <tr style=\"text-align: right;\">\n",
       "      <th></th>\n",
       "      <th>Id</th>\n",
       "      <th>ProductId</th>\n",
       "      <th>UserId</th>\n",
       "      <th>ProfileName</th>\n",
       "      <th>HelpfulnessNumerator</th>\n",
       "      <th>HelpfulnessDenominator</th>\n",
       "      <th>Score</th>\n",
       "      <th>Time</th>\n",
       "      <th>Summary</th>\n",
       "      <th>Text</th>\n",
       "      <th>preprocessed_text</th>\n",
       "      <th>preprocessed_summary</th>\n",
       "    </tr>\n",
       "  </thead>\n",
       "  <tbody>\n",
       "    <tr>\n",
       "      <th>2546</th>\n",
       "      <td>2774</td>\n",
       "      <td>B00002NCJC</td>\n",
       "      <td>A196AJHU9EASJN</td>\n",
       "      <td>Alex Chaffee</td>\n",
       "      <td>0</td>\n",
       "      <td>0</td>\n",
       "      <td>1</td>\n",
       "      <td>1282953600</td>\n",
       "      <td>thirty bucks?</td>\n",
       "      <td>Why is this $[...] when the same product is av...</td>\n",
       "      <td>product available victor traps unreal course t...</td>\n",
       "      <td>thirty bucks</td>\n",
       "    </tr>\n",
       "    <tr>\n",
       "      <th>2547</th>\n",
       "      <td>2775</td>\n",
       "      <td>B00002NCJC</td>\n",
       "      <td>A13RRPGE79XFFH</td>\n",
       "      <td>reader48</td>\n",
       "      <td>0</td>\n",
       "      <td>0</td>\n",
       "      <td>1</td>\n",
       "      <td>1281052800</td>\n",
       "      <td>Flies Begone</td>\n",
       "      <td>We have used the Victor fly bait for 3 seasons...</td>\n",
       "      <td>used victor fly bait seasons ca not beat great...</td>\n",
       "      <td>flies begone</td>\n",
       "    </tr>\n",
       "    <tr>\n",
       "      <th>1145</th>\n",
       "      <td>1244</td>\n",
       "      <td>B00002Z754</td>\n",
       "      <td>A3B8RCEI0FXFI6</td>\n",
       "      <td>B G Chase</td>\n",
       "      <td>10</td>\n",
       "      <td>10</td>\n",
       "      <td>1</td>\n",
       "      <td>962236800</td>\n",
       "      <td>WOW Make your own 'slickers' !</td>\n",
       "      <td>I just received my shipment and could hardly w...</td>\n",
       "      <td>received shipment could hardly wait try produc...</td>\n",
       "      <td>wow make islickers</td>\n",
       "    </tr>\n",
       "    <tr>\n",
       "      <th>1146</th>\n",
       "      <td>1245</td>\n",
       "      <td>B00002Z754</td>\n",
       "      <td>A29Z5PI9BW2PU3</td>\n",
       "      <td>Robbie</td>\n",
       "      <td>7</td>\n",
       "      <td>7</td>\n",
       "      <td>1</td>\n",
       "      <td>961718400</td>\n",
       "      <td>Great Product</td>\n",
       "      <td>This was a really good idea and the final prod...</td>\n",
       "      <td>really good idea final product outstanding use...</td>\n",
       "      <td>great product</td>\n",
       "    </tr>\n",
       "    <tr>\n",
       "      <th>2942</th>\n",
       "      <td>3204</td>\n",
       "      <td>B000084DVR</td>\n",
       "      <td>A1UGDJP1ZJWVPF</td>\n",
       "      <td>T. Moore \"thoughtful reader\"</td>\n",
       "      <td>1</td>\n",
       "      <td>1</td>\n",
       "      <td>1</td>\n",
       "      <td>1177977600</td>\n",
       "      <td>Good stuff!</td>\n",
       "      <td>I'm glad my 45lb cocker/standard poodle puppy ...</td>\n",
       "      <td>glad cocker standard poodle puppy loves stuff ...</td>\n",
       "      <td>good stuff</td>\n",
       "    </tr>\n",
       "  </tbody>\n",
       "</table>\n",
       "</div>"
      ],
      "text/plain": [
       "        Id  ... preprocessed_summary\n",
       "2546  2774  ...         thirty bucks\n",
       "2547  2775  ...         flies begone\n",
       "1145  1244  ...   wow make islickers\n",
       "1146  1245  ...        great product\n",
       "2942  3204  ...           good stuff\n",
       "\n",
       "[5 rows x 12 columns]"
      ]
     },
     "execution_count": 30,
     "metadata": {
      "tags": []
     },
     "output_type": "execute_result"
    }
   ],
   "source": [
    "final.head()"
   ]
  },
  {
   "cell_type": "code",
   "execution_count": 0,
   "metadata": {
    "colab": {},
    "colab_type": "code",
    "id": "1f1N2GK0NQlE"
   },
   "outputs": [],
   "source": []
  },
  {
   "cell_type": "code",
   "execution_count": 0,
   "metadata": {
    "colab": {},
    "colab_type": "code",
    "id": "D3CUm_DRHp33"
   },
   "outputs": [],
   "source": [
    "final.to_csv(\"/content/drive/My Drive/amazon data/final.csv\", index=False)"
   ]
  },
  {
   "cell_type": "code",
   "execution_count": 0,
   "metadata": {
    "colab": {},
    "colab_type": "code",
    "id": "vQlaYBldcHtu"
   },
   "outputs": [],
   "source": [
    "# y = final['Score']\n",
    "# change = lambda x : 1 if x == 1 else 0\n",
    "# y = np.array([change(x) for x in y])"
   ]
  },
  {
   "cell_type": "code",
   "execution_count": 0,
   "metadata": {
    "colab": {},
    "colab_type": "code",
    "id": "km7IaFEJOtKB"
   },
   "outputs": [],
   "source": [
    "# vocab_train = dict()\n",
    "# for sent in x_train['preprocessed_text'].values:\n",
    "#     for word in sent.split():\n",
    "#         if word not in vocab_train.keys():\n",
    "#             vocab_train[word] = 1\n",
    "#         else:\n",
    "#             vocab_train[word] += 1"
   ]
  },
  {
   "cell_type": "code",
   "execution_count": 0,
   "metadata": {
    "colab": {
     "base_uri": "https://localhost:8080/",
     "height": 55
    },
    "colab_type": "code",
    "id": "JESGFWMSOtpR",
    "outputId": "e1c99108-d1fc-489b-fac1-b6feb57aee89"
   },
   "outputs": [
    {
     "name": "stdout",
     "output_type": "stream",
     "text": [
      "[('not', 3417), ('like', 1368), ('good', 1207), ('great', 1100), ('chips', 984), ('one', 909), ('product', 883), ('would', 866), ('taste', 859), ('food', 855), ('flavor', 808), ('love', 767), ('tea', 763), ('no', 673), ('coffee', 647), ('really', 577), ('get', 571), ('much', 558), ('amazon', 548), ('bag', 522), ('time', 513), ('also', 511), ('buy', 502), ('use', 501), ('find', 488), ('dog', 487), ('best', 481), ('little', 464), ('price', 429), ('well', 426), ('even', 425), ('better', 416), ('tried', 408), ('eat', 406), ('make', 404), ('try', 390), ('could', 357), ('mix', 347), ('first', 345), ('used', 337), ('water', 328), ('found', 322), ('sugar', 322), ('bought', 321), ('made', 308), ('salt', 306), ('flavors', 301), ('sweet', 298), ('recommend', 289), ('brand', 283), ('way', 283), ('store', 282), ('bags', 275), ('since', 273), ('many', 269), ('go', 268), ('delicious', 265), ('order', 264), ('box', 264), ('two', 259), ('free', 255), ('quality', 254), ('think', 252), ('snack', 249), ('without', 246), ('still', 243), ('potato', 243), ('favorite', 242), ('add', 239), ('know', 239), ('years', 238), ('healthy', 234), ('ever', 231), ('day', 229), ('nice', 229), ('say', 227), ('bit', 226), ('never', 226), ('got', 223), ('makes', 223), ('always', 223), ('easy', 221), ('right', 218), ('every', 217), ('give', 216), ('dogs', 214), ('ordered', 213), ('something', 213), ('ingredients', 212), ('eating', 212), ('products', 210), ('old', 208), ('organic', 208), ('loves', 206), ('chocolate', 206), ('drink', 205), ('perfect', 203), ('want', 202), ('regular', 197), ('lot', 195), ('small', 195), ('fresh', 195), ('local', 188), ('tasty', 188), ('excellent', 187), ('natural', 186), ('size', 185), ('less', 185), ('long', 184), ('enough', 182), ('enjoy', 182), ('sauce', 182), ('pack', 182), ('high', 181), ('using', 180), ('green', 179), ('hard', 178), ('kettle', 178), ('tastes', 177), ('put', 176), ('different', 175), ('need', 174), ('cookies', 174), ('stuff', 173), ('whole', 173), ('keep', 171), ('highly', 168), ('hot', 167), ('shipping', 166), ('brands', 166), ('anything', 166), ('bad', 166), ('per', 165), ('thing', 164), ('foods', 164), ('sure', 164), ('fat', 164), ('back', 162), ('cup', 162), ('year', 160), ('happy', 159), ('family', 159), ('though', 159), ('however', 157), ('calories', 157), ('low', 157), ('pretty', 156), ('new', 156), ('looking', 156), ('big', 155), ('definitely', 154), ('chip', 153), ('thought', 152), ('take', 152), ('buying', 151), ('wonderful', 148), ('case', 148), ('strong', 147), ('oil', 147), ('diet', 146), ('purchase', 146), ('work', 145), ('may', 144), ('away', 142), ('vinegar', 142), ('people', 141), ('almost', 141), ('far', 140), ('actually', 140), ('going', 139), ('chicken', 138), ('feel', 138), ('rice', 138), ('grocery', 137), ('stores', 137), ('purchased', 136), ('see', 135), ('reviews', 134), ('came', 133), ('expensive', 133), ('another', 131), ('home', 131), ('real', 129), ('usually', 128), ('texture', 127), ('company', 127), ('loved', 127), ('amount', 127), ('ones', 125), ('tasted', 125), ('newman', 125), ('variety', 124), ('worth', 123), ('around', 122), ('last', 121), ('package', 121), ('light', 121), ('problem', 119), ('several', 119), ('full', 119), ('things', 118), ('months', 117), ('us', 117), ('treat', 115), ('white', 113), ('husband', 113), ('cake', 112), ('money', 112), ('said', 111), ('instead', 110), ('cream', 110), ('open', 110), ('health', 110), ('quite', 109), ('added', 109), ('milk', 109), ('half', 108), ('look', 108), ('bitter', 108), ('weight', 108), ('calorie', 108), ('gluten', 108), ('ago', 107), ('nothing', 106), ('item', 106), ('juice', 106), ('especially', 106), ('received', 105), ('days', 105), ('come', 105), ('tasting', 104), ('salty', 104), ('arrived', 103), ('coconut', 103), ('comes', 102), ('three', 102), ('spicy', 102), ('corn', 100), ('everyone', 100), ('available', 99), ('able', 99), ('making', 99), ('decided', 99), ('probably', 98), ('works', 97), ('trying', 97), ('kind', 97), ('might', 97), ('decaf', 97), ('deal', 96), ('crunchy', 96), ('plus', 96), ('save', 96), ('getting', 96), ('black', 96), ('fruit', 96), ('couple', 95), ('licorice', 95), ('oz', 94), ('pepper', 94), ('son', 94), ('cheaper', 94), ('times', 93), ('seems', 93), ('started', 93), ('bread', 93), ('fact', 92), ('everything', 92), ('ordering', 92), ('liked', 92), ('snacks', 92), ('cat', 91), ('wish', 91), ('butter', 91), ('baby', 91), ('friends', 91), ('else', 90), ('candy', 90), ('popchips', 90), ('fine', 89), ('absolutely', 89), ('treats', 89), ('formula', 88), ('drinking', 87), ('gave', 87), ('others', 87), ('gift', 87), ('packaging', 87), ('large', 86), ('least', 86), ('problems', 86), ('blend', 86), ('crackers', 86), ('kids', 85), ('rather', 84), ('top', 84), ('review', 84), ('mouth', 84), ('although', 84), ('healthier', 84), ('energy', 82), ('read', 82), ('dry', 82), ('glad', 81), ('either', 81), ('honey', 81), ('fast', 80), ('recommended', 80), ('cats', 79), ('anyone', 79), ('plain', 79), ('wanted', 79), ('baked', 79), ('cookie', 79), ('alternative', 79), ('powder', 78), ('let', 78), ('believe', 78), ('crunch', 78), ('etc', 77), ('amazing', 77), ('serving', 77), ('went', 77), ('daughter', 76), ('recipe', 76), ('smell', 76), ('says', 75), ('market', 75), ('disappointed', 75), ('month', 75), ('pancakes', 75), ('single', 74), ('took', 74), ('likes', 74), ('thank', 73), ('side', 73), ('thanks', 73), ('bbq', 73), ('feed', 72), ('cut', 72), ('quick', 72), ('must', 72), ('morning', 72), ('flavored', 72), ('soy', 72), ('waffles', 72), ('bottle', 71), ('seem', 71), ('boxes', 71), ('mic', 71), ('cheese', 70), ('extra', 70), ('next', 70), ('maybe', 70), ('yet', 70), ('super', 69), ('protein', 69), ('original', 69), ('ground', 69), ('easily', 68), ('week', 68), ('service', 68), ('teas', 68), ('soup', 68), ('oreo', 68), ('icicle', 68), ('soft', 67), ('recently', 67), ('cost', 67), ('smooth', 67), ('syrup', 67), ('longer', 67), ('plastic', 67), ('stars', 66), ('looked', 66), ('care', 66), ('brown', 66), ('pop', 66), ('tomatoes', 66), ('pancake', 66), ('opened', 65), ('online', 65), ('beans', 65), ('red', 65), ('thin', 65), ('ginger', 65), ('rich', 65), ('prefer', 65), ('fan', 65), ('blue', 65), ('stevia', 65), ('waffle', 65), ('flavorful', 64), ('nuts', 64), ('weeks', 64), ('cans', 64), ('breakfast', 64), ('spice', 64), ('sour', 63), ('needed', 63), ('wheat', 63), ('grass', 63), ('course', 62), ('slightly', 62), ('ate', 62), ('second', 62), ('flour', 62), ('often', 61), ('feeding', 61), ('oatmeal', 61), ('live', 60), ('special', 60), ('meal', 60), ('yummy', 60), ('meat', 60), ('minutes', 60), ('sea', 60), ('canned', 60), ('packaged', 59), ('someone', 59), ('label', 59), ('along', 59), ('subscribe', 59), ('shipped', 58), ('dark', 58), ('goes', 58), ('cold', 58), ('past', 58), ('sodium', 58), ('cheap', 58), ('awesome', 58), ('life', 58), ('choice', 58), ('ingredient', 58), ('seeds', 58), ('tell', 58), ('enjoyed', 58), ('reason', 58), ('wrong', 57), ('hand', 57), ('pet', 57), ('part', 57), ('pieces', 56), ('heat', 56), ('place', 56), ('value', 56), ('line', 56), ('baking', 56), ('pleased', 56), ('melitta', 56), ('smaller', 55), ('quickly', 55), ('picky', 55), ('exactly', 55), ('delivery', 55), ('bottom', 55), ('type', 55), ('eaten', 54), ('cannot', 54), ('fish', 54), ('garlic', 54), ('pasta', 54), ('stomach', 54), ('please', 54), ('stick', 54), ('idea', 53), ('container', 53), ('color', 53), ('salad', 53), ('larger', 53), ('house', 53), ('christmas', 53), ('cups', 53), ('thick', 52), ('unfortunately', 52), ('sometimes', 52), ('saw', 52), ('ok', 52), ('packets', 52), ('purchasing', 52), ('crisp', 52), ('overall', 51), ('egg', 51), ('helps', 51), ('soon', 51), ('non', 51), ('issues', 51), ('given', 51), ('change', 51), ('finally', 51), ('pineapple', 51), ('aftertaste', 50), ('mixed', 50), ('bar', 50), ('bottles', 50), ('fantastic', 50), ('discovered', 50), ('bulk', 50), ('cereal', 50), ('packed', 50), ('name', 49), ('packs', 49), ('ice', 49), ('crispy', 49), ('clean', 49), ('packet', 49), ('stop', 49), ('looks', 49), ('noticed', 49), ('difference', 49), ('vanilla', 49), ('surprised', 49), ('gets', 48), ('broken', 48), ('inside', 48), ('aroma', 48), ('list', 48), ('peanut', 48), ('customer', 48), ('due', 48), ('expected', 48), ('drinks', 47), ('onion', 47), ('items', 47), ('dinner', 47), ('wife', 47), ('told', 47), ('difficult', 47), ('carry', 47), ('together', 47), ('cooking', 46), ('cook', 46), ('called', 46), ('set', 46), ('instant', 46), ('takes', 46), ('artificial', 46), ('help', 46), ('contain', 46), ('within', 45), ('pound', 45), ('mild', 45), ('six', 45), ('truly', 45), ('beef', 45), ('thai', 45), ('seasoning', 45), ('hope', 45), ('remember', 45), ('compared', 45), ('vet', 45), ('completely', 45), ('contains', 45), ('iced', 45), ('worked', 45), ('normal', 45), ('gives', 45), ('greasy', 45), ('control', 45), ('cheddar', 45), ('chowder', 45), ('mine', 44), ('later', 44), ('done', 44), ('anymore', 44), ('left', 44), ('tiny', 44), ('bowl', 44), ('close', 44), ('version', 44), ('sold', 44), ('expect', 44), ('popcorn', 44), ('usb', 44), ('adding', 43), ('potatoes', 43), ('stock', 43), ('none', 43), ('hit', 43), ('huge', 43), ('cakes', 43), ('pay', 43), ('needs', 43), ('experience', 43), ('end', 43), ('rest', 43), ('results', 43), ('higher', 43), ('website', 43), ('oh', 43), ('convenient', 43), ('switched', 43), ('stopped', 43), ('mini', 43), ('true', 43), ('changed', 43), ('cinnamon', 43), ('bars', 43), ('guess', 42), ('cooked', 42), ('serve', 42), ('continue', 42), ('recipes', 42), ('sound', 42), ('already', 42), ('com', 42), ('mixes', 42), ('simple', 42), ('note', 42), ('waste', 42), ('balance', 42), ('crisps', 42), ('olive', 42), ('beat', 41), ('unique', 41), ('run', 41), ('entire', 41), ('issue', 41), ('sent', 41), ('friend', 41), ('stale', 41), ('point', 41), ('maker', 41), ('mind', 41), ('yes', 41), ('wine', 41), ('apple', 41), ('lunch', 41), ('unless', 40), ('lots', 40), ('extremely', 40), ('locally', 40), ('night', 40), ('gone', 40), ('sale', 40), ('eats', 40), ('lemon', 40), ('area', 40), ('perfectly', 40), ('muffins', 40), ('giving', 40), ('varieties', 40), ('four', 39), ('sell', 39), ('start', 39), ('hours', 39), ('farms', 39), ('ounce', 39), ('individual', 39), ('impressed', 39), ('packages', 39), ('caffeine', 39), ('priced', 39), ('plan', 39), ('bite', 38), ('world', 38), ('similar', 38), ('allergy', 38), ('clam', 38), ('coat', 37), ('nicely', 37), ('reasonable', 37), ('five', 37), ('date', 37), ('bean', 37), ('fried', 37), ('based', 37), ('clear', 37), ('return', 37), ('keeps', 37), ('totally', 37), ('simply', 37), ('pot', 37), ('kit', 37), ('certainly', 37), ('stay', 37), ('short', 37), ('glass', 37), ('content', 37), ('allergies', 37), ('delivered', 37), ('become', 37), ('pods', 37), ('windows', 36), ('fun', 36), ('wow', 36), ('immediately', 36), ('anywhere', 36), ('mint', 36), ('leave', 36), ('refreshing', 36), ('sticks', 36), ('china', 36), ('grind', 36), ('suggest', 36), ('certified', 36), ('today', 36), ('usual', 35), ('sweetness', 35), ('reading', 35), ('party', 35), ('twice', 35), ('hooked', 35), ('favorites', 35), ('finding', 35), ('air', 35), ('easier', 35), ('somewhat', 35), ('bland', 35), ('raw', 35), ('seemed', 35), ('lower', 35), ('filling', 35), ('batch', 35), ('sardines', 35), ('nutrition', 34), ('condition', 34), ('option', 34), ('leaves', 34), ('combination', 34), ('msg', 34), ('cause', 34), ('brew', 34), ('except', 34), ('seen', 34), ('otherwise', 34), ('gum', 34), ('break', 34), ('cracker', 34), ('seed', 34), ('hate', 33), ('kitchen', 33), ('sauces', 33), ('fiber', 33), ('sort', 33), ('dish', 33), ('actual', 33), ('loose', 33), ('means', 33), ('source', 33), ('sweetener', 33), ('ounces', 33), ('soda', 33), ('n', 33), ('forward', 33), ('seller', 33), ('stash', 33), ('hint', 33), ('tuna', 33), ('plug', 33), ('standard', 32), ('puppy', 32), ('mostly', 32), ('eggs', 32), ('satisfied', 32), ('turned', 32), ('children', 32), ('peanuts', 32), ('person', 32), ('figured', 32), ('addition', 32), ('number', 32), ('heard', 32), ('allergic', 32), ('awful', 32), ('gas', 32), ('considering', 32), ('e', 32), ('rose', 32), ('roasted', 32), ('chewy', 32), ('grain', 32), ('mustard', 32), ('opinion', 32), ('pomegranate', 32), ('piece', 31), ('dried', 31), ('roast', 31), ('kick', 31), ('chance', 31), ('skin', 31), ('mean', 31), ('heavy', 31), ('portion', 31), ('gourmet', 31), ('level', 31), ('gain', 31), ('nearly', 31), ('daily', 31), ('notice', 31), ('reviewer', 31), ('excited', 31), ('perhaps', 31), ('satisfying', 31), ('spices', 31), ('subscription', 31), ('fair', 31), ('earth', 31), ('cherry', 31), ('shipment', 30), ('computer', 30), ('finish', 30), ('mill', 30), ('running', 30), ('c', 30), ('consider', 30), ('quantity', 30), ('whatever', 30), ('pounds', 30), ('digestive', 30), ('summer', 30), ('wrapped', 30), ('body', 30), ('machine', 30), ('form', 30), ('lays', 30), ('decent', 30), ('trans', 30), ('feels', 30), ('harmony', 30), ('pod', 30), ('throw', 29), ('vegetables', 29), ('trip', 29), ('star', 29), ('teeth', 29), ('anyway', 29), ('dip', 29), ('sized', 29), ('yum', 29), ('door', 29), ('important', 29), ('sensitive', 29), ('substitute', 29), ('training', 29), ('power', 29), ('calcium', 29), ('coffees', 29), ('felt', 29), ('thinking', 29), ('herbs', 29), ('expecting', 29), ('agree', 29), ('style', 29), ('call', 28), ('ship', 28), ('eater', 28), ('check', 28), ('particular', 28), ('process', 28), ('prime', 28), ('feeling', 28), ('drinker', 28), ('fed', 28), ('basically', 28), ('vitamin', 28), ('uses', 28), ('jar', 28), ('chew', 28), ('taking', 28), ('ask', 28), ('instructions', 28), ('ready', 28), ('intake', 28), ('snacking', 28), ('sandwich', 28), ('beer', 28), ('wait', 27), ('adds', 27), ('including', 27), ('beautiful', 27), ('outside', 27), ('upon', 27), ('veggies', 27), ('paid', 27), ('kinds', 27), ('record', 27), ('filled', 27), ('sealed', 27), ('straight', 27), ('normally', 27), ('liquid', 27), ('blood', 27), ('future', 27), ('site', 27), ('shape', 27), ('hold', 27), ('grow', 27), ('grams', 27), ('bits', 27), ('strawberry', 27), ('audio', 27), ('shop', 26), ('crazy', 26), ('description', 26), ('terrible', 26), ('fit', 26), ('restaurant', 26), ('directly', 26), ('lightly', 26), ('stuck', 26), ('horrible', 26), ('addicted', 26), ('base', 26), ('kept', 26), ('mother', 26), ('supposed', 26), ('stand', 26), ('helped', 26), ('middle', 26), ('servings', 26), ('switch', 26), ('junk', 26), ('nasty', 26), ('spread', 26), ('information', 26), ('sinus', 26), ('fairly', 26), ('trouble', 26), ('share', 26), ('craving', 26), ('nabisco', 26), ('weak', 26), ('homemade', 25), ('meals', 25), ('birthday', 25), ('dishes', 25), ('prices', 25), ('school', 25), ('personally', 25), ('overly', 25), ('science', 25), ('adult', 25), ('paying', 25), ('count', 25), ('main', 25), ('alone', 25), ('bigger', 25), ('deep', 25), ('office', 25), ('extract', 25), ('unlike', 25), ('bring', 25), ('weird', 25), ('mess', 25), ('processed', 25), ('melted', 25), ('grains', 25), ('oily', 25), ('nut', 25), ('pleasant', 25), ('flax', 25), ('consistency', 25), ('tend', 25), ('watchers', 25), ('p', 25), ('enjoying', 25), ('pocky', 25), ('recording', 25), ('turn', 24), ('minute', 24), ('gold', 24), ('leaf', 24), ('buffalo', 24), ('replacement', 24), ('brought', 24), ('plenty', 24), ('pure', 24), ('disease', 24), ('nutritional', 24), ('vegetable', 24), ('opening', 24), ('wants', 24), ('yogurt', 24), ('sweeteners', 24), ('shot', 24), ('san', 24), ('kibble', 24), ('known', 24), ('horses', 24), ('pick', 24), ('subtle', 24), ('cases', 24), ('pudding', 24), ('benefits', 24), ('convenience', 24), ('fluffy', 24), ('tart', 24), ('points', 24), ('clams', 24), ('lollipops', 24), ('total', 23), ('compare', 23), ('apart', 23), ('ended', 23), ('levels', 23), ('clearly', 23), ('multiple', 23), ('cute', 23), ('expiration', 23), ('cool', 23), ('chili', 23), ('pork', 23), ('play', 23), ('average', 23), ('personal', 23), ('mom', 23), ('hands', 23), ('splash', 23), ('guy', 23), ('reviewers', 23), ('avoid', 23), ('working', 23), ('became', 23), ('various', 23), ('listed', 23), ('research', 23), ('tired', 23), ('smells', 23), ('traditional', 23), ('carb', 23), ('carrying', 23), ('fence', 23), ('moist', 23), ('disappointing', 23), ('kid', 23), ('noodles', 23), ('knew', 23), ('states', 23), ('selling', 23), ('b', 23), ('oreos', 23), ('hodgson', 23), ('choose', 23), ('de', 22), ('fall', 22), ('chewing', 22), ('tablespoon', 22), ('salsa', 22), ('lost', 22), ('missing', 22), ('picked', 22), ('realized', 22), ('bunch', 22), ('fats', 22), ('animal', 22), ('older', 22), ('brewing', 22), ('warm', 22), ('forget', 22), ('putting', 22), ('nutritious', 22), ('sweetened', 22), ('individually', 22), ('french', 22), ('powdered', 22), ('guilt', 22), ('dessert', 22), ('companies', 22), ('salted', 22), ('matter', 22), ('burnt', 22), ('prepare', 22), ('tape', 22), ('frosting', 22), ('despite', 22), ('blueberry', 22), ('okay', 22), ('muffin', 22), ('cane', 22), ('barbecue', 22), ('tangy', 22), ('barbeque', 22), ('superior', 21), ('fill', 21), ('imagine', 21), ('types', 21), ('pan', 21), ('american', 21), ('containers', 21), ('served', 21), ('picture', 21), ('salads', 21), ('receive', 21), ('hour', 21), ('soups', 21), ('choices', 21), ('flavour', 21), ('realize', 21), ('hungry', 21), ('figure', 21), ('mention', 21), ('coming', 21), ('flavoring', 21), ('mrs', 21), ('poor', 21), ('folks', 21), ('advertised', 21), ('chemical', 21), ('double', 21), ('watch', 21), ('english', 21), ('particularly', 21), ('apparently', 21), ('sick', 21), ('dairy', 21), ('front', 21), ('offered', 21), ('shelf', 21), ('golden', 21), ('checked', 21), ('grown', 21), ('cakesters', 21), ('pamela', 21), ('jalapeno', 21), ('ca', 20), ('previous', 20), ('biscotti', 20), ('frozen', 20), ('town', 20), ('affordable', 20), ('heart', 20), ('terrific', 20), ('followed', 20), ('sounds', 20), ('asked', 20), ('w', 20), ('whenever', 20), ('supermarket', 20), ('worst', 20), ('human', 20), ('range', 20), ('worry', 20), ('nor', 20), ('candies', 20), ('jack', 20), ('system', 20), ('starbucks', 20), ('generally', 20), ('premium', 20), ('agave', 20), ('safe', 20), ('searching', 20), ('admit', 20), ('third', 20), ('understand', 20), ('rate', 20), ('surprise', 20), ('watching', 20), ('jars', 20), ('tin', 20), ('following', 20), ('originally', 20), ('caramel', 20), ('tomato', 20), ('bacon', 20), ('jelly', 20), ('shots', 20), ('maple', 20), ('pleasantly', 20), ('japanese', 20), ('lb', 20), ('almond', 19), ('tasteless', 19), ('zero', 19), ('complaint', 19), ('pre', 19), ('grew', 19), ('mail', 19), ('preservatives', 19), ('asian', 19), ('paste', 19), ('near', 19), ('mentioned', 19), ('dressing', 19), ('gotten', 19), ('sitting', 19), ('paper', 19), ('funny', 19), ('produced', 19), ('herbal', 19), ('supply', 19), ('send', 19), ('banana', 19), ('cents', 19), ('costs', 19), ('bodied', 19), ('beverage', 19), ('lover', 19), ('delightful', 19), ('bitterness', 19), ('concerned', 19), ('flat', 19), ('dollars', 19), ('breath', 19), ('brewed', 19), ('beware', 19), ('included', 19), ('post', 19), ('honestly', 19), ('reduced', 19), ('overpowering', 19), ('provides', 19), ('microwave', 19), ('scratch', 19), ('fix', 19), ('hoping', 19), ('alot', 19), ('across', 19), ('dense', 19), ('spend', 19), ('positive', 19), ('pricey', 19), ('mccann', 19), ('lbs', 18), ('basil', 18), ('business', 18), ('chinese', 18), ('handy', 18), ('saying', 18), ('common', 18), ('tummy', 18), ('acid', 18), ('gf', 18), ('liver', 18), ('medium', 18), ('bears', 18), ('trick', 18), ('ratio', 18), ('ran', 18), ('seriously', 18), ('sample', 18), ('lasts', 18), ('usa', 18), ('chemicals', 18), ('unable', 18), ('oats', 18), ('test', 18), ('wrappers', 18), ('pain', 18), ('cubes', 18), ('lack', 18), ('touch', 18), ('dont', 18), ('offer', 18), ('oils', 18), ('appreciate', 18), ('worse', 18), ('berry', 18), ('lamb', 18), ('decaffeinated', 18), ('sunset', 18), ('car', 17), ('cardboard', 17), ('table', 17), ('show', 17), ('moved', 17), ('doubt', 17), ('thicker', 17), ('slowly', 17), ('fridge', 17), ('chunks', 17), ('espresso', 17), ('hazelnut', 17), ('chocolates', 17), ('began', 17), ('literally', 17), ('pets', 17), ('newmans', 17), ('german', 17), ('sells', 17), ('evening', 17), ('pocket', 17), ('scent', 17), ('crumbs', 17), ('growing', 17), ('cafe', 17), ('winter', 17), ('vendor', 17), ('negative', 17), ('job', 17), ('page', 17), ('nose', 17), ('bake', 17), ('babies', 17), ('co', 17), ('lunches', 17), ('reasonably', 17), ('celiac', 17), ('careful', 17), ('update', 17), ('target', 17), ('bones', 17), ('g', 17), ('yellow', 17), ('keeping', 17), ('pour', 17), ('potassium', 17), ('salmon', 17), ('molasses', 17), ('marzano', 17), ('stonewall', 17), ('xlr', 17), ('cable', 17), ('program', 16), ('trust', 16), ('everyday', 16), ('commercial', 16), ('harder', 16), ('goodness', 16), ('living', 16), ('arrive', 16), ('spring', 16), ('authentic', 16), ('gross', 16), ('purpose', 16), ('saves', 16), ('center', 16), ('shown', 16), ('expectations', 16), ('orange', 16), ('threw', 16), ('senior', 16), ('naturally', 16), ('blends', 16), ('country', 16), ('lobster', 16), ('provide', 16), ('cholesterol', 16), ('replace', 16), ('likely', 16), ('allowed', 16), ('nustevia', 16), ('effects', 16), ('success', 16), ('honest', 16), ('terrier', 16), ('season', 16), ('steep', 16), ('popular', 16), ('unit', 16), ('creamy', 16), ('early', 16), ('consistent', 16), ('loaded', 16), ('similac', 16), ('room', 16), ('device', 16), ('stated', 16), ('possible', 16), ('fabulous', 16), ('tortilla', 16), ('mixing', 16), ('herb', 16), ('savory', 16), ('late', 16), ('wise', 16), ('kavli', 16), ('cajun', 16), ('merrick', 16), ('breed', 16), ('panda', 16), ('riviera', 16), ('outstanding', 15), ('shake', 15), ('toddler', 15), ('options', 15), ('slice', 15), ('internet', 15), ('miss', 15), ('search', 15), ('edible', 15), ('result', 15), ('staple', 15), ('introduced', 15), ('sandwiches', 15), ('dipping', 15), ('ways', 15), ('spoon', 15), ('seasoned', 15), ('beyond', 15), ('sorry', 15), ('consistently', 15), ('round', 15), ('colors', 15), ('lived', 15), ('drank', 15), ('afternoon', 15), ('beginning', 15), ('wellness', 15), ('rancid', 15), ('elsewhere', 15), ('example', 15), ('drop', 15), ('purse', 15), ('happens', 15), ('recent', 15), ('sugary', 15), ('happened', 15), ('iron', 15), ('thinks', 15), ('fell', 15), ('plant', 15), ('tooth', 15), ('amounts', 15), ('nectar', 15), ('child', 15), ('boy', 15), ('lose', 15), ('certain', 15), ('prepared', 15), ('tight', 15), ('happen', 15), ('carried', 15), ('em', 15), ('thrilled', 15), ('lovers', 15), ('father', 15), ('melt', 15), ('loaf', 15), ('taken', 15), ('strange', 15), ('somewhere', 15), ('wafer', 15), ('pops', 15), ('considered', 15), ('obviously', 15), ('belgian', 15), ('directions', 15), ('uncle', 15), ('raspberry', 15), ('condenser', 15), ('gevalia', 15), ('hardly', 14), ('cocker', 14), ('cocoa', 14), ('earlier', 14), ('stir', 14), ('enjoys', 14), ('classic', 14), ('south', 14), ('rolls', 14), ('pull', 14), ('exact', 14), ('discount', 14), ('freezer', 14), ('terms', 14), ('general', 14), ('garbage', 14), ('evo', 14), ('diagnosed', 14), ('support', 14), ('switching', 14), ('wont', 14), ('iams', 14), ('animals', 14), ('sense', 14), ('shared', 14), ('satisfy', 14), ('timely', 14), ('gravy', 14), ('travel', 14), ('overwhelming', 14), ('fructose', 14), ('include', 14), ('collection', 14), ('finished', 14), ('sip', 14), ('buds', 14), ('effect', 14), ('odd', 14), ('sugars', 14), ('additives', 14), ('girl', 14), ('upset', 14), ('complaints', 14), ('bubble', 14), ('r', 14), ('guests', 14), ('bites', 14), ('state', 14), ('major', 14), ('starting', 14), ('brother', 14), ('bucks', 14), ('consume', 14), ('trips', 14), ('purina', 14), ('remove', 14), ('u', 14), ('present', 14), ('surprisingly', 14), ('afraid', 14), ('k', 14), ('graham', 14), ('curry', 14), ('flaxseed', 14), ('fruits', 14), ('omega', 14), ('absolute', 14), ('learned', 14), ('complete', 14), ('scissors', 14), ('apples', 14), ('community', 14), ('balanced', 14), ('dijon', 14), ('dented', 14), ('fillers', 14), ('dirty', 14), ('pear', 14), ('thyme', 14), ('knob', 14), ('software', 14), ('dop', 14), ('stools', 13), ('coats', 13), ('barely', 13), ('virtually', 13), ('cover', 13), ('pizza', 13), ('basis', 13), ('california', 13), ('superb', 13), ('oven', 13), ('hershey', 13), ('italy', 13), ('grab', 13), ('lives', 13), ('desk', 13), ('vitamins', 13), ('allow', 13), ('oldest', 13), ('active', 13), ('regularly', 13), ('royal', 13), ('luck', 13), ('palatable', 13), ('consumption', 13), ('mints', 13), ('chose', 13), ('walk', 13), ('sit', 13), ('opposed', 13), ('knows', 13), ('aid', 13), ('nutrients', 13), ('disgusting', 13), ('cant', 13), ('seasonings', 13), ('vacation', 13), ('covered', 13), ('splenda', 13), ('yeah', 13), ('ahead', 13), ('hated', 13), ('anytime', 13), ('unhealthy', 13), ('story', 13), ('adults', 13), ('sister', 13), ('pass', 13), ('produce', 13), ('throughout', 13), ('pressure', 13), ('empty', 13), ('italian', 13), ('preference', 13), ('lovely', 13), ('effective', 13), ('noise', 13), ('write', 13), ('age', 13), ('shame', 13), ('dha', 13), ('law', 13), ('portable', 13), ('step', 13), ('solid', 13), ('separate', 13), ('manufacturer', 13), ('response', 13), ('pie', 13), ('enjoyable', 13), ('suggested', 13), ('flaxseeds', 13), ('sprinkle', 13), ('lighter', 13), ('additional', 13), ('disappointment', 13), ('root', 13), ('starts', 13), ('stays', 13), ('blueberries', 13), ('describe', 13), ('complained', 13), ('consuming', 13), ('via', 13), ('yeast', 13), ('specific', 13), ('friendly', 13), ('yuban', 13), ('eyes', 13), ('worried', 13), ('england', 13), ('damaged', 13), ('typically', 13), ('peppermint', 13), ('popped', 13), ('monthly', 13), ('roland', 13), ('shiny', 13), ('plum', 13), ('grey', 13), ('gummy', 13), ('senseo', 13), ('nearby', 12), ('designed', 12), ('labels', 12), ('owner', 12), ('bill', 12), ('consumed', 12), ('misleading', 12), ('dust', 12), ('economical', 12), ('hole', 12), ('loss', 12), ('weather', 12), ('sweets', 12), ('lime', 12), ('cilantro', 12), ('lol', 12), ('mg', 12), ('coating', 12), ('chopped', 12), ('refrigerator', 12), ('almonds', 12), ('returned', 12), ('runs', 12), ('sesame', 12), ('jerky', 12), ('term', 12), ('typical', 12), ('incredible', 12), ('gallon', 12), ('ten', 12), ('serious', 12), ('lab', 12), ('mistake', 12), ('interesting', 12), ('required', 12), ('cravings', 12), ('manner', 12), ('heaven', 12), ('peach', 12), ('kosher', 12), ('contact', 12), ('regret', 12), ('improved', 12), ('readily', 12), ('web', 12), ('bargain', 12), ('drip', 12), ('guys', 12), ('smelled', 12), ('sweeter', 12), ('comparison', 12), ('lid', 12), ('increase', 12), ('zip', 12), ('goods', 12), ('throwing', 12), ('sleep', 12), ('numerous', 12), ('pouch', 12), ('stocking', 12), ('carries', 12), ('felidae', 12), ('happier', 12), ('formulas', 12), ('retail', 12), ('design', 12), ('charger', 12), ('metal', 12), ('wanting', 12), ('photo', 12), ('solution', 12), ('supplier', 12), ('habit', 12), ('contacted', 12), ('softer', 12), ('visit', 12), ('rarely', 12), ('sticky', 12), ('rye', 12), ('pleasing', 12), ('grinding', 12), ('regarding', 12), ('partially', 12), ('email', 12), ('granted', 12), ('supermarkets', 12), ('flower', 12), ('forever', 12), ('young', 12), ('asparagus', 12), ('carrot', 12), ('face', 12), ('wafers', 12), ('cal', 12), ('remind', 12), ('boost', 12), ('according', 12), ('colored', 12), ('savor', 12), ('delicate', 12), ('brownies', 12), ('guilty', 12), ('basic', 12), ('requires', 12), ('searched', 12), ('tender', 12), ('period', 12), ('supplement', 12), ('holes', 12), ('truffle', 12), ('custard', 12), ('concentrate', 12), ('dulce', 12), ('cento', 12), ('organics', 12), ('caviar', 12), ('phantom', 12), ('driver', 12), ('mics', 12), ('olives', 12), ('grape', 12), ('everywhere', 11), ('onions', 11), ('occasional', 11), ('closer', 11), ('themed', 11), ('allows', 11), ('knowing', 11), ('faster', 11), ('ploy', 11), ('burn', 11), ('turkey', 11), ('addicting', 11), ('toss', 11), ('depending', 11), ('rating', 11), ('pantry', 11), ('mellow', 11), ('hey', 11), ('learn', 11), ('handle', 11), ('whether', 11), ('dad', 11), ('floor', 11), ('favor', 11), ('claims', 11), ('appears', 11), ('slight', 11), ('stronger', 11), ('wet', 11), ('wholesome', 11), ('firm', 11), ('reach', 11), ('customers', 11), ('flakes', 11), ('freshness', 11), ('drawback', 11), ('wonders', 11), ('afford', 11), ('costa', 11), ('rica', 11), ('delighted', 11), ('bold', 11), ('teaspoon', 11), ('buyer', 11), ('charge', 11), ('therefore', 11), ('vs', 11), ('fda', 11), ('rolled', 11), ('fragile', 11), ('corner', 11), ('packing', 11), ('spent', 11), ('dirt', 11), ('ear', 11), ('neither', 11), ('helpful', 11), ('miles', 11), ('sending', 11), ('punch', 11), ('boys', 11), ('awhile', 11), ('infant', 11), ('setting', 11), ('setup', 11), ('posts', 11), ('require', 11), ('feet', 11), ('backyard', 11), ('promptly', 11), ('drops', 11), ('described', 11), ('counter', 11), ('topping', 11), ('damage', 11), ('shaped', 11), ('benefit', 11), ('tastier', 11), ('grinder', 11), ('dough', 11), ('wonderfully', 11), ('hydrogenated', 11), ('bird', 11), ('comments', 11), ('volume', 11), ('interested', 11), ('ahoy', 11), ('slices', 11), ('stored', 11), ('batter', 11), ('brownie', 11), ('refund', 11), ('gingerbread', 11), ('hines', 11), ('lay', 11), ('bills', 11), ('seconds', 11), ('severe', 11), ('stands', 11), ('harbor', 11), ('caused', 11), ('plants', 11), ('buttermilk', 11), ('dollar', 11), ('walmart', 11), ('leche', 11), ('turns', 11), ('ahmad', 11), ('signal', 11), ('pc', 11), ('microphone', 11), ('ray', 11), ('sojos', 11), ('poodle', 10), ('charges', 10), ('dissolve', 10), ('additive', 10), ('rated', 10), ('inexpensive', 10), ('sausage', 10), ('peas', 10), ('saved', 10), ('ups', 10), ('wedding', 10), ('amazed', 10), ('ball', 10), ('mae', 10), ('claim', 10), ('marinade', 10), ('roll', 10), ('meats', 10), ('shure', 10), ('thus', 10), ('beats', 10), ('gifts', 10), ('bonus', 10), ('acidic', 10), ('specifically', 10), ('throat', 10), ('kidding', 10), ('lock', 10), ('properly', 10), ('prescription', 10), ('phosphorus', 10), ('diarrhea', 10), ('noted', 10), ('contents', 10), ('digest', 10), ('constantly', 10), ('move', 10), ('penny', 10), ('seal', 10), ('eye', 10), ('sales', 10), ('opportunity', 10), ('kellogg', 10), ('boring', 10), ('crap', 10), ('bother', 10), ('beverages', 10), ('skeptical', 10), ('auto', 10), ('naturals', 10), ('dates', 10), ('maltodextrin', 10), ('thrown', 10), ('cutting', 10), ('bone', 10), ('word', 10), ('decide', 10), ('placed', 10), ('aside', 10), ('itching', 10), ('voice', 10), ('talk', 10), ('club', 10), ('road', 10), ('provided', 10), ('eaters', 10), ('entirely', 10), ('frequently', 10), ('shocked', 10), ('containing', 10), ('horse', 10), ('electric', 10), ('camping', 10), ('pictures', 10), ('contained', 10), ('limit', 10), ('wasted', 10), ('drive', 10), ('fingers', 10), ('sunflower', 10), ('bob', 10), ('google', 10), ('mays', 10), ('united', 10), ('hair', 10), ('manufactured', 10), ('current', 10), ('incredibly', 10), ('aware', 10), ('didnt', 10), ('grease', 10), ('watery', 10), ('brings', 10), ('wrap', 10), ('book', 10), ('yr', 10), ('tongue', 10), ('icing', 10), ('toast', 10), ('belly', 10), ('impossible', 10), ('baker', 10), ('european', 10), ('powering', 10), ('thickness', 10), ('unsalted', 10), ('sizes', 10), ('risk', 10), ('meet', 10), ('shows', 10), ('smoke', 10), ('afterwards', 10), ('york', 10), ('addict', 10), ('diamond', 10), ('rare', 10), ('pringles', 10), ('pressed', 10), ('holds', 10), ('spoiled', 10), ('man', 10), ('cheapest', 10), ('vomiting', 10), ('bright', 10), ('flowers', 10), ('sassafras', 10), ('duncan', 10), ('mueslix', 10), ('earl', 10), ('jerk', 10), ('creamer', 10), ('preamp', 10), ('martini', 10), ('acai', 10), ('stinky', 9), ('fruity', 9), ('additionally', 9), ('finicky', 9), ('busy', 9), ('shopping', 9), ('city', 9), ('pouches', 9), ('onto', 9), ('pictured', 9), ('freeze', 9), ('skins', 9), ('sliced', 9), ('vegetarian', 9), ('tablespoons', 9), ('fully', 9), ('dislike', 9), ('exotic', 9), ('layer', 9), ('reliable', 9), ('household', 9), ('prompt', 9), ('tips', 9), ('exceptional', 9), ('mixture', 9), ('initial', 9), ('attention', 9), ('developed', 9), ('recommendation', 9), ('hear', 9), ('reminds', 9), ('bisquick', 9), ('messy', 9), ('ton', 9), ('youngest', 9), ('concerns', 9), ('death', 9), ('needless', 9), ('saving', 9), ('malt', 9), ('grade', 9), ('pleasure', 9), ('markets', 9), ('fussy', 9), ('press', 9), ('equal', 9), ('nunaturals', 9), ('increased', 9), ('raise', 9), ('whose', 9), ('parts', 9), ('alcohol', 9), ('diabetic', 9), ('sweetner', 9), ('dissolves', 9), ('biscuits', 9), ('owners', 9), ('boyfriend', 9), ('rock', 9), ('eve', 9), ('fortune', 9), ('skip', 9), ('relief', 9), ('rid', 9), ('posted', 9), ('wide', 9), ('met', 9), ('movie', 9), ('costco', 9), ('match', 9), ('wholesale', 9), ('pros', 9), ('owned', 9), ('liking', 9), ('x', 9), ('fits', 9), ('kits', 9), ('soil', 9), ('showed', 9), ('somehow', 9), ('fattening', 9), ('flavorings', 9), ('choke', 9), ('whipped', 9), ('fancy', 9), ('childhood', 9), ('nutrient', 9), ('muesli', 9), ('written', 9), ('crumble', 9), ('pumpkin', 9), ('occasionally', 9), ('offering', 9), ('stage', 9), ('runny', 9), ('instantly', 9), ('poop', 9), ('combo', 9), ('greatest', 9), ('helping', 9), ('mushy', 9), ('caramels', 9), ('ladies', 9), ('inches', 9), ('spot', 9), ('creme', 9), ('sign', 9), ('comparable', 9), ('cooks', 9), ('jam', 9), ('calls', 9), ('nature', 9), ('tbsp', 9), ('expired', 9), ('info', 9), ('crust', 9), ('useful', 9), ('mountain', 9), ('el', 9), ('discontinued', 9), ('mid', 9), ('behind', 9), ('addictive', 9), ('vending', 9), ('importantly', 9), ('starch', 9), ('indeed', 9), ('yuck', 9), ('snow', 9), ('occasion', 9), ('secret', 9), ('yesterday', 9), ('dogfood', 9), ('complain', 9), ('mug', 9), ('equally', 9), ('tube', 9), ('dressings', 9), ('comment', 9), ('closed', 9), ('budget', 9), ('spaniel', 9), ('sports', 9), ('juices', 9), ('squeeze', 9), ('follow', 9), ('farmhouse', 9), ('cashews', 9), ('interface', 9), ('twizzlers', 9), ('glycemic', 9), ('steaz', 9), ('vernor', 9), ('ale', 9), ('salts', 9), ('reward', 8), ('coated', 8), ('skillet', 8), ('mac', 8), ('drivers', 8), ('rave', 8), ('im', 8), ('sprinkled', 8), ('create', 8), ('soak', 8), ('wondered', 8), ('becoming', 8), ('shrimp', 8), ('latest', 8), ('plate', 8), ('ketchup', 8), ('split', 8), ('grilled', 8), ('class', 8), ('favors', 8), ('holiday', 8), ('fortunes', 8), ('lasted', 8), ('schedule', 8), ('digestion', 8), ('cracked', 8), ('spots', 8), ('attractive', 8), ('wake', 8), ('sad', 8), ('carbohydrate', 8), ('failure', 8), ('closest', 8), ('facts', 8), ('puree', 8), ('mornings', 8), ('brews', 8), ('joy', 8), ('girlfriend', 8), ('downside', 8), ('aspartame', 8), ('dietary', 8), ('bananas', 8), ('slow', 8), ('britt', 8), ('arabica', 8), ('aunt', 8), ('eventually', 8), ('concentrated', 8), ('desserts', 8), ('thoroughly', 8), ('symptoms', 8), ('tsp', 8), ('breads', 8), ('previously', 8), ('improvement', 8), ('twist', 8), ('consumer', 8), ('storage', 8), ('crumbly', 8), ('born', 8), ('bed', 8), ('commented', 8), ('ill', 8), ('tons', 8), ('moderate', 8), ('sore', 8), ('suffer', 8), ('ears', 8), ('question', 8), ('farm', 8), ('lacks', 8), ('parties', 8), ('discover', 8), ('parmesan', 8), ('skinless', 8), ('overweight', 8), ('fur', 8), ('lactose', 8), ('ara', 8), ('tax', 8), ('recall', 8), ('doctor', 8), ('lines', 8), ('winner', 8), ('locate', 8), ('tempted', 8), ('sadly', 8), ('sturdy', 8), ('begin', 8), ('occasions', 8), ('worker', 8), ('forgot', 8), ('lips', 8), ('topped', 8), ('fresher', 8), ('dieting', 8), ('joe', 8), ('crushed', 8), ('glaze', 8), ('garage', 8), ('gotta', 8), ('wrote', 8), ('standards', 8), ('deceptive', 8), ('agreed', 8), ('cow', 8), ('boot', 8), ('refused', 8), ('bpa', 8), ('telling', 8), ('proteins', 8), ('arrives', 8), ('trade', 8), ('antibiotics', 8), ('prevent', 8), ('minus', 8), ('besides', 8), ('letting', 8), ('rough', 8), ('experienced', 8), ('generous', 8), ('hates', 8), ('among', 8), ('currently', 8), ('oolong', 8), ('fishy', 8), ('appear', 8), ('ole', 8), ('smoked', 8), ('palate', 8), ('fewer', 8), ('smoky', 8), ('cons', 8), ('mass', 8), ('ruin', 8), ('replaced', 8), ('loving', 8), ('hopefully', 8), ('l', 8), ('signed', 8), ('snob', 8), ('solomon', 8), ('semi', 8), ('breaking', 8), ('bisque', 8), ('modified', 8), ('savings', 8), ('includes', 8), ('luzianne', 8), ('con', 8), ('diced', 8), ('badly', 8), ('refined', 8), ('adopted', 8), ('background', 8), ('strawberries', 8), ('la', 8), ('systemic', 8), ('cleared', 8), ('argentina', 8), ('doggie', 8), ('anti', 8), ('bowel', 8), ('planted', 8), ('reaction', 8), ('japan', 8), ('weekend', 8), ('writing', 8), ('sounded', 8), ('laptop', 8), ('baronet', 8), ('watcher', 8), ('munchos', 8), ('enfamil', 8), ('electrolytes', 8), ('erin', 8), ('tv', 7), ('everybody', 7), ('asks', 7), ('compact', 7), ('approximately', 7), ('complaining', 7), ('dinners', 7), ('shipments', 7), ('head', 7), ('smokey', 7), ('florida', 7), ('toys', 7), ('grandson', 7), ('styrofoam', 7), ('orders', 7), ('fries', 7), ('advice', 7), ('conventional', 7), ('chef', 7), ('condiment', 7), ('multi', 7), ('pouring', 7), ('pinch', 7), ('burgers', 7), ('serves', 7), ('restaurants', 7), ('places', 7), ('strips', 7), ('europe', 7), ('versus', 7), ('intact', 7), ('toy', 7), ('ideal', 7), ('dozen', 7), ('reduce', 7), ('factory', 7), ('spilled', 7), ('innova', 7), ('snap', 7), ('dandruff', 7), ('nobody', 7), ('grateful', 7), ('sites', 7), ('components', 7), ('regardless', 7), ('trash', 7), ('appealing', 7), ('track', 7), ('tool', 7), ('chamomile', 7), ('teabags', 7), ('scoop', 7), ('grandmother', 7), ('march', 7), ('snapple', 7), ('excessive', 7), ('carbs', 7), ('maintain', 7), ('medicinal', 7), ('liter', 7), ('deserve', 7), ('hide', 7), ('lowest', 7), ('stove', 7), ('tolerate', 7), ('causes', 7), ('headaches', 7), ('becomes', 7), ('heated', 7), ('sweeten', 7), ('game', 7), ('ny', 7), ('smoothies', 7), ('biscuit', 7), ('significant', 7), ('meant', 7), ('moving', 7), ('planning', 7), ('infection', 7), ('steal', 7), ('affect', 7), ('cough', 7), ('pa', 7), ('continued', 7), ('correct', 7), ('pretzels', 7), ('utz', 7), ('offers', 7), ('boneless', 7), ('related', 7), ('prior', 7), ('fixed', 7), ('situation', 7), ('saver', 7), ('relatively', 7), ('substantial', 7), ('allowing', 7), ('section', 7), ('minerals', 7), ('selection', 7), ('insanity', 7), ('wooden', 7), ('burning', 7), ('intense', 7), ('fans', 7), ('luckily', 7), ('prefers', 7), ('slim', 7), ('missed', 7), ('holidays', 7), ('jello', 7), ('limited', 7), ('news', 7), ('heavier', 7), ('suppose', 7), ('ability', 7), ('fond', 7), ('resemble', 7), ('carefully', 7), ('workers', 7), ('mart', 7), ('tofu', 7), ('practices', 7), ('carbon', 7), ('dr', 7), ('tested', 7), ('correctly', 7), ('portions', 7), ('adore', 7), ('leaving', 7), ('carton', 7), ('j', 7), ('assuming', 7), ('dissapointed', 7), ('purchases', 7), ('reminded', 7), ('waiting', 7), ('halloween', 7), ('explain', 7), ('liquor', 7), ('reasons', 7), ('history', 7), ('enjoyment', 7), ('crave', 7), ('advantage', 7), ('measured', 7), ('thinner', 7), ('thins', 7), ('poorly', 7), ('raised', 7), ('measure', 7), ('stumbled', 7), ('thats', 7), ('carrots', 7), ('walnuts', 7), ('batches', 7), ('seven', 7), ('smelling', 7), ('irish', 7), ('preparation', 7), ('teriyaki', 7), ('broke', 7), ('hearty', 7), ('minimal', 7), ('soooo', 7), ('advertising', 7), ('suspect', 7), ('sides', 7), ('soaked', 7), ('anyways', 7), ('inc', 7), ('lingering', 7), ('god', 7), ('ultimate', 7), ('immediate', 7), ('select', 7), ('gonna', 7), ('ranch', 7), ('method', 7), ('pairing', 7), ('wild', 7), ('india', 7), ('raisins', 7), ('specialty', 7), ('cross', 7), ('length', 7), ('adjust', 7), ('complex', 7), ('hassle', 7), ('smoother', 7), ('forms', 7), ('card', 7), ('wines', 7), ('convinced', 7), ('charity', 7), ('shih', 7), ('hormones', 7), ('heavily', 7), ('antioxidants', 7), ('pitcher', 7), ('drinkers', 7), ('shepherd', 7), ('reference', 7), ('pro', 7), ('revolution', 7), ('america', 7), ('flimsy', 7), ('plugged', 7), ('hum', 7), ('mixer', 7), ('assorted', 7), ('parent', 7), ('swiss', 7), ('yolk', 7), ('filter', 7), ('bluegrass', 7), ('bully', 7), ('printed', 6), ('final', 6), ('associated', 6), ('blender', 6), ('useless', 6), ('indian', 6), ('spinach', 6), ('saute', 6), ('compares', 6), ('die', 6), ('shelves', 6), ('salsas', 6), ('created', 6), ('sheen', 6), ('golf', 6), ('balls', 6), ('boiling', 6), ('changing', 6), ('visiting', 6), ('sooo', 6), ('peppers', 6), ('enhances', 6), ('key', 6), ('appropriate', 6), ('gram', 6), ('hits', 6), ('quinoa', 6), ('combine', 6), ('brush', 6), ('tough', 6), ('extreme', 6), ('giant', 6), ('self', 6), ('fool', 6), ('daughters', 6), ('employees', 6), ('pg', 6), ('drunk', 6), ('basket', 6), ('durable', 6), ('kinda', 6), ('initially', 6), ('coupons', 6), ('measuring', 6), ('indoor', 6), ('percent', 6), ('tells', 6), ('encountered', 6), ('chronic', 6), ('acceptable', 6), ('gained', 6), ('researched', 6), ('younger', 6), ('minced', 6), ('promise', 6), ('shelter', 6), ('dead', 6), ('proven', 6), ('exclusively', 6), ('automatic', 6), ('desert', 6), ('celery', 6), ('urge', 6), ('pup', 6), ('pups', 6), ('bathroom', 6), ('scary', 6), ('iraq', 6), ('manage', 6), ('saturated', 6), ('vacuum', 6), ('pulled', 6), ('shower', 6), ('blah', 6), ('till', 6), ('hotel', 6), ('grows', 6), ('tbs', 6), ('reorder', 6), ('fight', 6), ('portability', 6), ('depends', 6), ('sweetening', 6), ('message', 6), ('hundreds', 6), ('possibly', 6), ('lemonade', 6), ('gmo', 6), ('consumers', 6), ('reported', 6), ('production', 6), ('cigars', 6), ('hibiscus', 6), ('periods', 6), ('lately', 6), ('primary', 6), ('refer', 6), ('promised', 6), ('earthy', 6), ('nasal', 6), ('congestion', 6), ('buster', 6), ('sooner', 6), ('receiving', 6), ('caring', 6), ('fake', 6), ('skinny', 6), ('happily', 6), ('canidae', 6), ('reactions', 6), ('gassy', 6), ('colic', 6), ('manufacturing', 6), ('willing', 6), ('rescue', 6), ('familiar', 6), ('effort', 6), ('performance', 6), ('connect', 6), ('duty', 6), ('attempt', 6), ('challenge', 6), ('fault', 6), ('recieved', 6), ('grandchildren', 6), ('soothing', 6), ('fragrance', 6), ('mango', 6), ('nachos', 6), ('merchandise', 6), ('handful', 6), ('fav', 6), ('stress', 6), ('neighbor', 6), ('toasted', 6), ('imagination', 6), ('brainer', 6), ('station', 6), ('pronounced', 6), ('wal', 6), ('talking', 6), ('trader', 6), ('variation', 6), ('clumped', 6), ('preferences', 6), ('storing', 6), ('maximum', 6), ('buttery', 6), ('vegan', 6), ('diets', 6), ('healthiest', 6), ('tastiest', 6), ('address', 6), ('critical', 6), ('members', 6), ('oregon', 6), ('scare', 6), ('held', 6), ('garden', 6), ('kroger', 6), ('wished', 6), ('delight', 6), ('yadda', 6), ('mush', 6), ('spaghetti', 6), ('girls', 6), ('sharp', 6), ('equivalent', 6), ('ham', 6), ('lacking', 6), ('avid', 6), ('moment', 6), ('spearmint', 6), ('indulgence', 6), ('alternatives', 6), ('controlled', 6), ('thoughts', 6), ('chocolatey', 6), ('wrapper', 6), ('traveling', 6), ('preferred', 6), ('airy', 6), ('fail', 6), ('group', 6), ('marketing', 6), ('constant', 6), ('crispbread', 6), ('powdery', 6), ('toppings', 6), ('cupboard', 6), ('error', 6), ('id', 6), ('whip', 6), ('def', 6), ('sensitivities', 6), ('temperature', 6), ('knife', 6), ('hunting', 6), ('shell', 6), ('samples', 6), ('munch', 6), ('january', 6), ('fashioned', 6), ('distinctive', 6), ('words', 6), ('character', 6), ('distinct', 6), ('environment', 6), ('environmental', 6), ('labeling', 6), ('sources', 6), ('plocky', 6), ('mexican', 6), ('potatoe', 6), ('definately', 6), ('cider', 6), ('ordinary', 6), ('ensure', 6), ('parsley', 6), ('unpleasant', 6), ('professional', 6), ('safflower', 6), ('construction', 6), ('flavours', 6), ('leading', 6), ('v', 6), ('summary', 6), ('staying', 6), ('vary', 6), ('profits', 6), ('doesnt', 6), ('nervous', 6), ('catch', 6), ('crash', 6), ('mark', 6), ('planet', 6), ('oriental', 6), ('tree', 6), ('coco', 6), ('remained', 6), ('cancelled', 6), ('rip', 6), ('twists', 6), ('tends', 6), ('latte', 6), ('gritty', 6), ('user', 6), ('germany', 6), ('leftover', 6), ('essential', 6), ('pea', 6), ('cheesecake', 6), ('mold', 6), ('arizona', 6), ('beneful', 6), ('filler', 6), ('died', 6), ('spray', 6), ('steeped', 6), ('ages', 6), ('popping', 6), ('ripped', 6), ('humans', 6), ('lasting', 6), ('movements', 6), ('infections', 6), ('organix', 6), ('advanced', 6), ('husky', 6), ('poured', 6), ('output', 6), ('bolder', 6), ('ease', 6), ('unsweetened', 6), ('sucralose', 6), ('band', 6), ('glue', 6), ('heck', 6), ('nowhere', 6), ('canister', 6), ('genetically', 6), ('audacity', 6), ('recordings', 6), ('dynamic', 6), ('os', 6), ('recognized', 6), ('button', 6), ('filters', 6), ('studio', 6), ('potential', 6), ('trifle', 6), ('index', 6), ('decaff', 6), ('coca', 6), ('lollipop', 6), ('gatorade', 6), ('kool', 6), ('keurig', 6), ('tahini', 6), ('removed', 5), ('beautifully', 5), ('produces', 5), ('nine', 5), ('kibbles', 5), ('coast', 5), ('bakery', 5), ('shredded', 5), ('patient', 5), ('milder', 5), ('marked', 5), ('sorts', 5), ('vodka', 5), ('providing', 5), ('hubby', 5), ('cloves', 5), ('dash', 5), ('nuggets', 5), ('sushi', 5), ('scrambled', 5), ('crab', 5), ('matters', 5), ('wings', 5), ('mayonnaise', 5), ('finely', 5), ('resist', 5), ('guessed', 5), ('al', 5), ('enhance', 5), ('grill', 5), ('primarily', 5), ('yrs', 5), ('faint', 5), ('hurt', 5), ('stayed', 5), ('fanatic', 5), ('fuss', 5), ('berries', 5), ('habits', 5), ('reducing', 5), ('nutty', 5), ('kitty', 5), ('leftovers', 5), ('spending', 5), ('walks', 5), ('kidney', 5), ('shedding', 5), ('values', 5), ('concern', 5), ('analysis', 5), ('canin', 5), ('veterinarian', 5), ('deliver', 5), ('woman', 5), ('castor', 5), ('nail', 5), ('donated', 5), ('fennel', 5), ('feature', 5), ('disappoint', 5), ('filtered', 5), ('west', 5), ('reordering', 5), ('newer', 5), ('crappy', 5), ('quantities', 5), ('brittle', 5), ('penta', 5), ('weigh', 5), ('accidentally', 5), ('lucky', 5), ('sometime', 5), ('safely', 5), ('toxic', 5), ('desired', 5), ('ticket', 5), ('surely', 5), ('imported', 5), ('soggy', 5), ('celebrate', 5), ('moral', 5), ('btw', 5), ('sam', 5), ('hips', 5), ('hence', 5), ('countries', 5), ('seeing', 5), ('rewards', 5), ('fortunately', 5), ('greatly', 5), ('hoped', 5), ('hopes', 5), ('sinuses', 5), ('inhaled', 5), ('accident', 5), ('sudafed', 5), ('mins', 5), ('medication', 5), ('stocked', 5), ('cabinet', 5), ('minimum', 5), ('airtight', 5), ('powerful', 5), ('bowls', 5), ('kitties', 5), ('changes', 5), ('loud', 5), ('nutro', 5), ('speak', 5), ('lard', 5), ('spectrum', 5), ('advance', 5), ('lightweight', 5), ('event', 5), ('areas', 5), ('stakes', 5), ('height', 5), ('secure', 5), ('batteries', 5), ('component', 5), ('producing', 5), ('strength', 5), ('audible', 5), ('view', 5), ('eight', 5), ('material', 5), ('overnight', 5), ('central', 5), ('cooler', 5), ('degrees', 5), ('max', 5), ('tabasco', 5), ('compliment', 5), ('tho', 5), ('comfort', 5), ('comforting', 5), ('wonder', 5), ('goat', 5), ('elegant', 5), ('sharing', 5), ('memories', 5), ('noodle', 5), ('combined', 5), ('routine', 5), ('cereals', 5), ('hydrate', 5), ('rise', 5), ('waited', 5), ('buffet', 5), ('improve', 5), ('acids', 5), ('constipation', 5), ('cashew', 5), ('footprint', 5), ('melamine', 5), ('economy', 5), ('staff', 5), ('concept', 5), ('uk', 5), ('decision', 5), ('calling', 5), ('satay', 5), ('ka', 5), ('kill', 5), ('sunday', 5), ('highest', 5), ('confection', 5), ('unopened', 5), ('toddlers', 5), ('securely', 5), ('roughly', 5), ('cheeses', 5), ('treatment', 5), ('remaining', 5), ('suck', 5), ('watermelon', 5), ('image', 5), ('named', 5), ('satisfaction', 5), ('bank', 5), ('appeal', 5), ('persons', 5), ('trays', 5), ('seafood', 5), ('colorful', 5), ('inch', 5), ('marks', 5), ('canada', 5), ('ad', 5), ('credit', 5), ('interest', 5), ('finds', 5), ('frig', 5), ('moisture', 5), ('betty', 5), ('win', 5), ('input', 5), ('strongly', 5), ('avoiding', 5), ('sorghum', 5), ('loaves', 5), ('oat', 5), ('conscious', 5), ('barley', 5), ('caution', 5), ('verified', 5), ('units', 5), ('hummus', 5), ('terribly', 5), ('falling', 5), ('answer', 5), ('driving', 5), ('wo', 5), ('hamburger', 5), ('robust', 5), ('sticker', 5), ('baseball', 5), ('smokies', 5), ('fatty', 5), ('puts', 5), ('remains', 5), ('silky', 5), ('voted', 5), ('industry', 5), ('subjective', 5), ('hardware', 5), ('wasting', 5), ('practically', 5), ('plockys', 5), ('tear', 5), ('aspect', 5), ('f', 5), ('hesitant', 5), ('anticipated', 5), ('convert', 5), ('panel', 5), ('edge', 5), ('tang', 5), ('mailed', 5), ('wondering', 5), ('account', 5), ('passing', 5), ('coupon', 5), ('indicate', 5), ('pungent', 5), ('cornucopia', 5), ('warehouse', 5), ('colorings', 5), ('journal', 5), ('riesling', 5), ('creative', 5), ('ramen', 5), ('aisle', 5), ('everytime', 5), ('groceries', 5), ('compromise', 5), ('baxter', 5), ('cupcakes', 5), ('lipton', 5), ('notch', 5), ('safeway', 5), ('fig', 5), ('flaky', 5), ('ridiculously', 5), ('granola', 5), ('diaper', 5), ('mackerel', 5), ('chunk', 5), ('cleaning', 5), ('progresso', 5), ('recognize', 5), ('aromatic', 5), ('hormel', 5), ('lo', 5), ('stew', 5), ('resealable', 5), ('shortly', 5), ('string', 5), ('pate', 5), ('spam', 5), ('eager', 5), ('tins', 5), ('smoothness', 5), ('prickly', 5), ('couldnt', 5), ('pigskin', 5), ('tub', 5), ('roses', 5), ('bees', 5), ('gradually', 5), ('memory', 5), ('trees', 5), ('cure', 5), ('yucky', 5), ('teabag', 5), ('steeping', 5), ('charging', 5), ('walnut', 5), ('mushrooms', 5), ('broth', 5), ('goo', 5), ('category', 5), ('nibble', 5), ('chews', 5), ('feedback', 5), ('freshly', 5), ('gsd', 5), ('dane', 5), ('celestial', 5), ('land', 5), ('bull', 5), ('pickled', 5), ('sprouts', 5), ('pots', 5), ('shepard', 5), ('neighbors', 5), ('sacrifice', 5), ('thrived', 5), ('mainly', 5), ('sticking', 5), ('chow', 5), ('tzu', 5), ('automatically', 5), ('tossed', 5), ('russell', 5), ('king', 5), ('materials', 5), ('east', 5), ('antioxidant', 5), ('whim', 5), ('music', 5), ('fluoride', 5), ('darker', 5), ('caffeinated', 5), ('flare', 5), ('inflammatory', 5), ('september', 5), ('rocks', 5), ('spanish', 5), ('rain', 5), ('compleats', 5), ('bee', 5), ('numi', 5), ('kombucha', 5), ('oak', 5), ('expert', 5), ('machines', 5), ('direct', 5), ('dial', 5), ('compatible', 5), ('technical', 5), ('tech', 5), ('microphones', 5), ('durability', 5), ('plugging', 5), ('vocals', 5), ('equipment', 5), ('channel', 5), ('block', 5), ('sorta', 5), ('wheel', 5), ('breast', 5), ('kirkland', 5), ('trading', 5), ('java', 5), ('assortment', 5), ('stem', 5), ('dunkin', 5), ('lipil', 5), ('reflux', 5), ('altoids', 5), ('wintergreen', 5), ('popper', 5), ('ras', 5), ('hulls', 5), ('seasons', 4), ('stickers', 4), ('thumbs', 4), ('glossy', 4), ('opposite', 4), ('scale', 4), ('handling', 4), ('bell', 4), ('pico', 4), ('appeared', 4), ('southern', 4), ('silver', 4), ('luster', 4), ('molded', 4), ('coloring', 4), ('metallic', 4), ('spreads', 4), ('theme', 4), ('sheet', 4), ('sand', 4), ('clubs', 4), ('decorate', 4), ('retailer', 4), ('tasteful', 4), ('chunky', 4), ('venison', 4), ('mood', 4), ('thailand', 4), ('exciting', 4), ('suspicious', 4), ('accustomed', 4), ('stews', 4), ('famous', 4), ('tears', 4), ('sublime', 4), ('magic', 4), ('stupid', 4), ('hill', 4), ('assured', 4), ('trusted', 4), ('hell', 4), ('knocking', 4), ('scratching', 4), ('acts', 4), ('disorder', 4), ('talked', 4), ('dramatic', 4), ('numbers', 4), ('male', 4), ('visits', 4), ('odor', 4), ('public', 4), ('aged', 4), ('crystals', 4), ('comparisons', 4), ('generic', 4), ('pollux', 4), ('vets', 4), ('petsmart', 4), ('encourage', 4), ('relieve', 4), ('ache', 4), ('relieved', 4), ('obvious', 4), ('loyal', 4), ('pioneer', 4), ('mashed', 4), ('reviewing', 4), ('ect', 4), ('phenomenal', 4), ('neighborhood', 4), ('labeled', 4), ('bark', 4), ('walking', 4), ('park', 4), ('anticipation', 4), ('fields', 4), ('entenmann', 4), ('watering', 4), ('eliminate', 4), ('americans', 4), ('exposure', 4), ('dehydrated', 4), ('waters', 4), ('ribs', 4), ('dropped', 4), ('cell', 4), ('phone', 4), ('washing', 4), ('records', 4), ('playing', 4), ('alive', 4), ('supposedly', 4), ('rounded', 4), ('scoops', 4), ('visited', 4), ('substitution', 4), ('purposes', 4), ('obtained', 4), ('standing', 4), ('insulin', 4), ('brain', 4), ('legal', 4), ('judging', 4), ('suit', 4), ('powders', 4), ('shakes', 4), ('scottish', 4), ('illness', 4), ('edit', 4), ('fashion', 4), ('birth', 4), ('opted', 4), ('arrival', 4), ('rosehips', 4), ('incorrect', 4), ('passed', 4), ('majority', 4), ('tact', 4), ('counts', 4), ('modern', 4), ('member', 4), ('report', 4), ('seeping', 4), ('acquired', 4), ('paired', 4), ('suffers', 4), ('ride', 4), ('justify', 4), ('goodies', 4), ('buddies', 4), ('nights', 4), ('wegman', 4), ('warned', 4), ('godsend', 4), ('private', 4), ('francisco', 4), ('losing', 4), ('bug', 4), ('rescued', 4), ('litter', 4), ('absence', 4), ('palm', 4), ('gerber', 4), ('pains', 4), ('spit', 4), ('corral', 4), ('versatile', 4), ('grazing', 4), ('hook', 4), ('vine', 4), ('square', 4), ('load', 4), ('quiet', 4), ('spike', 4), ('compartment', 4), ('accessible', 4), ('necessary', 4), ('pointed', 4), ('backpacking', 4), ('trail', 4), ('shock', 4), ('snaps', 4), ('tall', 4), ('contacting', 4), ('drain', 4), ('recalled', 4), ('dave', 4), ('crate', 4), ('sampling', 4), ('transport', 4), ('unusual', 4), ('teenage', 4), ('dips', 4), ('surprising', 4), ('killing', 4), ('soybean', 4), ('doritos', 4), ('minty', 4), ('elated', 4), ('fudge', 4), ('february', 4), ('truth', 4), ('anybody', 4), ('sons', 4), ('chalky', 4), ('sooooo', 4), ('fourth', 4), ('tip', 4), ('involved', 4), ('veggie', 4), ('hotter', 4), ('smoothie', 4), ('fry', 4), ('pricing', 4), ('delivers', 4), ('ya', 4), ('follows', 4), ('safety', 4), ('curious', 4), ('widely', 4), ('apply', 4), ('deserves', 4), ('import', 4), ('contaminated', 4), ('manufacturers', 4), ('beach', 4), ('stack', 4), ('mi', 4), ('asking', 4), ('hazard', 4), ('tests', 4), ('testing', 4), ('evidence', 4), ('meaning', 4), ('truck', 4), ('frankly', 4), ('thankful', 4), ('healthful', 4), ('quest', 4), ('wins', 4), ('tast', 4), ('monitoring', 4), ('shapes', 4), ('grainy', 4), ('seattle', 4), ('lousy', 4), ('cuts', 4), ('pkg', 4), ('twin', 4), ('apricot', 4), ('absorbed', 4), ('recycle', 4), ('lazy', 4), ('runnier', 4), ('zucchini', 4), ('lentil', 4), ('introduce', 4), ('bet', 4), ('devours', 4), ('gobbles', 4), ('maggie', 4), ('harmful', 4), ('rotten', 4), ('gums', 4), ('drawer', 4), ('werther', 4), ('exception', 4), ('syrups', 4), ('amber', 4), ('impression', 4), ('ample', 4), ('licked', 4), ('tribute', 4), ('department', 4), ('saltines', 4), ('crumbled', 4), ('biggest', 4), ('canola', 4), ('july', 4), ('title', 4), ('grandsons', 4), ('appearance', 4), ('lick', 4), ('cals', 4), ('perfection', 4), ('realizing', 4), ('creating', 4), ('remain', 4), ('identical', 4), ('sided', 4), ('milligrams', 4), ('beauty', 4), ('delectable', 4), ('absorb', 4), ('rosemary', 4), ('laughing', 4), ('cranberry', 4), ('bringing', 4), ('shards', 4), ('costly', 4), ('prevents', 4), ('biting', 4), ('crunchier', 4), ('replacing', 4), ('college', 4), ('crocker', 4), ('prizes', 4), ('pecans', 4), ('comparing', 4), ('determine', 4), ('disappear', 4), ('formulation', 4), ('cornbread', 4), ('raisin', 4), ('experimented', 4), ('dill', 4), ('dissatisfied', 4), ('conditions', 4), ('reports', 4), ('ener', 4), ('mmmmm', 4), ('sustain', 4), ('football', 4), ('receipt', 4), ('grabbing', 4), ('settled', 4), ('maxwell', 4), ('vinegary', 4), ('rinds', 4), ('contributing', 4), ('men', 4), ('assume', 4), ('unhappy', 4), ('breakage', 4), ('granules', 4), ('remembered', 4), ('ummm', 4), ('vermont', 4), ('positively', 4), ('frito', 4), ('strongest', 4), ('overeating', 4), ('sincerely', 4), ('potatos', 4), ('noticeably', 4), ('creates', 4), ('eco', 4), ('tightly', 4), ('essentials', 4), ('bagged', 4), ('morsels', 4), ('annoying', 4), ('lacked', 4), ('peeled', 4), ('kettles', 4), ('burned', 4), ('reply', 4), ('tastebuds', 4), ('outdoor', 4), ('display', 4), ('yay', 4), ('team', 4), ('stains', 4), ('alternating', 4), ('ridiculous', 4), ('stops', 4), ('difficulty', 4), ('oregonian', 4), ('proud', 4), ('microbrews', 4), ('unmistakable', 4), ('annette', 4), ('reporter', 4), ('salem', 4), ('statesman', 4), ('subdue', 4), ('classically', 4), ('parameters', 4), ('overpowers', 4), ('valley', 4), ('showing', 4), ('suggestion', 4), ('lesser', 4), ('hardest', 4), ('tremendous', 4), ('brandy', 4), ('inedible', 4), ('maine', 4), ('sausages', 4), ('workout', 4), ('toward', 4), ('hurry', 4), ('envelope', 4), ('quit', 4), ('practice', 4), ('grocers', 4), ('ingrediant', 4), ('turning', 4), ('pastry', 4), ('esp', 4), ('protect', 4), ('alter', 4), ('learning', 4), ('meets', 4), ('allergens', 4), ('holding', 4), ('kernels', 4), ('mercury', 4), ('gooey', 4), ('micro', 4), ('cadbury', 4), ('unnecessary', 4), ('efficient', 4), ('unnatural', 4), ('boil', 4), ('slightest', 4), ('pom', 4), ('brighter', 4), ('fattoush', 4), ('eastern', 4), ('gummi', 4), ('beloved', 4), ('forced', 4), ('miniature', 4), ('milka', 4), ('imagined', 4), ('tarts', 4), ('requested', 4), ('cherries', 4), ('poisoning', 4), ('aweful', 4), ('presentation', 4), ('fragrant', 4), ('gumballs', 4), ('pesticides', 4), ('woods', 4), ('beneficial', 4), ('davidson', 4), ('weaker', 4), ('reads', 4), ('darjeeling', 4), ('assam', 4), ('fills', 4), ('dozens', 4), ('competitive', 4), ('presto', 4), ('licking', 4), ('moldy', 4), ('returnable', 4), ('function', 4), ('apparent', 4), ('lying', 4), ('charming', 4), ('splurge', 4), ('dipped', 4), ('details', 4), ('facility', 4), ('stuffers', 4), ('imitation', 4), ('welcome', 4), ('significantly', 4), ('puppies', 4), ('petco', 4), ('breeds', 4), ('eukanuba', 4), ('depth', 4), ('emails', 4), ('placing', 4), ('iodized', 4), ('pricier', 4), ('jacks', 4), ('parents', 4), ('divine', 4), ('stretch', 4), ('listing', 4), ('tropical', 4), ('inclined', 4), ('retriever', 4), ('lawn', 4), ('laden', 4), ('illegal', 4), ('nibbles', 4), ('gobbled', 4), ('detect', 4), ('chickens', 4), ('dying', 4), ('chain', 4), ('stool', 4), ('poops', 4), ('upsets', 4), ('beagle', 4), ('ha', 4), ('beg', 4), ('gobble', 4), ('access', 4), ('holistic', 4), ('marketed', 4), ('heaping', 4), ('needing', 4), ('pregnant', 4), ('substitutes', 4), ('bottled', 4), ('bang', 4), ('jasmine', 4), ('prepara', 4), ('attached', 4), ('link', 4), ('tag', 4), ('thirst', 4), ('expense', 4), ('toffifay', 4), ('decoration', 4), ('breaks', 4), ('patrick', 4), ('blow', 4), ('preparing', 4), ('minor', 4), ('hfcs', 4), ('causing', 4), ('floral', 4), ('overpower', 4), ('straw', 4), ('yunnan', 4), ('steel', 4), ('connoisseur', 4), ('overs', 4), ('jamaican', 4), ('bergamot', 4), ('teaspoons', 4), ('sat', 4), ('singles', 4), ('vocal', 4), ('asio', 4), ('xp', 4), ('converter', 4), ('un', 4), ('technica', 4), ('garageband', 4), ('guitar', 4), ('lights', 4), ('connected', 4), ('motorola', 4), ('connection', 4), ('mxl', 4), ('tone', 4), ('ive', 4), ('rack', 4), ('recommends', 4), ('martinis', 4), ('trident', 4), ('lakewood', 4), ('phosphorous', 4), ('cornstarch', 4), ('ww', 4), ('falls', 4), ('nutiva', 4), ('rays', 4), ('dutch', 4), ('michigan', 4), ('smart', 4), ('mead', 4), ('johnson', 4), ('sojo', 4), ('costume', 4), ('ghiradelli', 4), ('caramello', 4), ('lychee', 4), ('ethylene', 4), ('nantucket', 4), ('drinkable', 4), ('decaffinated', 4), ('caf', 4), ('decaffeinate', 4), ('decafs', 4), ('hanout', 4), ('selects', 4), ('kikoman', 4), ('whirley', 4), ('fly', 3), ('bait', 3), ('signs', 3), ('window', 3), ('thriving', 3), ('dunked', 3), ('manufacture', 3), ('patty', 3), ('protective', 3), ('coins', 3), ('russet', 3), ('rounds', 3), ('dissolved', 3), ('taco', 3), ('pica', 3), ('bearable', 3), ('decorative', 3), ('shining', 3), ('duck', 3), ('contrast', 3), ('greens', 3), ('min', 3), ('lentils', 3), ('alaska', 3), ('mangos', 3), ('lettuce', 3), ('mommy', 3), ('nerve', 3), ('steaks', 3), ('refrigerate', 3), ('granulated', 3), ('layered', 3), ('steamed', 3), ('unbroken', 3), ('possibility', 3), ('poultry', 3), ('charcoal', 3), ('maui', 3), ('spectacular', 3), ('steak', 3), ('row', 3), ('directed', 3), ('vendors', 3), ('dumplings', 3), ('hostess', 3), ('baci', 3), ('british', 3), ('north', 3), ('asap', 3), ('build', 3), ('relative', 3), ('attest', 3), ('tequila', 3), ('bummed', 3), ('ecstatic', 3), ('pith', 3), ('peel', 3), ('transaction', 3), ('baggie', 3), ('shy', 3), ('twenty', 3), ('unfortunate', 3), ('devour', 3), ('intentionally', 3), ('deliberately', 3), ('crying', 3), ('chubby', 3), ('committing', 3), ('twelve', 3), ('papers', 3), ('reseal', 3), ('posting', 3), ('longevity', 3), ('disgusted', 3), ('renal', 3), ('breakdown', 3), ('mature', 3), ('lies', 3), ('believing', 3), ('suitable', 3), ('entree', 3), ('mechanical', 3), ('settle', 3), ('mc', 3), ('finger', 3), ('jaw', 3), ('di', 3), ('en', 3), ('breeder', 3), ('steady', 3), ('jersey', 3), ('chilled', 3), ('questions', 3), ('rodent', 3), ('inner', 3), ('preserve', 3), ('develop', 3), ('pair', 3), ('arsenic', 3), ('fluid', 3), ('distilled', 3), ('cleaned', 3), ('chocolaty', 3), ('caffine', 3), ('zing', 3), ('potent', 3), ('competitors', 3), ('sweetens', 3), ('sodas', 3), ('hormone', 3), ('kidneys', 3), ('impact', 3), ('deprived', 3), ('diabetics', 3), ('rebecca', 3), ('eliminated', 3), ('sparingly', 3), ('sweetners', 3), ('safer', 3), ('proved', 3), ('liquids', 3), ('absent', 3), ('resolve', 3), ('dare', 3), ('tie', 3), ('practical', 3), ('bugs', 3), ('sun', 3), ('fulfilled', 3), ('infuser', 3), ('managed', 3), ('airplanes', 3), ('pages', 3), ('space', 3), ('shallow', 3), ('warning', 3), ('bound', 3), ('notes', 3), ('sisters', 3), ('phrase', 3), ('teacher', 3), ('tan', 3), ('amazingly', 3), ('bedtime', 3), ('affects', 3), ('rinse', 3), ('mist', 3), ('wrapping', 3), ('pub', 3), ('commissary', 3), ('textures', 3), ('tossing', 3), ('roof', 3), ('jump', 3), ('sits', 3), ('platinum', 3), ('fifteen', 3), ('tract', 3), ('glucosamine', 3), ('percentage', 3), ('national', 3), ('knowledge', 3), ('yelling', 3), ('affected', 3), ('swallow', 3), ('shortening', 3), ('bubbles', 3), ('solids', 3), ('discernible', 3), ('appreciated', 3), ('doc', 3), ('temporary', 3), ('trailer', 3), ('advertises', 3), ('fantastically', 3), ('insert', 3), ('clips', 3), ('visual', 3), ('distance', 3), ('outer', 3), ('zap', 3), ('installed', 3), ('counting', 3), ('respect', 3), ('leery', 3), ('gosh', 3), ('ends', 3), ('reinforced', 3), ('separated', 3), ('tries', 3), ('dangerous', 3), ('weighs', 3), ('rides', 3), ('extras', 3), ('corners', 3), ('rope', 3), ('pug', 3), ('adores', 3), ('temperatures', 3), ('spoil', 3), ('vitakraft', 3), ('bigelow', 3), ('usable', 3), ('darn', 3), ('ugh', 3), ('niece', 3), ('severely', 3), ('ruffles', 3), ('busted', 3), ('gagged', 3), ('midday', 3), ('genisoy', 3), ('pies', 3), ('tradition', 3), ('discontinuing', 3), ('grocer', 3), ('wax', 3), ('mr', 3), ('bliss', 3), ('drawbacks', 3), ('sweetarts', 3), ('chewable', 3), ('excellentamazon', 3), ('conveniently', 3), ('nevertheless', 3), ('clump', 3), ('mmm', 3), ('starters', 3), ('scared', 3), ('separately', 3), ('neck', 3), ('incorporated', 3), ('processor', 3), ('emergency', 3), ('toasting', 3), ('tomorrow', 3), ('toaster', 3), ('guidelines', 3), ('crunches', 3), ('lead', 3), ('restricted', 3), ('pride', 3), ('profit', 3), ('stories', 3), ('processes', 3), ('drugs', 3), ('african', 3), ('recovery', 3), ('addiction', 3), ('miracle', 3), ('diabetes', 3), ('understood', 3), ('brc', 3), ('organization', 3), ('performs', 3), ('random', 3), ('inspection', 3), ('origins', 3), ('valuable', 3), ('ships', 3), ('mile', 3), ('hefty', 3), ('overcooked', 3), ('pastas', 3), ('ethnic', 3), ('holy', 3), ('boxed', 3), ('recomend', 3), ('qualities', 3), ('charged', 3), ('wolf', 3), ('minis', 3), ('availability', 3), ('trimming', 3), ('dropping', 3), ('refrigerated', 3), ('luscious', 3), ('grahams', 3), ('choking', 3), ('cheerios', 3), ('notified', 3), ('checking', 3), ('informed', 3), ('dining', 3), ('building', 3), ('bin', 3), ('heating', 3), ('screaming', 3), ('garbanzo', 3), ('thicken', 3), ('furry', 3), ('olds', 3), ('smiles', 3), ('gagging', 3), ('mayo', 3), ('painful', 3), ('contamination', 3), ('foul', 3), ('reviewed', 3), ('incentive', 3), ('seat', 3), ('ahhh', 3), ('isnt', 3), ('singing', 3), ('lip', 3), ('finishing', 3), ('movies', 3), ('hunger', 3), ('director', 3), ('reluctant', 3), ('originals', 3), ('damn', 3), ('click', 3), ('thirty', 3), ('approval', 3), ('presented', 3), ('airplane', 3), ('bent', 3), ('kraft', 3), ('rabbit', 3), ('sunshine', 3), ('greek', 3), ('commonly', 3), ('versions', 3), ('draw', 3), ('thru', 3), ('neat', 3), ('extraordinary', 3), ('ink', 3), ('rainbow', 3), ('grated', 3), ('blackberry', 3), ('favourite', 3), ('crispbreads', 3), ('mary', 3), ('cracks', 3), ('flu', 3), ('applesauce', 3), ('ibs', 3), ('spreading', 3), ('doctoring', 3), ('offerings', 3), ('adequately', 3), ('puck', 3), ('virgin', 3), ('study', 3), ('mills', 3), ('replacer', 3), ('pillsbury', 3), ('oddly', 3), ('grassy', 3), ('coarse', 3), ('par', 3), ('labelled', 3), ('specially', 3), ('doubled', 3), ('blade', 3), ('denser', 3), ('heb', 3), ('updated', 3), ('compete', 3), ('pepperoni', 3), ('sets', 3), ('mindful', 3), ('resolved', 3), ('recommendations', 3), ('pb', 3), ('pizzas', 3), ('distributor', 3), ('cancel', 3), ('recurring', 3), ('presents', 3), ('tapioca', 3), ('dingo', 3), ('exposed', 3), ('forming', 3), ('stung', 3), ('residue', 3), ('laced', 3), ('alittle', 3), ('atkins', 3), ('jim', 3), ('quarter', 3), ('omg', 3), ('folgers', 3), ('distribution', 3), ('government', 3), ('carbohydrates', 3), ('adequate', 3), ('garnish', 3), ('crinkle', 3), ('lowered', 3), ('void', 3), ('tad', 3), ('obtain', 3), ('monosodium', 3), ('derived', 3), ('properties', 3), ('hanging', 3), ('bloody', 3), ('weston', 3), ('ass', 3), ('wash', 3), ('napkin', 3), ('confirmed', 3), ('whatsoever', 3), ('definite', 3), ('subscribed', 3), ('crowd', 3), ('krinkle', 3), ('torn', 3), ('embarrassed', 3), ('hesitate', 3), ('quicker', 3), ('similarly', 3), ('games', 3), ('zippy', 3), ('rat', 3), ('attitude', 3), ('expanding', 3), ('confusion', 3), ('cancer', 3), ('deli', 3), ('exists', 3), ('equals', 3), ('munching', 3), ('heavenly', 3), ('appetite', 3), ('browned', 3), ('steer', 3), ('uniform', 3), ('code', 3), ('acquire', 3), ('dime', 3), ('activities', 3), ('expeller', 3), ('presence', 3), ('oiliness', 3), ('worries', 3), ('invented', 3), ('lord', 3), ('strict', 3), ('experiencing', 3), ('bear', 3), ('melting', 3), ('tx', 3), ('complement', 3), ('cucumber', 3), ('stopping', 3), ('processing', 3), ('limiting', 3), ('picking', 3), ('senses', 3), ('discounts', 3), ('extracts', 3), ('glowing', 3), ('bulky', 3), ('exploring', 3), ('namaste', 3), ('raved', 3), ('dump', 3), ('marinate', 3), ('konriko', 3), ('hydrolyzed', 3), ('cottonseed', 3), ('tones', 3), ('nugget', 3), ('fillet', 3), ('textured', 3), ('nutrigrain', 3), ('misses', 3), ('likewise', 3), ('intolerant', 3), ('breastfed', 3), ('tootsie', 3), ('appetizing', 3), ('allergen', 3), ('interior', 3), ('tray', 3), ('blame', 3), ('cared', 3), ('ring', 3), ('nicer', 3), ('video', 3), ('property', 3), ('plentiful', 3), ('campbell', 3), ('watered', 3), ('joke', 3), ('upside', 3), ('strings', 3), ('producer', 3), ('believer', 3), ('citrus', 3), ('squares', 3), ('alike', 3), ('russian', 3), ('decently', 3), ('sucking', 3), ('schnauzer', 3), ('sniffed', 3), ('walked', 3), ('upgraded', 3), ('turducken', 3), ('haha', 3), ('naps', 3), ('sampler', 3), ('tubes', 3), ('evenings', 3), ('gorgeous', 3), ('pricy', 3), ('victoria', 3), ('thanksgiving', 3), ('melts', 3), ('spare', 3), ('exceptionally', 3), ('hartz', 3), ('refunded', 3), ('doggies', 3), ('false', 3), ('grandfather', 3), ('rapid', 3), ('potted', 3), ('bayer', 3), ('dug', 3), ('affecting', 3), ('ban', 3), ('dependable', 3), ('annoyed', 3), ('potpourri', 3), ('petals', 3), ('blended', 3), ('mistaken', 3), ('reminiscent', 3), ('holic', 3), ('canadian', 3), ('concoction', 3), ('das', 3), ('hydrated', 3), ('shaking', 3), ('infused', 3), ('arriving', 3), ('roommate', 3), ('sprayed', 3), ('aided', 3), ('fork', 3), ('combinations', 3), ('agrees', 3), ('popularity', 3), ('whereas', 3), ('youtube', 3), ('asia', 3), ('anime', 3), ('manga', 3), ('ish', 3), ('folded', 3), ('crack', 3), ('merchant', 3), ('location', 3), ('books', 3), ('distress', 3), ('poo', 3), ('lhasa', 3), ('bichon', 3), ('weaned', 3), ('responsible', 3), ('advised', 3), ('mos', 3), ('camper', 3), ('grandma', 3), ('gouge', 3), ('accurate', 3), ('trigger', 3), ('situations', 3), ('cheers', 3), ('finland', 3), ('zoo', 3), ('promotion', 3), ('fl', 3), ('rank', 3), ('gary', 3), ('peterson', 3), ('dream', 3), ('noteworthy', 3), ('expire', 3), ('hurts', 3), ('ol', 3), ('horrid', 3), ('differ', 3), ('reality', 3), ('soul', 3), ('bile', 3), ('shed', 3), ('gentle', 3), ('nonetheless', 3), ('monster', 3), ('nuff', 3), ('pickle', 3), ('strip', 3), ('project', 3), ('sprout', 3), ('leaks', 3), ('resulting', 3), ('germination', 3), ('claimed', 3), ('alternate', 3), ('excess', 3), ('acidity', 3), ('sm', 3), ('region', 3), ('butchering', 3), ('clearing', 3), ('paul', 3), ('pittie', 3), ('thrives', 3), ('pit', 3), ('medical', 3), ('react', 3), ('stable', 3), ('charities', 3), ('hunt', 3), ('dose', 3), ('wheaten', 3), ('street', 3), ('syndrome', 3), ('satified', 3), ('dachshund', 3), ('supporting', 3), ('crunching', 3), ('names', 3), ('shops', 3), ('muscles', 3), ('collie', 3), ('sellers', 3), ('alert', 3), ('disappeared', 3), ('regurgitation', 3), ('foundation', 3), ('paws', 3), ('pomeranian', 3), ('proper', 3), ('santa', 3), ('whats', 3), ('nearest', 3), ('chihuahuas', 3), ('reputation', 3), ('charles', 3), ('intermittent', 3), ('toxins', 3), ('researching', 3), ('confident', 3), ('experiment', 3), ('princess', 3), ('boston', 3), ('energetic', 3), ('dandelion', 3), ('pregnancy', 3), ('chiclets', 3), ('sachets', 3), ('rep', 3), ('flowery', 3), ('emptied', 3), ('shaker', 3), ('buck', 3), ('triglycerides', 3), ('concluded', 3), ('eliminating', 3), ('act', 3), ('grip', 3), ('innovative', 3), ('tricky', 3), ('bottoms', 3), ('returns', 3), ('stripe', 3), ('apology', 3), ('perruche', 3), ('spongebob', 3), ('diameter', 3), ('heartburn', 3), ('approved', 3), ('overpriced', 3), ('dum', 3), ('surgery', 3), ('wire', 3), ('finishes', 3), ('wall', 3), ('jumped', 3), ('hesitation', 3), ('relax', 3), ('worms', 3), ('boxer', 3), ('rural', 3), ('digesting', 3), ('pale', 3), ('burst', 3), ('ai', 3), ('jams', 3), ('waring', 3), ('flipside', 3), ('malty', 3), ('jemima', 3), ('favorable', 3), ('hike', 3), ('teaching', 3), ('cart', 3), ('kellog', 3), ('flaked', 3), ('mueslis', 3), ('largest', 3), ('ceral', 3), ('intended', 3), ('jewel', 3), ('jewels', 3), ('beaten', 3), ('stovetop', 3), ('guar', 3), ('gluey', 3), ('hmmm', 3), ('vouch', 3), ('walker', 3), ('imperial', 3), ('specifics', 3), ('confusing', 3), ('shade', 3), ('amongst', 3), ('makers', 3), ('pearls', 3), ('headphone', 3), ('digidesign', 3), ('computers', 3), ('condensor', 3), ('macbook', 3), ('hissing', 3), ('troubleshooting', 3), ('detail', 3), ('defective', 3), ('unacceptable', 3), ('corrected', 3), ('noisy', 3), ('shielded', 3), ('vista', 3), ('rely', 3), ('settings', 3), ('dynamics', 3), ('amp', 3), ('recorded', 3), ('akg', 3), ('encore', 3), ('donuts', 3), ('electrolyte', 3), ('tastey', 3), ('marinades', 3), ('koeze', 3), ('confused', 3), ('shortbread', 3), ('highlanders', 3), ('opener', 3), ('boscoli', 3), ('supplies', 3), ('refuses', 3), ('patak', 3), ('basmati', 3), ('cherrybrook', 3), ('centerpiece', 3), ('desperate', 3), ('linguine', 3), ('signature', 3), ('cccs', 3), ('brewer', 3), ('juan', 3), ('valdez', 3), ('fuller', 3), ('rumford', 3), ('sulfate', 3), ('amish', 3), ('compromising', 3), ('magazine', 3), ('proof', 3), ('portioned', 3), ('wipes', 3), ('herr', 3), ('theater', 3), ('marathon', 3), ('foodie', 3), ('disguise', 3), ('guarantee', 3), ('saltiness', 3), ('unadulterated', 3), ('subjected', 3), ('extraction', 3), ('manila', 3), ('medications', 3), ('jittery', 3), ('membership', 3), ('mate', 3), ('guayaki', 3), ('acne', 3), ('athlete', 3), ('wavy', 3), ('barrel', 3), ('prebiotics', 3), ('bacteria', 3), ('gi', 3), ('sniff', 3), ('gusto', 3), ('smalls', 3), ('advil', 3), ('cha', 3), ('melon', 3), ('fuze', 3), ('spite', 3), ('mega', 3), ('suckers', 3), ('pina', 3), ('colada', 3), ('tetra', 3), ('cheapo', 3), ('lump', 3), ('cone', 3), ('awake', 3), ('vernors', 3), ('brett', 3), ('victor', 2), ('traps', 2), ('unreal', 2), ('reverse', 2), ('print', 2), ('decals', 2), ('dude', 2), ('almondy', 2), ('dunking', 2), ('chai', 2), ('anise', 2), ('summertime', 2), ('represented', 2), ('speed', 2), ('ruining', 2), ('resort', 2), ('simmer', 2), ('handfuls', 2), ('mex', 2), ('tacos', 2), ('tostadas', 2), ('partial', 2), ('lists', 2), ('usps', 2), ('trend', 2), ('tubs', 2), ('designs', 2), ('exquisite', 2), ('imparts', 2), ('played', 2), ('golfer', 2), ('strain', 2), ('permanent', 2), ('mothers', 2), ('pei', 2), ('wei', 2), ('snapped', 2), ('users', 2), ('master', 2), ('catsup', 2), ('answers', 2), ('role', 2), ('chilli', 2), ('queasy', 2), ('baste', 2), ('grilling', 2), ('eggrolls', 2), ('fare', 2), ('finest', 2), ('cous', 2), ('heinz', 2), ('bounds', 2), ('et', 2), ('barbecued', 2), ('generously', 2), ('tenth', 2), ('hotness', 2), ('handmade', 2), ('sauteed', 2), ('meatballs', 2), ('spiciness', 2), ('novice', 2), ('bon', 2), ('mushroom', 2), ('tn', 2), ('queen', 2), ('keeper', 2), ('cappuccino', 2), ('italians', 2), ('kiss', 2), ('enticing', 2), ('fallen', 2), ('ashby', 2), ('afternoons', 2), ('blown', 2), ('burns', 2), ('zest', 2), ('ftw', 2), ('flattened', 2), ('scooped', 2), ('gee', 2), ('mistakes', 2), ('friskies', 2), ('judgment', 2), ('discounted', 2), ('spilling', 2), ('maintenance', 2), ('bored', 2), ('transitioning', 2), ('halo', 2), ('hills', 2), ('painfully', 2), ('oxidized', 2), ('elderly', 2), ('stages', 2), ('warrant', 2), ('underweight', 2), ('brushed', 2), ('charts', 2), ('formulae', 2), ('vomited', 2), ('referred', 2), ('urine', 2), ('graze', 2), ('inviting', 2), ('speedy', 2), ('carnivores', 2), ('reaching', 2), ('beaks', 2), ('clippings', 2), ('dig', 2), ('notorious', 2), ('arrangement', 2), ('requirement', 2), ('breville', 2), ('fuzzy', 2), ('stranded', 2), ('island', 2), ('swear', 2), ('calming', 2), ('sacrificing', 2), ('influence', 2), ('publix', 2), ('links', 2), ('mmmmmmm', 2), ('lifesaver', 2), ('reinforce', 2), ('visitors', 2), ('sessions', 2), ('pronounce', 2), ('charlie', 2), ('maltese', 2), ('occupied', 2), ('clipping', 2), ('anxiety', 2), ('sanitary', 2), ('scrumptious', 2), ('alabama', 2), ('excessively', 2), ('toll', 2), ('refresh', 2), ('species', 2), ('rotting', 2), ('weighing', 2), ('starving', 2), ('milled', 2), ('synthetic', 2), ('germ', 2), ('passover', 2), ('burger', 2), ('functionality', 2), ('solar', 2), ('soap', 2), ('swill', 2), ('attach', 2), ('chromium', 2), ('lane', 2), ('begun', 2), ('grooves', 2), ('deeper', 2), ('tap', 2), ('smoothest', 2), ('vintage', 2), ('harsh', 2), ('demand', 2), ('tables', 2), ('magical', 2), ('discovery', 2), ('chemistry', 2), ('fave', 2), ('linda', 2), ('spikes', 2), ('retain', 2), ('bloat', 2), ('cosmetic', 2), ('tablets', 2), ('truvia', 2), ('engineered', 2), ('glucose', 2), ('artifical', 2), ('backpack', 2), ('coke', 2), ('spa', 2), ('vegas', 2), ('remarked', 2), ('unsafe', 2), ('accidently', 2), ('edges', 2), ('corgi', 2), ('drug', 2), ('liner', 2), ('continues', 2), ('security', 2), ('missouri', 2), ('weekly', 2), ('honeyville', 2), ('hi', 2), ('kindergarten', 2), ('teachers', 2), ('associate', 2), ('spits', 2), ('daddy', 2), ('surround', 2), ('thoughtful', 2), ('acknowledge', 2), ('students', 2), ('struggle', 2), ('wiggle', 2), ('management', 2), ('leadership', 2), ('healing', 2), ('crisis', 2), ('headache', 2), ('suffering', 2), ('breathe', 2), ('skipped', 2), ('overheated', 2), ('unknown', 2), ('migraine', 2), ('seep', 2), ('remedies', 2), ('chinatown', 2), ('woke', 2), ('effectively', 2), ('suffered', 2), ('bus', 2), ('church', 2), ('hesitated', 2), ('aloha', 2), ('stuffy', 2), ('meow', 2), ('fellow', 2), ('marines', 2), ('chex', 2), ('candle', 2), ('deployed', 2), ('voraciously', 2), ('potentially', 2), ('pace', 2), ('togethers', 2), ('thier', 2), ('alfredo', 2), ('eleven', 2), ('ancient', 2), ('blob', 2), ('urinary', 2), ('thankfully', 2), ('chase', 2), ('letter', 2), ('digested', 2), ('purchaser', 2), ('lush', 2), ('kernel', 2), ('consistancy', 2), ('crisco', 2), ('cries', 2), ('representative', 2), ('troubles', 2), ('register', 2), ('smallish', 2), ('pulls', 2), ('enclosed', 2), ('gate', 2), ('straightforward', 2), ('increases', 2), ('connections', 2), ('grounding', 2), ('bracing', 2), ('braces', 2), ('stiff', 2), ('spinning', 2), ('jenny', 2), ('hang', 2), ('pockets', 2), ('tack', 2), ('lining', 2), ('stellar', 2), ('damp', 2), ('sufficient', 2), ('slide', 2), ('adjustable', 2), ('wires', 2), ('rod', 2), ('zipper', 2), ('tote', 2), ('quibble', 2), ('fabric', 2), ('rotating', 2), ('fences', 2), ('solve', 2), ('unpredictable', 2), ('obtainable', 2), ('paddock', 2), ('push', 2), ('conductive', 2), ('transformer', 2), ('discharge', 2), ('trained', 2), ('beast', 2), ('danger', 2), ('rec', 2), ('accidents', 2), ('partly', 2), ('cares', 2), ('begs', 2), ('choco', 2), ('carob', 2), ('enriched', 2), ('kisses', 2), ('shipper', 2), ('slower', 2), ('pleading', 2), ('cuisine', 2), ('chirstmas', 2), ('wood', 2), ('inquiry', 2), ('unappetizing', 2), ('attempted', 2), ('nutritionally', 2), ('limits', 2), ('delish', 2), ('begrudgingly', 2), ('akin', 2), ('wallet', 2), ('reboot', 2), ('alright', 2), ('indulge', 2), ('krispie', 2), ('choc', 2), ('pissed', 2), ('softened', 2), ('families', 2), ('arise', 2), ('cinnamony', 2), ('overkill', 2), ('notill', 2), ('taffy', 2), ('breeze', 2), ('arived', 2), ('delicous', 2), ('smashed', 2), ('yumm', 2), ('nostalgic', 2), ('thanksexcellent', 2), ('rotate', 2), ('lunchtime', 2), ('lunge', 2), ('offensive', 2), ('preferably', 2), ('thorough', 2), ('seeking', 2), ('comparatively', 2), ('um', 2), ('presently', 2), ('cartons', 2), ('spicier', 2), ('curries', 2), ('gravel', 2), ('accomplished', 2), ('lowering', 2), ('chia', 2), ('ingest', 2), ('sprouted', 2), ('magnesium', 2), ('copper', 2), ('released', 2), ('freshest', 2), ('foil', 2), ('cookbook', 2), ('gut', 2), ('amino', 2), ('tout', 2), ('crunchiness', 2), ('halfway', 2), ('exported', 2), ('corporations', 2), ('adverse', 2), ('ratings', 2), ('assurance', 2), ('data', 2), ('yuk', 2), ('banned', 2), ('joking', 2), ('controls', 2), ('producers', 2), ('ought', 2), ('mike', 2), ('inform', 2), ('harm', 2), ('virginia', 2), ('frothing', 2), ('criticizing', 2), ('confirm', 2), ('moments', 2), ('haccp', 2), ('agency', 2), ('assure', 2), ('cranberries', 2), ('assisted', 2), ('regards', 2), ('sweatshops', 2), ('communism', 2), ('briefly', 2), ('origin', 2), ('flip', 2), ('tuck', 2), ('horror', 2), ('poisoned', 2), ('raving', 2), ('faces', 2), ('orgran', 2), ('tendency', 2), ('thermo', 2), ('heal', 2), ('sooth', 2), ('disliked', 2), ('wasabi', 2), ('evaporated', 2), ('grandbabies', 2), ('earths', 2), ('elmo', 2), ('signing', 2), ('sneaking', 2), ('august', 2), ('recalling', 2), ('discourage', 2), ('mechanically', 2), ('jarred', 2), ('recycles', 2), ('steam', 2), ('enter', 2), ('merely', 2), ('mouthful', 2), ('tonight', 2), ('poison', 2), ('angry', 2), ('enthusiasm', 2), ('beaver', 2), ('farmers', 2), ('native', 2), ('foreign', 2), ('papaya', 2), ('forged', 2), ('slimy', 2), ('granddaughter', 2), ('bzzagent', 2), ('deduct', 2), ('reader', 2), ('hazelnuts', 2), ('da', 2), ('zesty', 2), ('estimate', 2), ('unscrewed', 2), ('hardened', 2), ('barbra', 2), ('streisand', 2), ('coyly', 2), ('trio', 2), ('resembles', 2), ('moderation', 2), ('monitor', 2), ('clock', 2), ('lean', 2), ('mcdonalds', 2), ('insisted', 2), ('extension', 2), ('guaranteed', 2), ('joined', 2), ('mealy', 2), ('sorely', 2), ('internal', 2), ('reese', 2), ('communion', 2), ('fifty', 2), ('intensity', 2), ('grand', 2), ('lap', 2), ('slathering', 2), ('writes', 2), ('infusion', 2), ('consult', 2), ('nominal', 2), ('belief', 2), ('presumably', 2), ('floating', 2), ('hydrox', 2), ('dominated', 2), ('restrict', 2), ('carmel', 2), ('uh', 2), ('approach', 2), ('aforementioned', 2), ('essentially', 2), ('caloric', 2), ('appetizers', 2), ('tarragon', 2), ('impress', 2), ('overwhelm', 2), ('paris', 2), ('wasa', 2), ('buttered', 2), ('aspects', 2), ('medically', 2), ('ultra', 2), ('moon', 2), ('eggplant', 2), ('layering', 2), ('truthful', 2), ('protien', 2), ('wegmans', 2), ('pennsylvania', 2), ('difficulties', 2), ('simpler', 2), ('drawing', 2), ('board', 2), ('substitutions', 2), ('pecan', 2), ('soooooo', 2), ('youd', 2), ('concur', 2), ('conclusion', 2), ('altogether', 2), ('poster', 2), ('bran', 2), ('consequently', 2), ('attributable', 2), ('necessarily', 2), ('standpoint', 2), ('absolutly', 2), ('pleasures', 2), ('minimize', 2), ('distinctly', 2), ('buyers', 2), ('hello', 2), ('bakes', 2), ('buns', 2), ('stone', 2), ('wolfgang', 2), ('slicing', 2), ('lend', 2), ('millet', 2), ('confidence', 2), ('experiences', 2), ('clever', 2), ('breadmaker', 2), ('nt', 2), ('removing', 2), ('improves', 2), ('mechanism', 2), ('belgium', 2), ('neutral', 2), ('hypertension', 2), ('scientific', 2), ('bated', 2), ('restock', 2), ('sprinkling', 2), ('gfcf', 2), ('poke', 2), ('bagel', 2), ('exploited', 2), ('aches', 2), ('successfully', 2), ('overwhelmed', 2), ('discription', 2), ('stating', 2), ('choo', 2), ('saddlebag', 2), ('hiking', 2), ('survival', 2), ('jug', 2), ('vehicle', 2), ('isnap', 2), ('rood', 2), ('occassions', 2), ('hickory', 2), ('drier', 2), ('surface', 2), ('seemingly', 2), ('silly', 2), ('dab', 2), ('regional', 2), ('freezing', 2), ('yikes', 2), ('rainforest', 2), ('gogreenmart', 2), ('woeber', 2), ('caught', 2), ('huh', 2), ('fritos', 2), ('insult', 2), ('ethical', 2), ('gladly', 2), ('overpoweringly', 2), ('kicked', 2), ('deliciousness', 2), ('carolina', 2), ('cruncy', 2), ('hiding', 2), ('belive', 2), ('wimpy', 2), ('glutamate', 2), ('aversion', 2), ('warming', 2), ('sweetish', 2), ('sinfully', 2), ('verdict', 2), ('paprika', 2), ('embedded', 2), ('diego', 2), ('brushing', 2), ('aruba', 2), ('ct', 2), ('harp', 2), ('newton', 2), ('art', 2), ('kickin', 2), ('glands', 2), ('arms', 2), ('ideas', 2), ('hitting', 2), ('greg', 2), ('evenly', 2), ('distributed', 2), ('exaggeration', 2), ('humble', 2), ('slit', 2), ('clip', 2), ('cod', 2), ('frying', 2), ('subtly', 2), ('brats', 2), ('casual', 2), ('complicated', 2), ('stimulates', 2), ('prevalent', 2), ('pucker', 2), ('interval', 2), ('brothers', 2), ('vinager', 2), ('upcoming', 2), ('imho', 2), ('yo', 2), ('reccomend', 2), ('muncher', 2), ('prompted', 2), ('existent', 2), ('habanero', 2), ('citric', 2), ('cayenne', 2), ('dextrose', 2), ('truely', 2), ('bursting', 2), ('highlighted', 2), ('offset', 2), ('usage', 2), ('efforts', 2), ('indulging', 2), ('unedible', 2), ('concerning', 2), ('er', 2), ('dismay', 2), ('forum', 2), ('carnation', 2), ('sensible', 2), ('sight', 2), ('bleu', 2), ('squished', 2), ('preserved', 2), ('devouring', 2), ('delightfully', 2), ('approve', 2), ('hid', 2), ('sake', 2), ('prove', 2), ('whimpy', 2), ('chemically', 2), ('browner', 2), ('slipped', 2), ('inspections', 2), ('margin', 2), ('polish', 2), ('crumbles', 2), ('herrs', 2), ('compromised', 2), ('core', 2), ('martin', 2), ('wardrobe', 2), ('tiger', 2), ('mall', 2), ('creek', 2), ('hidden', 2), ('gem', 2), ('nauseating', 2), ('independent', 2), ('labs', 2), ('detected', 2), ('waaaay', 2), ('june', 2), ('idk', 2), ('meld', 2), ('autism', 2), ('craves', 2), ('delivering', 2), ('regiment', 2), ('chewed', 2), ('mouse', 2), ('porch', 2), ('claiming', 2), ('screwed', 2), ('stuffed', 2), ('uniformity', 2), ('munchies', 2), ('mesquite', 2), ('tolerance', 2), ('coleslaw', 2), ('aggravation', 2), ('achieve', 2), ('repeat', 2), ('transparent', 2), ('october', 2), ('deals', 2), ('noticeable', 2), ('dent', 2), ('wit', 2), ('thickly', 2), ('reluctantly', 2), ('worrying', 2), ('hardy', 2), ('tim', 2), ('rethink', 2), ('sonoma', 2), ('tab', 2), ('tearing', 2), ('lantchips', 2), ('rightly', 2), ('lil', 2), ('favored', 2), ('fibrous', 2), ('shells', 2), ('sherry', 2), ('scampi', 2), ('prawns', 2), ('scraps', 2), ('unexpected', 2), ('perspective', 2), ('drizzle', 2), ('laboratory', 2), ('article', 2), ('heirloom', 2), ('decorations', 2), ('sprinkles', 2), ('wrigley', 2), ('loses', 2), ('rotel', 2), ('roy', 2), ('conversation', 2), ('praise', 2), ('thighs', 2), ('imo', 2), ('h', 2), ('robbery', 2), ('ingrediants', 2), ('alpo', 2), ('sp', 2), ('boiled', 2), ('catfish', 2), ('cast', 2), ('scrape', 2), ('overwhelms', 2), ('msgs', 2), ('decreased', 2), ('refuse', 2), ('reduction', 2), ('chalk', 2), ('watched', 2), ('fa', 2), ('breasts', 2), ('loco', 2), ('miserable', 2), ('qualify', 2), ('unwrap', 2), ('inferior', 2), ('fitting', 2), ('filets', 2), ('chutney', 2), ('fyi', 2), ('teething', 2), ('juicy', 2), ('mildly', 2), ('mmmmmm', 2), ('mainstream', 2), ('dots', 2), ('nibs', 2), ('rival', 2), ('believes', 2), ('malted', 2), ('challenging', 2), ('laces', 2), ('safcol', 2), ('focusing', 2), ('film', 2), ('zealand', 2), ('australia', 2), ('differently', 2), ('diappointed', 2), ('thickened', 2), ('perplexed', 2), ('creaminess', 2), ('remarkably', 2), ('disodium', 2), ('condensed', 2), ('chowders', 2), ('sourcing', 2), ('creamier', 2), ('rips', 2), ('complexity', 2), ('pacific', 2), ('dixie', 2), ('rum', 2), ('exchange', 2), ('cupcake', 2), ('turbinado', 2), ('harvest', 2), ('climate', 2), ('damaging', 2), ('lung', 2), ('finer', 2), ('physically', 2), ('catching', 2), ('triple', 2), ('gelatin', 2), ('lion', 2), ('witch', 2), ('cavenders', 2), ('relish', 2), ('pita', 2), ('diluted', 2), ('tempt', 2), ('staining', 2), ('vitagravy', 2), ('confess', 2), ('stomachs', 2), ('grammy', 2), ('resource', 2), ('evidently', 2), ('pancreatitis', 2), ('hospitalization', 2), ('spoke', 2), ('ironically', 2), ('suprise', 2), ('noses', 2), ('promptness', 2), ('staples', 2), ('clicks', 2), ('fathers', 2), ('whitman', 2), ('standalone', 2), ('switzerland', 2), ('increasingly', 2), ('cities', 2), ('international', 2), ('nestle', 2), ('mustards', 2), ('essence', 2), ('fade', 2), ('rot', 2), ('auction', 2), ('uncooked', 2), ('glazed', 2), ('springform', 2), ('lemons', 2), ('gently', 2), ('sponge', 2), ('sucre', 2), ('lined', 2), ('carrageenan', 2), ('locust', 2), ('ranchera', 2), ('duller', 2), ('resemblance', 2), ('ferrero', 2), ('suprisingly', 2), ('emailed', 2), ('lied', 2), ('rawhide', 2), ('suddenly', 2), ('peace', 2), ('sheltie', 2), ('pig', 2), ('meadow', 2), ('ah', 2), ('harvested', 2), ('wording', 2), ('earthworms', 2), ('applications', 2), ('fertilize', 2), ('colony', 2), ('collapse', 2), ('pesticide', 2), ('assures', 2), ('application', 2), ('pests', 2), ('diseases', 2), ('ohio', 2), ('sassafrass', 2), ('roots', 2), ('pappy', 2), ('hives', 2), ('investigation', 2), ('rootbeer', 2), ('undertone', 2), ('brownish', 2), ('lame', 2), ('struck', 2), ('bouquet', 2), ('refrain', 2), ('sipping', 2), ('excitedly', 2), ('syrupy', 2), ('indicated', 2), ('blooming', 2), ('gaining', 2), ('path', 2), ('existing', 2), ('incorrectly', 2), ('pistachio', 2), ('butterscotch', 2), ('transit', 2), ('proportion', 2), ('toothpick', 2), ('appetizer', 2), ('norway', 2), ('twinings', 2), ('hunted', 2), ('wound', 2), ('calamares', 2), ('crown', 2), ('prince', 2), ('extend', 2), ('allowance', 2), ('goal', 2), ('laid', 2), ('sardine', 2), ('chloresterol', 2), ('factor', 2), ('incidentally', 2), ('swallowing', 2), ('infusions', 2), ('commercials', 2), ('crispness', 2), ('habitual', 2), ('prone', 2), ('binge', 2), ('nibbling', 2), ('goreng', 2), ('opens', 2), ('disclosure', 2), ('december', 2), ('anywho', 2), ('seperate', 2), ('cheaply', 2), ('misled', 2), ('choosing', 2), ('gastric', 2), ('cfh', 2), ('ferret', 2), ('headed', 2), ('undoubtedly', 2), ('dealing', 2), ('digestible', 2), ('wag', 2), ('llao', 2), ('pipeline', 2), ('behold', 2), ('catering', 2), ('richness', 2), ('perform', 2), ('portuguese', 2), ('enthusiastically', 2), ('lets', 2), ('instances', 2), ('goodie', 2), ('behavior', 2), ('lucy', 2), ('daisy', 2), ('dye', 2), ('aniseed', 2), ('websites', 2), ('buys', 2), ('shorter', 2), ('ikea', 2), ('vines', 2), ('twizzler', 2), ('reduces', 2), ('gimbal', 2), ('iodine', 2), ('richer', 2), ('describing', 2), ('trace', 2), ('bomb', 2), ('educational', 2), ('grandparents', 2), ('unfriendly', 2), ('circus', 2), ('becareful', 2), ('icecream', 2), ('april', 2), ('responsive', 2), ('easter', 2), ('timothy', 2), ('imitators', 2), ('reminding', 2), ('calms', 2), ('ignore', 2), ('pointer', 2), ('metabolic', 2), ('recover', 2), ('field', 2), ('dawned', 2), ('adjusted', 2), ('investment', 2), ('indoors', 2), ('chlorophyll', 2), ('organically', 2), ('blades', 2), ('chicory', 2), ('cardamom', 2), ('journey', 2), ('sleepy', 2), ('kicks', 2), ('rush', 2), ('heads', 2), ('pickles', 2), ('deter', 2), ('houseplants', 2), ('throws', 2), ('aids', 2), ('thumb', 2), ('sill', 2), ('insure', 2), ('pressing', 2), ('insanely', 2), ('continually', 2), ('hasnt', 2), ('gnawing', 2), ('kills', 2), ('aussie', 2), ('heeler', 2), ('canine', 2), ('unbelievable', 2), ('legally', 2), ('disabled', 2), ('subject', 2), ('actors', 2), ('astounding', 2), ('proceeds', 2), ('bouncy', 2), ('doggy', 2), ('vomits', 2), ('settling', 2), ('uranium', 2), ('glow', 2), ('tzus', 2), ('periodically', 2), ('bouts', 2), ('intestinal', 2), ('orderd', 2), ('unfit', 2), ('vast', 2), ('spaniels', 2), ('aging', 2), ('tummies', 2), ('foster', 2), ('digests', 2), ('undesirable', 2), ('sourced', 2), ('replies', 2), ('force', 2), ('russells', 2), ('yorkie', 2), ('groomed', 2), ('mucous', 2), ('lancaster', 2), ('firmer', 2), ('accept', 2), ('bi', 2), ('enzymes', 2), ('border', 2), ('dramatically', 2), ('smelly', 2), ('preservative', 2), ('debacle', 2), ('corporate', 2), ('lastly', 2), ('allot', 2), ('chore', 2), ('specials', 2), ('friday', 2), ('determined', 2), ('taxes', 2), ('million', 2), ('depend', 2), ('chihuahua', 2), ('dull', 2), ('text', 2), ('cleaner', 2), ('disturbing', 2), ('wk', 2), ('continuous', 2), ('reconsider', 2), ('terriers', 2), ('substituted', 2), ('supplements', 2), ('pooch', 2), ('skipping', 2), ('pills', 2), ('hotels', 2), ('flow', 2), ('brave', 2), ('yea', 2), ('flours', 2), ('reused', 2), ('typed', 2), ('grandpa', 2), ('caribou', 2), ('camelbak', 2), ('negligible', 2), ('stirring', 2), ('prep', 2), ('boosts', 2), ('mexico', 2), ('western', 2), ('sub', 2), ('ins', 2), ('ness', 2), ('squeezed', 2), ('sediment', 2), ('averaged', 2), ('attack', 2), ('altered', 2), ('mask', 2), ('cumbersome', 2), ('defeats', 2), ('flush', 2), ('leaking', 2), ('frustration', 2), ('screwing', 2), ('sturdier', 2), ('covering', 2), ('attracted', 2), ('freshening', 2), ('gadget', 2), ('oprah', 2), ('stepfather', 2), ('foodies', 2), ('homes', 2), ('scallions', 2), ('wrestling', 2), ('trap', 2), ('reached', 2), ('lift', 2), ('ex', 2), ('quench', 2), ('sundae', 2), ('cube', 2), ('rugged', 2), ('knocked', 2), ('houston', 2), ('lifetime', 2), ('tied', 2), ('divided', 2), ('preschool', 2), ('sb', 2), ('confectionery', 2), ('worthless', 2), ('spoons', 2), ('wholegrain', 2), ('hippy', 2), ('kashi', 2), ('larry', 2), ('bulldog', 2), ('experimenting', 2), ('furthermore', 2), ('stamp', 2), ('horribly', 2), ('doodle', 2), ('farts', 2), ('shall', 2), ('meaty', 2), ('probiotics', 2), ('harmonic', 2), ('grande', 2), ('rash', 2), ('canaan', 2), ('porty', 2), ('prescribed', 2), ('heartily', 2), ('texas', 2), ('annie', 2), ('towards', 2), ('maintained', 2), ('josh', 2), ('syracuse', 2), ('satisfies', 2), ('binder', 2), ('sunchips', 2), ('stroke', 2), ('horrifying', 2), ('radiation', 2), ('treated', 2), ('portrayed', 2), ('mountains', 2), ('cuisinart', 2), ('failed', 2), ('rob', 2), ('whites', 2), ('hype', 2), ('saturday', 2), ('isle', 2), ('contemplating', 2), ('touted', 2), ('complimenting', 2), ('flake', 2), ('owe', 2), ('quaker', 2), ('frm', 2), ('jamaica', 2), ('judgement', 2), ('doubts', 2), ('seeded', 2), ('overpowered', 2), ('tartness', 2), ('pun', 2), ('dragon', 2), ('pyrex', 2), ('upper', 2), ('seltzer', 2), ('arrowhead', 2), ('net', 2), ('glycerin', 2), ('cruz', 2), ('unfurl', 2), ('surpassed', 2), ('expand', 2), ('nate', 2), ('jerry', 2), ('trang', 2), ('figuring', 2), ('somebody', 2), ('votes', 2), ('modifications', 2), ('accuracy', 2), ('relaxing', 2), ('arm', 2), ('lapsang', 2), ('souchong', 2), ('custom', 2), ('rapidly', 2), ('reddish', 2), ('characteristic', 2), ('consists', 2), ('ranks', 2), ('bagels', 2), ('luxury', 2), ('seaweed', 2), ('strait', 2), ('lorann', 2), ('sf', 2), ('torani', 2), ('mouthfeel', 2), ('teavana', 2), ('tao', 2), ('manages', 2), ('calculated', 2), ('folger', 2), ('coffeemaker', 2), ('dispenser', 2), ('thanx', 2), ('colds', 2), ('weaknesses', 2), ('interfaces', 2), ('pitched', 2), ('compatibility', 2), ('techs', 2), ('skype', 2), ('sensitivity', 2), ('firmware', 2), ('port', 2), ('flawless', 2), ('behringer', 2), ('tune', 2), ('adapter', 2), ('speakers', 2), ('header', 2), ('loading', 2), ('manager', 2), ('messing', 2), ('weeds', 2), ('disagree', 2), ('devices', 2), ('micmate', 2), ('producto', 2), ('por', 2), ('su', 2), ('culquier', 2), ('cualquier', 2), ('momento', 2), ('tener', 2), ('entrada', 2), ('para', 2), ('external', 2), ('hip', 2), ('deciding', 2), ('midi', 2), ('pcs', 2), ('macs', 2), ('explanation', 2), ('craftsmanship', 2), ('indicators', 2), ('connector', 2), ('recognizes', 2), ('analog', 2), ('bluebird', 2), ('recorder', 2), ('eq', 2), ('route', 2), ('install', 2), ('blog', 2), ('trumpet', 2), ('abuse', 2), ('literature', 2), ('solely', 2), ('inputs', 2), ('podcasting', 2), ('taped', 2), ('logic', 2), ('marginal', 2), ('conversion', 2), ('comfortable', 2), ('holland', 2), ('relatives', 2), ('thawed', 2), ('surrounded', 2), ('clumping', 2), ('shine', 2), ('violet', 2), ('freshen', 2), ('featured', 2), ('worthy', 2), ('decorated', 2), ('rind', 2), ('velvet', 2), ('walkers', 2), ('mailing', 2), ('popsicles', 2), ('rings', 2), ('overseas', 2), ('guinness', 2), ('longest', 2), ('transfer', 2), ('brine', 2), ('vibrant', 2), ('immensely', 2), ('odwalla', 2), ('artificially', 2), ('arent', 2), ('hehe', 2), ('dicing', 2), ('cumin', 2), ('gelatinous', 2), ('frost', 2), ('decorating', 2), ('ugly', 2), ('flatbreads', 2), ('biodegradable', 2), ('ricore', 2), ('wrigleys', 2), ('sugarless', 2), ('goldfish', 2), ('chewier', 2), ('montebello', 2), ('del', 2), ('spagetti', 2), ('raincoast', 2), ('nyc', 2), ('occurs', 2), ('stuffer', 2), ('stinks', 2), ('costing', 2), ('bye', 2), ('lavazza', 2), ('bialetti', 2), ('cash', 2), ('rachel', 2), ('kobe', 2), ('concord', 2), ('acerola', 2), ('goji', 2), ('oxidants', 2), ('parisian', 2), ('interestingly', 2), ('judge', 2), ('buzz', 2), ('disposable', 2), ('boxers', 2), ('tracts', 2), ('kudos', 2), ('mastiff', 2), ('mutt', 2), ('tblsp', 2), ('supplementation', 2), ('disclaimer', 2), ('returning', 2), ('plaster', 2), ('clove', 2), ('tillen', 2), ('dieters', 2), ('moderately', 2), ('caveat', 2), ('luv', 2), ('individuals', 2), ('fluctuate', 2), ('parmessan', 2), ('excitement', 2), ('poly', 2), ('mono', 2), ('refill', 2), ('successful', 2), ('moms', 2), ('crisper', 2), ('bqq', 2), ('spitting', 2), ('blink', 2), ('fighting', 2), ('critic', 2), ('puffy', 2), ('unaware', 2), ('baldwin', 2), ('ps', 2), ('swapping', 2), ('whew', 2), ('vita', 2), ('pickey', 2), ('complains', 2), ('conscience', 2), ('opinions', 2), ('forty', 2), ('unhealthier', 2), ('fraction', 2), ('perforations', 2), ('handing', 2), ('methods', 2), ('unpopped', 2), ('ontop', 2), ('riba', 2), ('refried', 2), ('fabulously', 2), ('fermentation', 2), ('sustains', 2), ('coconuts', 2), ('pinched', 2), ('medicine', 2), ('yerba', 2), ('jitters', 2), ('lady', 2), ('similarities', 2), ('bulls', 2), ('frontier', 2), ('bumblebee', 2), ('geisha', 2), ('bumble', 2), ('springer', 2), ('motivation', 2), ('grit', 2), ('detroit', 2), ('roadside', 2), ('summers', 2), ('meh', 2), ('devil', 2), ('development', 2), ('rubbery', 2), ('cottonelle', 2), ('flushable', 2), ('sensation', 2), ('exclusive', 2), ('flagship', 2), ('culturelle', 2), ('infants', 2), ('earlyshield', 2), ('pk', 2), ('bay', 2), ('aggressive', 2), ('tile', 2), ('train', 2), ('teens', 2), ('neutered', 2), ('planned', 2), ('remedy', 2), ('malls', 2), ('slender', 2), ('spotted', 2), ('wheatfree', 2), ('undamaged', 2), ('outcome', 2), ('bucket', 2), ('slenderize', 2), ('leads', 2), ('element', 2), ('madhava', 2), ('decrease', 2), ('dents', 2), ('fools', 2), ('prefere', 2), ('godiva', 2), ('personality', 2), ('flair', 2), ('coconutty', 2), ('indonesia', 2), ('solved', 2), ('trendy', 2), ('quencher', 2), ('concoctions', 2), ('distinguished', 2), ('oxidents', 2), ('airport', 2), ('iprozon', 2), ('breastmilk', 2), ('intuition', 2), ('academy', 2), ('pediatrics', 2), ('phospholipids', 2), ('prevalence', 2), ('midmorning', 2), ('gm', 2), ('kittens', 2), ('chablis', 2), ('corks', 2), ('chardonnay', 2), ('australian', 2), ('favorably', 2), ('compensate', 2), ('tore', 2), ('curb', 2), ('valve', 2), ('intoxicating', 2), ('bizarre', 2), ('measurements', 2), ('darkness', 2), ('decaffeinating', 2), ('cringe', 2), ('equivalents', 2), ('rivera', 2), ('soluble', 2), ('fold', 2), ('caffinated', 2), ('gnome', 2), ('fresca', 2), ('cocktail', 2), ('cork', 2), ('responded', 2), ('managing', 2), ('vial', 2), ('holder', 2), ('vials', 2), ('moroccan', 2), ('esselstyn', 2), ('knees', 2), ('studies', 2), ('runner', 2), ('ibuprofen', 2), ('displays', 2), ('caffene', 2), ('sept', 2), ('moose', 2), ('mickey', 2), ('commands', 2), ('surf', 2), ('vegans', 2), ('davis', 2), ('stix', 2), ('smokehouse', 2), ('valuepetsupplies', 2), ('wabash', 2), ('hull', 2), ('genocide', 1), ('slickers', 1), ('surfaces', 1), ('screens', 1), ('monitors', 1), ('pedigree', 1), ('coton', 1), ('tulear', 1), ('structure', 1), ('weighed', 1), ('hardness', 1), ('disceptive', 1), ('granule', 1), ('intention', 1), ('undissolved', 1), ('preventing', 1), ('slashing', 1), ('redeeming', 1), ('chao', 1), ('kah', 1), ('shreds', 1), ('sautee', 1), ('oregano', 1), ('washed', 1), ('lengthwise', 1), ('groups', 1), ('oout', 1), ('enchaladas', 1), ('tamales', 1), ('beefers', 1), ('mexgrocer', 1), ('podunk', 1), ('fedex', 1), ('mailbox', 1), ('saddle', 1), ('botique', 1), ('burrito', 1), ('transplanted', 1), ('gild', 1), ('renaissance', 1), ('banquets', 1), ('gilding', 1), ('painting', 1), ('filigree', 1), ('clients', 1), ('prop', 1), ('aspen', 1), ('groom', 1), ('artist', 1), ('paintbrush', 1), ('startlingly', 1), ('brushes', 1), ('realistically', 1), ('splashes', 1), ('spiced', 1), ('gatherings', 1), ('fairway', 1), ('hazards', 1), ('pins', 1), ('decor', 1), ('wilton', 1), ('confidant', 1), ('adzuki', 1), ('azuki', 1), ('ment', 1), ('draining', 1), ('mashing', 1), ('pasteries', 1), ('mochi', 1), ('cabbage', 1), ('daikon', 1), ('wontons', 1), ('chang', 1), ('laying', 1), ('consisting', 1), ('drench', 1), ('easiness', 1), ('sic', 1), ('beasts', 1), ('bulghour', 1), ('insurance', 1), ('varied', 1), ('menus', 1), ('elixir', 1), ('banquet', 1), ('parsely', 1), ('siracha', 1), ('aoli', 1), ('egrolls', 1), ('potstickers', 1), ('youself', 1), ('checken', 1), ('seared', 1), ('scallops', 1), ('versitile', 1), ('tht', 1), ('sleeper', 1), ('ahve', 1), ('perks', 1), ('reheat', 1), ('flagging', 1), ('idiocy', 1), ('convince', 1), ('yep', 1), ('rangoon', 1), ('vegies', 1), ('xmas', 1), ('consolation', 1), ('fryer', 1), ('quarters', 1), ('isticky', 1), ('squat', 1), ('hibachi', 1), ('braziers', 1), ('sidewalks', 1), ('trot', 1), ('alongside', 1), ('inter', 1), ('buses', 1), ('stations', 1), ('squeamish', 1), ('fowl', 1), ('blackbird', 1), ('condor', 1), ('whooping', 1), ('crane', 1), ('whih', 1), ('recreate', 1), ('replacements', 1), ('spectaculary', 1), ('tijuana', 1), ('flats', 1), ('wells', 1), ('preceded', 1), ('nope', 1), ('fer', 1), ('plumbing', 1), ('sincere', 1), ('apologies', 1), ('doubting', 1), ('cambodia', 1), ('ramikens', 1), ('obscene', 1), ('belongs', 1), ('worcestershire', 1), ('est', 1), ('knoxville', 1), ('bartender', 1), ('sriracha', 1), ('proclaimed', 1), ('nation', 1), ('dippin', 1), ('moistened', 1), ('coined', 1), ('pill', 1), ('perugina', 1), ('quanity', 1), ('costo', 1), ('favs', 1), ('gloomy', 1), ('relating', 1), ('grounds', 1), ('ensured', 1), ('superceded', 1), ('tannins', 1), ('naniboujou', 1), ('lodge', 1), ('shore', 1), ('minnesota', 1), ('ashbys', 1), ('distant', 1), ('cactus', 1), ('tastelessly', 1), ('picante', 1), ('inclan', 1), ('diluting', 1), ('tentacle', 1), ('bitten', 1), ('scotties', 1), ('tolerablel', 1), ('redundant', 1), ('muss', 1), ('underestimated', 1), ('quintessential', 1), ('breadboard', 1), ('pickling', 1), ('bella', 1), ('bounced', 1), ('kaboodle', 1), ('housemate', 1), ('forth', 1), ('utter', 1), ('buffoon', 1), ('deeply', 1), ('unmeasured', 1), ('parsing', 1), ('destroying', 1), ('unrealistic', 1), ('ripping', 1), ('mischief', 1), ('checkup', 1), ('slaughterhouse', 1), ('freaks', 1), ('sawdust', 1), ('hearts', 1), ('regrettable', 1), ('trashing', 1), ('howling', 1), ('genuinely', 1), ('honesty', 1), ('resealed', 1), ('gaps', 1), ('oxidize', 1), ('inconvenience', 1), ('misfortune', 1), ('encounter', 1), ('theo', 1), ('nibblers', 1), ('obese', 1), ('females', 1), ('lessening', 1), ('furminator', 1), ('worrisome', 1), ('worsened', 1), ('actively', 1), ('fooling', 1), ('detailing', 1), ('absoloutely', 1), ('acting', 1), ('overfeed', 1), ('obligatory', 1), ('optimal', 1), ('feathers', 1), ('toe', 1), ('implying', 1), ('adoption', 1), ('centers', 1), ('indispensible', 1), ('marvel', 1), ('lozenges', 1), ('curiously', 1), ('whimper', 1), ('notummy', 1), ('tamer', 1), ('desperation', 1), ('hops', 1), ('tame', 1), ('heather', 1), ('acacia', 1), ('captivating', 1), ('discomfort', 1), ('assumed', 1), ('alludes', 1), ('grants', 1), ('versatility', 1), ('strainers', 1), ('institute', 1), ('rubbermaid', 1), ('peppered', 1), ('sofla', 1), ('licious', 1), ('cormick', 1), ('bisquits', 1), ('watercress', 1), ('lickin', 1), ('homestyle', 1), ('pekeingese', 1), ('charlee', 1), ('masse', 1), ('behavioral', 1), ('distracted', 1), ('shepherds', 1), ('flaking', 1), ('simplified', 1), ('puzzle', 1), ('clipper', 1), ('toes', 1), ('phenylalanine', 1), ('whet', 1), ('whistle', 1), ('gorilla', 1), ('shook', 1), ('permuatations', 1), ('offerred', 1), ('pepperidge', 1), ('incarnation', 1), ('blowing', 1), ('ineffable', 1), ('perfected', 1), ('classical', 1), ('multinational', 1), ('bht', 1), ('skim', 1), ('capful', 1), ('kretschmer', 1), ('synagogue', 1), ('atop', 1), ('bun', 1), ('grins', 1), ('pee', 1), ('restoring', 1), ('tendencies', 1), ('sympathetic', 1), ('electrolytic', 1), ('rehydration', 1), ('reception', 1), ('discipline', 1), ('jumping', 1), ('pogo', 1), ('uninvigorating', 1), ('lethargic', 1), ('unenhanced', 1), ('monitored', 1), ('mcburbia', 1), ('proffers', 1), ('shpping', 1), ('uplifting', 1), ('flouride', 1), ('chlorine', 1), ('mtbe', 1), ('osmosis', 1), ('oxygen', 1), ('classrooms', 1), ('dorthy', 1), ('neccessary', 1), ('purity', 1), ('vpi', 1), ('gunk', 1), ('scrub', 1), ('glop', 1), ('detergent', 1), ('sinks', 1), ('visably', 1), ('penetrating', 1), ('impurities', 1), ('vinyl', 1), ('cd', 1), ('buisness', 1), ('chop', 1), ('lastplace', 1), ('mccormacks', 1), ('coffiee', 1), ('boughtit', 1), ('issimply', 1), ('peets', 1), ('contraptions', 1), ('gnc', 1), ('aftertase', 1), ('deliveries', 1), ('dissolving', 1), ('blyth', 1), ('virgil', 1), ('nu', 1), ('dilemma', 1), ('tricked', 1), ('politics', 1), ('competition', 1), ('sclerosis', 1), ('fooder', 1), ('spiking', 1), ('goodbye', 1), ('caregiver', 1), ('limeade', 1), ('bio', 1), ('venetian', 1), ('las', 1), ('ordinarily', 1), ('swanson', 1), ('dexterity', 1), ('queried', 1), ('canceled', 1), ('tinea', 1), ('versicolor', 1), ('milkshake', 1), ('cottage', 1), ('cacao', 1), ('powderjust', 1), ('productfull', 1), ('baskets', 1), ('settleing', 1), ('cardigan', 1), ('welsh', 1), ('sportmix', 1), ('bomber', 1), ('administration', 1), ('cautioning', 1), ('tenders', 1), ('illnesses', 1), ('veterinarians', 1), ('unexpectedly', 1), ('addressed', 1), ('sack', 1), ('commonplace', 1), ('closure', 1), ('spoilage', 1), ('repackaged', 1), ('thom', 1), ('enrich', 1), ('lactating', 1), ('shatter', 1), ('announcement', 1), ('wtf', 1), ('negatives', 1), ('hairlike', 1), ('thorns', 1), ('pithed', 1), ('travels', 1), ('filipino', 1), ('z', 1), ('grin', 1), ('ay', 1), ('progressive', 1), ('heading', 1), ('multiplication', 1), ('math', 1), ('genuine', 1), ('predictive', 1), ('stail', 1), ('understandable', 1), ('thx', 1), ('celebrated', 1), ('kindergartens', 1), ('earache', 1), ('toothache', 1), ('sufferer', 1), ('clears', 1), ('offense', 1), ('drainage', 1), ('agent', 1), ('passages', 1), ('nothad', 1), ('decongestants', 1), ('hrs', 1), ('racing', 1), ('netty', 1), ('optimistically', 1), ('vicks', 1), ('humidifier', 1), ('neti', 1), ('xlear', 1), ('clearer', 1), ('yelp', 1), ('phila', 1), ('dissoluble', 1), ('drains', 1), ('guaifenisen', 1), ('naturapath', 1), ('potions', 1), ('lotions', 1), ('clicking', 1), ('nostril', 1), ('ceased', 1), ('hay', 1), ('fever', 1), ('somoeone', 1), ('busters', 1), ('blues', 1), ('ire', 1), ('clientele', 1), ('vital', 1), ('inquiring', 1), ('patriot', 1), ('dim', 1), ('piad', 1), ('dissuade', 1), ('knights', 1), ('dismayed', 1), ('ft', 1), ('myer', 1), ('clueless', 1), ('viola', 1), ('romano', 1), ('promotes', 1), ('fettuccine', 1), ('parm', 1), ('cormicks', 1), ('availalbe', 1), ('chuck', 1), ('runzo', 1), ('pittsburgh', 1), ('ross', 1), ('mounds', 1), ('footstool', 1), ('arthritic', 1), ('ash', 1), ('ut', 1), ('prissy', 1), ('tease', 1), ('shifting', 1), ('reviewd', 1), ('enviorment', 1), ('noitce', 1), ('chowing', 1), ('sensitve', 1), ('affairs', 1), ('grouchy', 1), ('temperament', 1), ('affectionate', 1), ('instructed', 1), ('catties', 1), ('fatties', 1), ('evinced', 1), ('stink', 1), ('barfed', 1), ('kicker', 1), ('demeanor', 1), ('improvements', 1), ('attribute', 1), ('lessen', 1), ('stiffer', 1), ('tortillas', 1), ('disolve', 1), ('newborn', 1), ('inconsolably', 1), ('wikipedia', 1), ('infantile', 1), ('screams', 1), ('extended', 1), ('specialized', 1), ('relations', 1), ('obesity', 1), ('welcomed', 1), ('funky', 1), ('viral', 1), ('gasreduced', 1), ('fussinesseasy', 1), ('upcons', 1), ('feedings', 1), ('digestyou', 1), ('unwieldy', 1), ('accessory', 1), ('comfortably', 1), ('alpacas', 1), ('supplemental', 1), ('permanently', 1), ('pasture', 1), ('overgrown', 1), ('pointy', 1), ('flexibility', 1), ('behaved', 1), ('barrier', 1), ('strand', 1), ('unattended', 1), ('strands', 1), ('brief', 1), ('mowed', 1), ('thoughtfully', 1), ('unroll', 1), ('reroll', 1), ('takedown', 1), ('brackets', 1), ('bracket', 1), ('latch', 1), ('touched', 1), ('organized', 1), ('pile', 1), ('corrals', 1), ('flexible', 1), ('panels', 1), ('tying', 1), ('zareba', 1), ('ezee', 1), ('rundown', 1), ('respectful', 1), ('fencing', 1), ('terminals', 1), ('statement', 1), ('rigged', 1), ('loop', 1), ('tension', 1), ('compartments', 1), ('elastic', 1), ('holders', 1), ('jumble', 1), ('pierced', 1), ('charm', 1), ('getaway', 1), ('redone', 1), ('pool', 1), ('wanderers', 1), ('assemble', 1), ('maternity', 1), ('ward', 1), ('alpaca', 1), ('millay', 1), ('cria', 1), ('herd', 1), ('hobbling', 1), ('escape', 1), ('operates', 1), ('cells', 1), ('grid', 1), ('fi', 1), ('cordura', 1), ('nylon', 1), ('foot', 1), ('tabs', 1), ('slots', 1), ('configurations', 1), ('attaches', 1), ('pole', 1), ('reel', 1), ('tamped', 1), ('shoulder', 1), ('strap', 1), ('tents', 1), ('tent', 1), ('enclosure', 1), ('viable', 1), ('mare', 1), ('interns', 1), ('laundry', 1), ('peeing', 1), ('locked', 1), ('chocoholic', 1), ('raid', 1), ('cupboards', 1), ('drawers', 1), ('pharmacist', 1), ('snail', 1), ('megabyte', 1), ('assimilate', 1), ('colder', 1), ('release', 1), ('saucethings', 1), ('omelets', 1), ('burritos', 1), ('hottest', 1), ('grouping', 1), ('teensy', 1), ('spaces', 1), ('healtier', 1), ('myeslf', 1), ('gensoy', 1), ('inconsistent', 1), ('tolerable', 1), ('newly', 1), ('refundable', 1), ('snackwise', 1), ('kindof', 1), ('crispier', 1), ('eveything', 1), ('clearancing', 1), ('justice', 1), ('bid', 1), ('masterpiece', 1), ('sworn', 1), ('rebooting', 1), ('defragging', 1), ('crusted', 1), ('overbearing', 1), ('polished', 1), ('punish', 1), ('deadened', 1), ('markedly', 1), ('frazzled', 1), ('releave', 1), ('brisk', 1), ('cozy', 1), ('stashtea', 1), ('baubles', 1), ('carl', 1), ('tempting', 1), ('alters', 1), ('recieve', 1), ('amilk', 1), ('puddin', 1), ('exeption', 1), ('vey', 1), ('appease', 1), ('duper', 1), ('connivence', 1), ('fullest', 1), ('celophane', 1), ('outlet', 1), ('taffyshe', 1), ('laffyher', 1), ('honeyshe', 1), ('kissoh', 1), ('sectioned', 1), ('waxed', 1), ('bday', 1), ('evokes', 1), ('pining', 1), ('downsides', 1), ('sweetsamazon', 1), ('sprouting', 1), ('wheatgrass', 1), ('deliscious', 1), ('pds', 1), ('slip', 1), ('rewarded', 1), ('enjoyer', 1), ('recloseable', 1), ('takeout', 1), ('microwaveable', 1), ('keepre', 1), ('eatting', 1), ('vaguely', 1), ('purified', 1), ('spillage', 1), ('speaking', 1), ('tai', 1), ('peanutty', 1), ('distinguishes', 1), ('stride', 1), ('gilligan', 1), ('alley', 1), ('metaphors', 1), ('tj', 1), ('awkward', 1), ('thia', 1), ('pastes', 1), ('yummier', 1), ('panang', 1), ('cocunut', 1), ('sieve', 1), ('warmer', 1), ('benifits', 1), ('yogert', 1), ('diffently', 1), ('useing', 1), ('ording', 1), ('flutters', 1), ('undigested', 1), ('bath', 1), ('joints', 1), ('omegas', 1), ('powerhouse', 1), ('romans', 1), ('greeks', 1), ('molars', 1), ('breadbaker', 1), ('apprentice', 1), ('ameliorate', 1), ('bust', 1), ('museli', 1), ('reputable', 1), ('crystal', 1), ('expands', 1), ('seasame', 1), ('kiddos', 1), ('unbrittle', 1), ('healthiness', 1), ('spree', 1), ('biased', 1), ('glanced', 1), ('contaminants', 1), ('governments', 1), ('decisions', 1), ('wisely', 1), ('deterent', 1), ('valid', 1), ('greed', 1), ('cafeteria', 1), ('unethical', 1), ('backing', 1), ('platic', 1), ('ciprofloxacin', 1), ('antibiotic', 1), ('spurious', 1), ('complying', 1), ('stockpiling', 1), ('nuclear', 1), ('holocaust', 1), ('blanched', 1), ('parrot', 1), ('tastless', 1), ('awakening', 1), ('frightening', 1), ('tryed', 1), ('glueton', 1), ('weatherly', 1), ('luzerne', 1), ('macomb', 1), ('becausefood', 1), ('spear', 1), ('detailsabout', 1), ('inspect', 1), ('ourfactory', 1), ('unannouncedinspection', 1), ('thehaccp', 1), ('certificate', 1), ('salmonella', 1), ('testingaflotoxin', 1), ('andmicrobiological', 1), ('testingour', 1), ('bj', 1), ('markethave', 1), ('youcan', 1), ('nothave', 1), ('productsare', 1), ('randomly', 1), ('californiawalnuts', 1), ('californiacashews', 1), ('vietnam', 1), ('brazil', 1), ('canadablueberries', 1), ('canadapomegranate', 1), ('canadanatural', 1), ('californiasesame', 1), ('chinacane', 1), ('ussea', 1), ('chinaplease', 1), ('andconcerns', 1), ('juliemrs', 1), ('citizens', 1), ('jobs', 1), ('trucks', 1), ('subtracting', 1), ('forthright', 1), ('primed', 1), ('loads', 1), ('atrocities', 1), ('recommanded', 1), ('glutenfree', 1), ('expression', 1), ('macaroni', 1), ('grrrrrrrreat', 1), ('masaman', 1), ('massaman', 1), ('treatments', 1), ('ilness', 1), ('reap', 1), ('prevention', 1), ('workplace', 1), ('flavorless', 1), ('bleeds', 1), ('constancy', 1), ('puddle', 1), ('slugs', 1), ('kame', 1), ('bannas', 1), ('criticism', 1), ('sesmark', 1), ('mmmmmmmm', 1), ('inventory', 1), ('skus', 1), ('unavailable', 1), ('cholestoral', 1), ('meringue', 1), ('lemony', 1), ('enlivens', 1), ('explosion', 1), ('curd', 1), ('invert', 1), ('scream', 1), ('spill', 1), ('posters', 1), ('foremost', 1), ('progressed', 1), ('grabby', 1), ('shattered', 1), ('tuscany', 1), ('drives', 1), ('doorstop', 1), ('eb', 1), ('suppository', 1), ('sippy', 1), ('apricots', 1), ('twins', 1), ('unfinished', 1), ('stretchy', 1), ('poking', 1), ('cushioned', 1), ('spongy', 1), ('yellowish', 1), ('ringing', 1), ('gazillion', 1), ('broccoli', 1), ('outgrowing', 1), ('appalled', 1), ('consistly', 1), ('nephews', 1), ('workable', 1), ('triplets', 1), ('eventhe', 1), ('veg', 1), ('stater', 1), ('bros', 1), ('sause', 1), ('flavorable', 1), ('locations', 1), ('enptied', 1), ('corroded', 1), ('forest', 1), ('ascertain', 1), ('canning', 1), ('addendum', 1), ('inspected', 1), ('immaculate', 1), ('cooling', 1), ('disapointment', 1), ('infected', 1), ('dentist', 1), ('undergo', 1), ('painkillers', 1), ('sheesh', 1), ('avoided', 1), ('papayas', 1), ('filledhard', 1), ('theoriginal', 1), ('butnow', 1), ('gems', 1), ('lasta', 1), ('richly', 1), ('confidently', 1), ('vestal', 1), ('shortage', 1), ('gubment', 1), ('cigs', 1), ('institution', 1), ('vinci', 1), ('dd', 1), ('zen', 1), ('blending', 1), ('intial', 1), ('modulate', 1), ('potion', 1), ('singers', 1), ('nickel', 1), ('bleached', 1), ('dusting', 1), ('smacking', 1), ('disassembled', 1), ('advocates', 1), ('fend', 1), ('premature', 1), ('memorieswhen', 1), ('handbags', 1), ('desks', 1), ('handbag', 1), ('admired', 1), ('nutshell', 1), ('dieter', 1), ('pleasebasically', 1), ('minimalist', 1), ('caloriesbottom', 1), ('pretenses', 1), ('additivesas', 1), ('antidote', 1), ('vaccine', 1), ('unplanned', 1), ('modest', 1), ('subsisted', 1), ('vanillaand', 1), ('aback', 1), ('craig', 1), ('debuted', 1), ('shied', 1), ('decadent', 1), ('letterbefore', 1), ('scape', 1), ('misnomer', 1), ('chosen', 1), ('guesswork', 1), ('translates', 1), ('cakester', 1), ('isolate', 1), ('communicate', 1), ('verbally', 1), ('dedication', 1), ('scheme', 1), ('overindulge', 1), ('unwanted', 1), ('gail', 1), ('cooke', 1), ('humm', 1), ('teddy', 1), ('lightness', 1), ('baglets', 1), ('loveable', 1), ('departure', 1), ('hooray', 1), ('omitting', 1), ('fatter', 1), ('seek', 1), ('opportunities', 1), ('identified', 1), ('eliminates', 1), ('nod', 1), ('pretense', 1), ('revel', 1), ('owns', 1), ('altria', 1), ('renamed', 1), ('philip', 1), ('morris', 1), ('billion', 1), ('existence', 1), ('pigging', 1), ('smacks', 1), ('circulatory', 1), ('centennial', 1), ('copyrighted', 1), ('extent', 1), ('mound', 1), ('circular', 1), ('matching', 1), ('reversed', 1), ('allays', 1), ('fears', 1), ('prong', 1), ('specks', 1), ('wary', 1), ('scarffing', 1), ('entrees', 1), ('sociables', 1), ('chilis', 1), ('dente', 1), ('castellana', 1), ('beet', 1), ('squid', 1), ('au', 1), ('naturale', 1), ('turmeric', 1), ('cresent', 1), ('moons', 1), ('exterior', 1), ('celtic', 1), ('chees', 1), ('carbos', 1), ('privilege', 1), ('tapenade', 1), ('overdone', 1), ('spencer', 1), ('feelings', 1), ('interfere', 1), ('supervised', 1), ('explode', 1), ('thousand', 1), ('spoonful', 1), ('nachoes', 1), ('dan', 1), ('eads', 1), ('published', 1), ('ne', 1), ('army', 1), ('fort', 1), ('knox', 1), ('ky', 1), ('opnening', 1), ('cellophane', 1), ('brat', 1), ('relieving', 1), ('smuckers', 1), ('ryvita', 1), ('almostall', 1), ('exercise', 1), ('notecard', 1), ('pesto', 1), ('mister', 1), ('swedish', 1), ('thinness', 1), ('molding', 1), ('melded', 1), ('navigating', 1), ('astore', 1), ('lent', 1), ('excellently', 1), ('erythritol', 1), ('tated', 1), ('untested', 1), ('dissipate', 1), ('fixes', 1), ('wider', 1), ('array', 1), ('extinguishes', 1), ('applesause', 1), ('derivatives', 1), ('weirdly', 1), ('xylitol', 1), ('investigating', 1), ('suggestions', 1), ('packae', 1), ('ummmmm', 1), ('elements', 1), ('hockey', 1), ('substituting', 1), ('bible', 1), ('tinkyada', 1), ('soothes', 1), ('lundberg', 1), ('iceing', 1), ('overback', 1), ('alternitives', 1), ('nurish', 1), ('smiling', 1), ('retailing', 1), ('underground', 1), ('blogs', 1), ('bemoaning', 1), ('concensus', 1), ('sink', 1), ('minichips', 1), ('kamut', 1), ('grittiness', 1), ('boxone', 1), ('dunkan', 1), ('fluff', 1), ('panasonic', 1), ('piled', 1), ('ambrosia', 1), ('cycle', 1), ('stickss', 1), ('rates', 1), ('stretched', 1), ('herby', 1), ('altering', 1), ('yuuuummmmmmyyyy', 1), ('yields', 1), ('goof', 1), ('proofed', 1), ('expended', 1), ('rises', 1), ('entangled', 1), ('breadmachine', 1), ('amatch', 1), ('crusts', 1), ('pkgs', 1), ('spreadable', 1), ('sandwhich', 1), ('pupose', 1), ('niche', 1), ('density', 1), ('flatbread', 1), ('puffed', 1), ('preferable', 1), ('inorganic', 1), ('susie', 1), ('toppin', 1), ('taboule', 1), ('artisana', 1), ('speciality', 1), ('crip', 1), ('prepackaged', 1), ('hesitating', 1), ('gooy', 1), ('pickings', 1), ('serrated', 1), ('eatin', 1), ('rant', 1), ('guest', 1), ('jeremiah', 1), ('casings', 1), ('ingenious', 1), ('expose', 1), ('shelters', 1), ('climbing', 1), ('theres', 1), ('storable', 1), ('beefsticks', 1), ('evaluate', 1), ('havent', 1), ('jims', 1), ('smokeys', 1), ('john', 1), ('wayne', 1), ('jw', 1), ('soot', 1), ('purhcase', 1), ('believers', 1), ('motivator', 1), ('snacksi', 1), ('shotsthe', 1), ('smokeysthese', 1), ('shotsprobably', 1), ('smokiesfatter', 1), ('strungo', 1), ('gunner', 1), ('policy', 1), ('wishes', 1), ('forevaaaaaaa', 1), ('designer', 1), ('persnickety', 1), ('baton', 1), ('rouge', 1), ('loyalty', 1), ('rv', 1), ('ers', 1), ('louisiana', 1), ('nationwide', 1), ('cannisters', 1), ('refrigerating', 1), ('shun', 1), ('overrated', 1), ('yu', 1), ('blinded', 1), ('suggessted', 1), ('certification', 1), ('alliance', 1), ('ra', 1), ('bih', 1), ('kuh', 1), ('protects', 1), ('corned', 1), ('admits', 1), ('destructive', 1), ('injury', 1), ('rational', 1), ('muted', 1), ('soothe', 1), ('gallo', 1), ('flovorful', 1), ('ace', 1), ('verson', 1), ('peper', 1), ('oompletely', 1), ('indside', 1), ('satisifies', 1), ('assiciated', 1), ('thesedo', 1), ('ridged', 1), ('offically', 1), ('hometown', 1), ('bethlehem', 1), ('nc', 1), ('nancy', 1), ('walsh', 1), ('anodyne', 1), ('ranchero', 1), ('thilled', 1), ('embarrassing', 1), ('bothersome', 1), ('qualms', 1), ('cushioning', 1), ('harmless', 1), ('autolyzed', 1), ('tickle', 1), ('unconventional', 1), ('remotely', 1), ('mexi', 1), ('fied', 1), ('barecue', 1), ('dang', 1), ('skimpy', 1), ('geesh', 1), ('mir', 1), ('longed', 1), ('pastor', 1), ('etcetera', 1), ('henry', 1), ('fanfreakintastic', 1), ('stanky', 1), ('flossing', 1), ('palette', 1), ('plockysthey', 1), ('respectable', 1), ('quacomole', 1), ('cips', 1), ('accessable', 1), ('shelly', 1), ('kenyon', 1), ('temp', 1), ('horseradish', 1), ('fartless', 1), ('cradle', 1), ('motion', 1), ('activate', 1), ('perspiration', 1), ('kleenex', 1), ('colleague', 1), ('earliest', 1), ('planters', 1), ('shaken', 1), ('insulted', 1), ('hyperbole', 1), ('reportedly', 1), ('gods', 1), ('lemongrass', 1), ('pulling', 1), ('smack', 1), ('lingers', 1), ('uneven', 1), ('flaw', 1), ('wateringly', 1), ('chis', 1), ('subway', 1), ('ensuring', 1), ('dousing', 1), ('cape', 1), ('rda', 1), ('jalapenos', 1), ('blows', 1), ('addicts', 1), ('anonymous', 1), ('vend', 1), ('plump', 1), ('markup', 1), ('impressive', 1), ('accompaniment', 1), ('lunds', 1), ('inspired', 1), ('archer', 1), ('sensations', 1), ('moreover', 1), ('thinly', 1), ('rediculous', 1), ('likey', 1), ('vicky', 1), ('affection', 1), ('ados', 1), ('homiedog', 1), ('hbp', 1), ('slated', 1), ('thee', 1), ('decadence', 1), ('creeping', 1), ('soured', 1), ('noticing', 1), ('dangers', 1), ('ruined', 1), ('listings', 1), ('ingredientsselect', 1), ('ingredientspotatoes', 1), ('extracti', 1), ('dijons', 1), ('backside', 1), ('motto', 1), ('obsession', 1), ('clash', 1), ('delectably', 1), ('beleive', 1), ('makeout', 1), ('haters', 1), ('biodiesel', 1), ('cars', 1), ('annually', 1), ('renewable', 1), ('credits', 1), ('rejuvenate', 1), ('neighboring', 1), ('acre', 1), ('wetland', 1), ('earned', 1), ('leed', 1), ('chedder', 1), ('faults', 1), ('wisdom', 1), ('advantages', 1), ('nations', 1), ('knit', 1), ('thesedifferent', 1), ('withstand', 1), ('stonger', 1), ('potatoesvegetable', 1), ('powdersugarsaltonion', 1), ('powdertomato', 1), ('powderpaprikatorula', 1), ('yeastgarlic', 1), ('powderchili', 1), ('peppercitric', 1), ('acidcayenne', 1), ('pepperpaprika', 1), ('oleoresin', 1), ('colour', 1), ('flavournaturally', 1), ('ptato', 1), ('othr', 1), ('kindneys', 1), ('linked', 1), ('productionas', 1), ('thiscan', 1), ('ameliorated', 1), ('teaches', 1), ('excercise', 1), ('jalapino', 1), ('favourites', 1), ('flavoured', 1), ('odds', 1), ('intelligent', 1), ('brained', 1), ('breathed', 1), ('handily', 1), ('committed', 1), ('chive', 1), ('slot', 1), ('unappealing', 1), ('affinity', 1), ('reassess', 1), ('tatters', 1), ('complely', 1), ('customs', 1), ('voyage', 1), ('disgruntling', 1), ('victims', 1), ('orgasmic', 1), ('stole', 1), ('curve', 1), ('helpings', 1), ('racks', 1), ('hearing', 1), ('masks', 1), ('potatoey', 1), ('awesomeness', 1), ('wolfed', 1), ('beauties', 1), ('gabriel', 1), ('mindy', 1), ('puckering', 1), ('poetic', 1), ('succeeded', 1), ('dravis', 1), ('babe', 1), ('prophecy', 1), ('masked', 1), ('compelled', 1), ('edy', 1), ('breyer', 1), ('crispiness', 1), ('crunchiest', 1), ('dentures', 1), ('swigs', 1), ('whitish', 1), ('apologize', 1), ('seasonally', 1), ('butters', 1), ('instance', 1), ('equity', 1), ('cutter', 1), ('employed', 1), ('recognition', 1), ('merchants', 1), ('investors', 1), ('unsuspecting', 1), ('saltless', 1), ('promo', 1), ('optimum', 1), ('poore', 1), ('fired', 1), ('chilling', 1), ('janet', 1), ('jackson', 1), ('risks', 1), ('conglomerate', 1), ('blot', 1), ('towels', 1), ('overflowing', 1), ('costplus', 1), ('opelika', 1), ('northwestern', 1), ('hoover', 1), ('patton', 1), ('hamburgers', 1), ('outs', 1), ('tawny', 1), ('caramelize', 1), ('artisanal', 1), ('monounsaturated', 1), ('flavory', 1), ('survived', 1), ('branch', 1), ('stationed', 1), ('afghanistan', 1), ('missions', 1), ('spilt', 1), ('insulated', 1), ('crusty', 1), ('soldiers', 1), ('unto', 1), ('incredulously', 1), ('veritable', 1), ('myriad', 1), ('mousie', 1), ('roulette', 1), ('fooled', 1), ('defintely', 1), ('madhouse', 1), ('jokingly', 1), ('outback', 1), ('ahold', 1), ('storebrand', 1), ('zapp', 1), ('dripping', 1), ('flavvorssalt', 1), ('peppertuscan', 1), ('cheesen', 1), ('hersthey', 1), ('trial', 1), ('pingos', 1), ('argument', 1), ('pinches', 1), ('saltiest', 1), ('sourest', 1), ('aggrieved', 1), ('greasier', 1), ('microbrew', 1), ('attacks', 1), ('curled', 1), ('controlling', 1), ('builds', 1), ('commit', 1), ('chipotle', 1), ('aint', 1), ('nothin', 1), ('warn', 1), ('nirvana', 1), ('therekettle', 1), ('qualityincredible', 1), ('amazondid', 1), ('peruses', 1), ('spicyness', 1), ('foray', 1), ('surveys', 1), ('manufactures', 1), ('everydayforamonth', 1), ('oversalted', 1), ('ruffly', 1), ('ridges', 1), ('aholic', 1), ('tee', 1), ('obsolete', 1), ('trademark', 1), ('differentiates', 1), ('zack', 1), ('sudden', 1), ('eludes', 1), ('bsg', 1), ('tanginess', 1), ('servicecons', 1), ('styles', 1), ('disappointments', 1), ('irritated', 1), ('dilemmas', 1), ('wou', 1), ('treadmill', 1), ('dynamite', 1), ('iffy', 1), ('eatvery', 1), ('thatrescues', 1), ('overindulgence', 1), ('uniquely', 1), ('vague', 1), ('unchanged', 1), ('dumped', 1), ('rinsed', 1), ('mouthwash', 1), ('baxters', 1), ('rivals', 1), ('ingredientswater', 1), ('cornflour', 1), ('skimmed', 1), ('butterfat', 1), ('stabiliser', 1), ('polyphosphates', 1), ('colours', 1), ('preservativesinformationgluten', 1), ('freecontains', 1), ('shellfish', 1), ('relocating', 1), ('realization', 1), ('flabbergasted', 1), ('espousing', 1), ('desire', 1), ('molecule', 1), ('sinful', 1), ('perpetuated', 1), ('outed', 1), ('enlightening', 1), ('hocus', 1), ('pocus', 1), ('beaker', 1), ('truffles', 1), ('weep', 1), ('menu', 1), ('healty', 1), ('plack', 1), ('thymes', 1), ('refresher', 1), ('avocado', 1), ('shares', 1), ('florist', 1), ('corsage', 1), ('lucked', 1), ('williams', 1), ('orbit', 1), ('wipe', 1), ('pant', 1), ('jacket', 1), ('layed', 1), ('layout', 1), ('quanities', 1), ('chewers', 1), ('freshing', 1), ('whitening', 1), ('risotto', 1), ('orzo', 1), ('prospects', 1), ('tweak', 1), ('revealing', 1), ('tomatos', 1), ('spagehetti', 1), ('spicey', 1), ('quesadillas', 1), ('inflated', 1), ('raises', 1), ('compairing', 1), ('dissapointing', 1), ('discoloration', 1), ('twinnings', 1), ('lee', 1), ('tazo', 1), ('polluted', 1), ('river', 1), ('rusk', 1), ('reeder', 1), ('dynasty', 1), ('imitations', 1), ('bearing', 1), ('wing', 1), ('maryland', 1), ('resupplied', 1), ('fineness', 1), ('listning', 1), ('pats', 1), ('predominant', 1), ('laissez', 1), ('les', 1), ('temps', 1), ('rouler', 1), ('juicecombine', 1), ('legs', 1), ('stumped', 1), ('beside', 1), ('accumulation', 1), ('deceptively', 1), ('highway', 1), ('hydrolysed', 1), ('digress', 1), ('proudly', 1), ('displayed', 1), ('gludamate', 1), ('stimulats', 1), ('durkee', 1), ('breading', 1), ('slap', 1), ('momma', 1), ('implementation', 1), ('generouslycoat', 1), ('meanwhile', 1), ('preheat', 1), ('angle', 1), ('platter', 1), ('bluberry', 1), ('blanket', 1), ('encloses', 1), ('companys', 1), ('redesigned', 1), ('excellentprice', 1), ('repeating', 1), ('nutragrain', 1), ('cardboardy', 1), ('operative', 1), ('shoppers', 1), ('resume', 1), ('semblance', 1), ('former', 1), ('outweigh', 1), ('playground', 1), ('coaching', 1), ('progress', 1), ('neanderthal', 1), ('era', 1), ('compactor', 1), ('drastically', 1), ('heft', 1), ('gag', 1), ('overally', 1), ('isoft', 1), ('chewyness', 1), ('extensive', 1), ('unfortnately', 1), ('bummer', 1), ('restrictions', 1), ('award', 1), ('occupy', 1), ('celiacs', 1), ('clusters', 1), ('gerbils', 1), ('disappionted', 1), ('unpalatable', 1), ('tinned', 1), ('overcoooked', 1), ('fillets', 1), ('kippered', 1), ('herring', 1), ('cite', 1), ('marmalade', 1), ('scrubbing', 1), ('chair', 1), ('cantaloupe', 1), ('loooove', 1), ('goya', 1), ('surrounding', 1), ('towns', 1), ('goyasalad', 1), ('ina', 1), ('marvelous', 1), ('offs', 1), ('yearn', 1), ('forbidden', 1), ('repeated', 1), ('bubblegum', 1), ('doggone', 1), ('doe', 1), ('barry', 1), ('fla', 1), ('middletown', 1), ('consious', 1), ('starkist', 1), ('minsthe', 1), ('wearing', 1), ('headlamps', 1), ('wouldress', 1), ('shazam', 1), ('titled', 1), ('outdated', 1), ('dated', 1), ('provence', 1), ('herbed', 1), ('stint', 1), ('damning', 1), ('stigma', 1), ('drawn', 1), ('viscosity', 1), ('roller', 1), ('notaters', 1), ('vidalya', 1), ('starches', 1), ('chloride', 1), ('phosphate', 1), ('inosinate', 1), ('guanylate', 1), ('succinic', 1), ('oniony', 1), ('ritz', 1), ('carlton', 1), ('lineon', 1), ('verities', 1), ('manhattan', 1), ('dine', 1), ('cambells', 1), ('unfavorable', 1), ('overwhelmingly', 1), ('clammy', 1), ('seawater', 1), ('pat', 1), ('budda', 1), ('rainy', 1), ('sandy', 1), ('devoured', 1), ('gouges', 1), ('unblemished', 1), ('evoo', 1), ('gorton', 1), ('husbands', 1), ('wierd', 1), ('outrageous', 1), ('counters', 1), ('belize', 1), ('tres', 1), ('leches', 1), ('rectangular', 1), ('energ', 1), ('grapeseed', 1), ('alum', 1), ('soo', 1), ('disappoined', 1), ('liable', 1), ('tm', 1), ('burningto', 1), ('hc', 1), ('sdear', 1), ('worsens', 1), ('lungs', 1), ('residents', 1), ('harvesting', 1), ('global', 1), ('muscavado', 1), ('profile', 1), ('simmering', 1), ('licorise', 1), ('thereafter', 1), ('flung', 1), ('chaos', 1), ('daytime', 1), ('detached', 1), ('frustrating', 1), ('centuries', 1), ('pillowy', 1), ('filberts', 1), ('liberally', 1), ('lewis', 1), ('seduces', 1), ('edmund', 1), ('klefje', 1), ('lskejfewl', 1), ('lsfjewldf', 1), ('tbls', 1), ('mol', 1), ('mollie', 1), ('katzan', 1), ('thinned', 1), ('cukes', 1), ('wowee', 1), ('pinkish', 1), ('youch', 1), ('sumac', 1), ('goopy', 1), ('teaspon', 1), ('glob', 1), ('cuz', 1), ('log', 1), ('fesenjen', 1), ('persian', 1), ('garlicky', 1), ('ewwww', 1), ('deserts', 1), ('indefinitely', 1), ('astringent', 1), ('tenderizer', 1), ('sorbets', 1), ('ali', 1), ('julia', 1), ('anxious', 1), ('sacramento', 1), ('mediterranean', 1), ('groomer', 1), ('dental', 1), ('creation', 1), ('miso', 1), ('diarhea', 1), ('scraped', 1), ('spoonfuls', 1), ('bg', 1), ('dinty', 1), ('moore', 1), ('lured', 1), ('gimmicky', 1), ('sickened', 1), ('unrelated', 1), ('lethargy', 1), ('gentry', 1), ('entitled', 1), ('accordingly', 1), ('tainted', 1), ('specificlly', 1), ('aminopterin', 1), ('devastated', 1), ('anguished', 1), ('endure', 1), ('appalling', 1), ('oversight', 1), ('labelling', 1), ('thousands', 1), ('scrap', 1), ('bonemeal', 1), ('appropriately', 1), ('devastating', 1), ('uneducated', 1), ('gaping', 1), ('ratios', 1), ('discuss', 1), ('ocassion', 1), ('applies', 1), ('legged', 1), ('dalmatian', 1), ('cautionary', 1), ('tales', 1), ('wingaling', 1), ('napa', 1), ('schnauzers', 1), ('loosely', 1), ('musty', 1), ('dive', 1), ('saucers', 1), ('recalls', 1), ('noisette', 1), ('alpine', 1), ('purple', 1), ('austria', 1), ('hungary', 1), ('eclectic', 1), ('anthony', 1), ('trendleditor', 1), ('hungarianbookstore', 1), ('expenive', 1), ('acquainted', 1), ('coleman', 1), ('bratwurst', 1), ('salami', 1), ('caesers', 1), ('mannered', 1), ('sauer', 1), ('kraut', 1), ('und', 1), ('kohl', 1), ('alles', 1), ('gute', 1), ('likehorseradish', 1), ('thomy', 1), ('livedin', 1), ('thestates', 1), ('wasavailable', 1), ('andcheese', 1), ('addsthat', 1), ('harden', 1), ('arranged', 1), ('cheesecakes', 1), ('poached', 1), ('bases', 1), ('fluted', 1), ('crumb', 1), ('blind', 1), ('patisserie', 1), ('stabilized', 1), ('tartar', 1), ('suspected', 1), ('scoff', 1), ('billing', 1), ('fajitas', 1), ('suprema', 1), ('dresings', 1), ('strictly', 1), ('inspite', 1), ('dressingnow', 1), ('mules', 1), ('remainder', 1), ('undetectable', 1), ('ferreros', 1), ('guarantees', 1), ('tom', 1), ('mulberries', 1), ('spca', 1), ('sheepdog', 1), ('oinkies', 1), ('portland', 1), ('romantic', 1), ('eyeballs', 1), ('dubble', 1), ('longing', 1), ('dissappointed', 1), ('rome', 1), ('americanized', 1), ('amaretto', 1), ('q', 1), ('studied', 1), ('dwindle', 1), ('chlothianidin', 1), ('honeybees', 1), ('clothianidin', 1), ('granular', 1), ('feeds', 1), ('protecting', 1), ('insecticide', 1), ('fungicidal', 1), ('pollinators', 1), ('plagued', 1), ('flies', 1), ('respected', 1), ('infestation', 1), ('vermin', 1), ('insect', 1), ('shrub', 1), ('infested', 1), ('underneaths', 1), ('gardner', 1), ('ortho', 1), ('borers', 1), ('calendar', 1), ('kim', 1), ('shut', 1), ('facorite', 1), ('granddad', 1), ('breezy', 1), ('elementary', 1), ('diligent', 1), ('timer', 1), ('withstood', 1), ('abundant', 1), ('greets', 1), ('coppery', 1), ('relaxation', 1), ('sheer', 1), ('rosebuds', 1), ('culprit', 1), ('responding', 1), ('liven', 1), ('pushes', 1), ('climb', 1), ('hillock', 1), ('mails', 1), ('mysterious', 1), ('congou', 1), ('cotton', 1), ('nothe', 1), ('blew', 1), ('rosey', 1), ('midst', 1), ('scents', 1), ('sprig', 1), ('pepsi', 1), ('vile', 1), ('cried', 1), ('anemic', 1), ('sls', 1), ('definitentally', 1), ('slammin', 1), ('margarita', 1), ('agava', 1), ('spruce', 1), ('robitussin', 1), ('invoice', 1), ('issuing', 1), ('caramelized', 1), ('ms', 1), ('werthers', 1), ('porcini', 1), ('porcinis', 1), ('transported', 1), ('gravies', 1), ('specified', 1), ('hydrating', 1), ('picks', 1), ('ginseng', 1), ('courses', 1), ('prepping', 1), ('sorting', 1), ('chopping', 1), ('airing', 1), ('invigorates', 1), ('puncture', 1), ('revival', 1), ('consistantly', 1), ('saddens', 1), ('gracious', 1), ('indgredients', 1), ('brisling', 1), ('pyekky', 1), ('eitzehs', 1), ('misery', 1), ('atomizer', 1), ('comanddered', 1), ('mished', 1), ('matzah', 1), ('balsamic', 1), ('worchestershire', 1), ('bitayavon', 1), ('dieti', 1), ('havesomething', 1), ('peopleon', 1), ('roand', 1), ('litte', 1), ('cos', 1), ('gooeyness', 1), ('particle', 1), ('shabby', 1), ('hypothyroidism', 1), ('restore', 1), ('thryoid', 1), ('awwfuul', 1), ('rising', 1), ('succulent', 1), ('perusing', 1), ('renowned', 1), ('crud', 1), ('rolland', 1), ('skinned', 1), ('probally', 1), ('vegetal', 1), ('pallet', 1), ('jin', 1), ('xuan', 1), ('lily', 1), ('summit', 1), ('wanes', 1), ('oolongs', 1), ('stupidly', 1), ('degree', 1), ('convention', 1), ('characters', 1), ('biscuity', 1), ('cones', 1), ('generically', 1), ('scarfing', 1), ('scout', 1), ('delights', 1), ('seventies', 1), ('footage', 1), ('specialize', 1), ('tate', 1), ('comics', 1), ('grad', 1), ('boggling', 1), ('storeedit', 1), ('oct', 1), ('finalizing', 1), ('aka', 1), ('cluttering', 1), ('uploading', 1), ('heatproof', 1), ('freakishly', 1), ('veryasia', 1), ('suffice', 1), ('analogy', 1), ('nitty', 1), ('cleverly', 1), ('soybeans', 1), ('sheanut', 1), ('duh', 1), ('purchses', 1), ('refridgerated', 1), ('looooove', 1), ('miniatures', 1), ('prouct', 1), ('overbuying', 1), ('maltitol', 1), ('laps', 1), ('chowed', 1), ('gluttony', 1), ('farting', 1), ('puppychow', 1), ('champions', 1), ('crepes', 1), ('flan', 1), ('bariloche', 1), ('toasts', 1), ('chimbote', 1), ('bonafide', 1), ('argentine', 1), ('alas', 1), ('involve', 1), ('caramelizes', 1), ('panicked', 1), ('subdued', 1), ('milkier', 1), ('productan', 1), ('ranked', 1), ('buenos', 1), ('aires', 1), ('indicates', 1), ('spain', 1), ('biscottis', 1), ('breathing', 1), ('woof', 1), ('cruchiness', 1), ('updating', 1), ('status', 1), ('crouton', 1), ('leaps', 1), ('cockers', 1), ('hierarchy', 1), ('conformation', 1), ('owning', 1), ('bulldogs', 1), ('bullies', 1), ('epileptic', 1), ('seizure', 1), ('muck', 1), ('allergenic', 1), ('biscoti', 1), ('keen', 1), ('repertoire', 1), ('command', 1), ('female', 1), ('kongs', 1), ('approves', 1), ('encourages', 1), ('obey', 1), ('cornered', 1), ('conceive', 1), ('withdrawal', 1), ('molasseswheat', 1), ('flourlicorice', 1), ('extractnatural', 1), ('memphis', 1), ('exhibit', 1), ('epcot', 1), ('disney', 1), ('surly', 1), ('unsubscribe', 1), ('hypoglycemia', 1), ('yesterdy', 1), ('insukin', 1), ('resistance', 1), ('yummmmmm', 1), ('ingred', 1), ('hardens', 1), ('circulates', 1), ('sweden', 1), ('dissapointments', 1), ('observed', 1), ('nuitionists', 1), ('communicative', 1), ('ritual', 1), ('midwest', 1), ('ann', 1), ('abor', 1), ('tire', 1), ('tread', 1), ('nuanced', 1), ('subtleties', 1), ('thyroid', 1), ('tatooes', 1), ('killin', 1), ('spankin', 1), ('diggity', 1), ('starvation', 1), ('encouraging', 1), ('triangle', 1), ('happycame', 1), ('prize', 1), ('pointless', 1), ('timex', 1), ('crackerjack', 1), ('granparents', 1), ('postage', 1), ('outings', 1), ('november', 1), ('hes', 1), ('microwaved', 1), ('grandaughter', 1), ('puthis', 1), ('tendancy', 1), ('oooh', 1), ('specify', 1), ('gamble', 1), ('recommand', 1), ('po', 1), ('newtons', 1), ('elf', 1), ('tepid', 1), ('dreamed', 1), ('horton', 1), ('zupas', 1), ('pathetic', 1), ('grandeur', 1), ('hawt', 1), ('crumbiness', 1), ('crumby', 1), ('blurb', 1), ('nabiso', 1), ('blech', 1), ('expires', 1), ('awfully', 1), ('compulsive', 1), ('dusted', 1), ('powderized', 1), ('creators', 1), ('branching', 1), ('expressing', 1), ('miniaturized', 1), ('rugrats', 1), ('proclaim', 1), ('brood', 1), ('squishy', 1), ('discouraged', 1), ('preschooler', 1), ('overdoing', 1), ('ignoring', 1), ('marshmallows', 1), ('saloon', 1), ('rte', 1), ('entertainment', 1), ('sanford', 1), ('keith', 1), ('escargot', 1), ('pibble', 1), ('inhales', 1), ('gastro', 1), ('overfed', 1), ('wirehair', 1), ('zeal', 1), ('tarter', 1), ('plaque', 1), ('scrapes', 1), ('bumps', 1), ('vacuuming', 1), ('doberman', 1), ('daunting', 1), ('danes', 1), ('dearly', 1), ('gawked', 1), ('stares', 1), ('mammals', 1), ('induce', 1), ('vegetation', 1), ('bodies', 1), ('technically', 1), ('irradiated', 1), ('botanicals', 1), ('environmentally', 1), ('sustainable', 1), ('effervescent', 1), ('decaffeination', 1), ('dioxide', 1), ('justifiably', 1), ('tchaikovsky', 1), ('nutcracker', 1), ('houses', 1), ('plums', 1), ('fairy', 1), ('festive', 1), ('concentratedwith', 1), ('towel', 1), ('thingand', 1), ('occations', 1), ('anyother', 1), ('arises', 1), ('rockstar', 1), ('grail', 1), ('disphoria', 1), ('wears', 1), ('redline', 1), ('twos', 1), ('ghastly', 1), ('morgue', 1), ('taxidermist', 1), ('immortal', 1), ('rosy', 1), ('chows', 1), ('sprigs', 1), ('retaining', 1), ('peat', 1), ('moss', 1), ('wave', 1), ('multiples', 1), ('firmly', 1), ('germinate', 1), ('dosome', 1), ('baught', 1), ('ignored', 1), ('rushed', 1), ('gnawed', 1), ('sprang', 1), ('annihilated', 1), ('unanimously', 1), ('bunnies', 1), ('behave', 1), ('erratically', 1), ('catnip', 1), ('hirts', 1), ('distract', 1), ('potting', 1), ('mantle', 1), ('recovered', 1), ('lowes', 1), ('stimulate', 1), ('paks', 1), ('grasses', 1), ('wasnt', 1), ('gardening', 1), ('gardeners', 1), ('terra', 1), ('cotta', 1), ('duds', 1), ('botanical', 1), ('interests', 1), ('deters', 1), ('margherita', 1), ('caputo', 1), ('liek', 1), ('visually', 1), ('jsut', 1), ('unparalleled', 1), ('ripest', 1), ('advertise', 1), ('marzanos', 1), ('volcanic', 1), ('soils', 1), ('affiliation', 1), ('centos', 1), ('shep', 1), ('itch', 1), ('miserably', 1), ('dress', 1), ('offices', 1), ('bout', 1), ('ressucitated', 1), ('analize', 1), ('ethoxyquin', 1), ('incident', 1), ('pursue', 1), ('mealnot', 1), ('foodsubject', 1), ('stringent', 1), ('standardsmay', 1), ('diseased', 1), ('renderedmay', 1), ('packinghouse', 1), ('wastenot', 1), ('pumped', 1), ('gastrointestinal', 1), ('catarized', 1), ('deceitful', 1), ('advertized', 1), ('yeh', 1), ('ur', 1), ('express', 1), ('shepards', 1), ('hauling', 1), ('vigor', 1), ('priority', 1), ('elimination', 1), ('frat', 1), ('molly', 1), ('scat', 1), ('plusses', 1), ('smallest', 1), ('tormented', 1), ('unrelieved', 1), ('endless', 1), ('avenues', 1), ('miraculously', 1), ('concede', 1), ('saget', 1), ('ore', 1), ('bamy', 1), ('waowi', 1), ('startes', 1), ('stroll', 1), ('levitated', 1), ('exploded', 1), ('tuesday', 1), ('nighttime', 1), ('retching', 1), ('tails', 1), ('initally', 1), ('chloe', 1), ('regualry', 1), ('negates', 1), ('mite', 1), ('located', 1), ('cfound', 1), ('mites', 1), ('ahs', 1), ('doogie', 1), ('howls', 1), ('steadily', 1), ('stinking', 1), ('rendering', 1), ('sweepings', 1), ('irritable', 1), ('colo', 1), ('springs', 1), ('emergi', 1), ('jaime', 1), ('gaynor', 1), ('ranged', 1), ('nurse', 1), ('emitted', 1), ('subside', 1), ('drastic', 1), ('forthe', 1), ('triedat', 1), ('thenanother', 1), ('muchshinier', 1), ('unbeatable', 1), ('apso', 1), ('hospital', 1), ('privately', 1), ('rex', 1), ('defficiencies', 1), ('phased', 1), ('marvelously', 1), ('compassion', 1), ('investigate', 1), ('scientists', 1), ('supports', 1), ('charitable', 1), ('endeavors', 1), ('rote', 1), ('ration', 1), ('nibbled', 1), ('lugging', 1), ('surroundings', 1), ('parasites', 1), ('manageable', 1), ('storability', 1), ('poullex', 1), ('motions', 1), ('streaking', 1), ('similasan', 1), ('glossier', 1), ('objection', 1), ('social', 1), ('milkbone', 1), ('entirety', 1), ('scarfs', 1), ('constipated', 1), ('unformed', 1), ('roiling', 1), ('growth', 1), ('antibodies', 1), ('structural', 1), ('tissues', 1), ('anad', 1), ('royalties', 1), ('surprises', 1), ('raely', 1), ('petstore', 1), ('alergies', 1), ('bells', 1), ('evans', 1), ('improvememnt', 1), ('unexplained', 1), ('exposing', 1), ('schauzers', 1), ('dogfoodadvisor', 1), ('debt', 1), ('hassels', 1), ('firmed', 1), ('switchover', 1), ('wrestle', 1), ('rhythm', 1), ('shortest', 1), ('whimpering', 1), ('acknowledgement', 1), ('grooming', 1), ('shoppe', 1), ('cousin', 1), ('bouncier', 1), ('tier', 1), ('goldie', 1), ('reflected', 1), ('snowey', 1), ('sophie', 1), ('newmansbon', 1), ('teared', 1), ('cured', 1), ('teary', 1), ('veteriniarian', 1), ('conditioned', 1), ('adjustment', 1), ('westies', 1), ('systems', 1), ('moisturized', 1), ('malti', 1), ('finiky', 1), ('peta', 1), ('cruelty', 1), ('conduct', 1), ('cruel', 1), ('chiweenie', 1), ('amovements', 1), ('pomimo', 1), ('eskimo', 1), ('waits', 1), ('advertisements', 1), ('yayy', 1), ('dreading', 1), ('rang', 1), ('facebook', 1), ('precise', 1), ('pyrenees', 1), ('mobility', 1), ('totaly', 1), ('tibetin', 1), ('terrior', 1), ('livi', 1), ('alleged', 1), ('mishka', 1), ('willingly', 1), ('qualified', 1), ('souce', 1), ('byproduct', 1), ('dogfoods', 1), ('fakeness', 1), ('pn', 1), ('knowingit', 1), ('petpromise', 1), ('transition', 1), ('movement', 1), ('ingretents', 1), ('utilizing', 1), ('elkhound', 1), ('ethics', 1), ('feeder', 1), ('periodic', 1), ('foolishly', 1), ('slimmy', 1), ('pinto', 1), ('duress', 1), ('yorkiepoo', 1), ('competitor', 1), ('quinn', 1), ('tolerates', 1), ('greenwashing', 1), ('regulated', 1), ('deceived', 1), ('morsel', 1), ('cocaine', 1), ('rocked', 1), ('epicurean', 1), ('orijin', 1), ('blu', 1), ('cavalier', 1), ('licks', 1), ('subscribeand', 1), ('suppression', 1), ('viewers', 1), ('questionable', 1), ('questioned', 1), ('stacey', 1), ('notifying', 1), ('contracting', 1), ('debilitating', 1), ('autopsy', 1), ('toxicology', 1), ('aflatoxin', 1), ('pugs', 1), ('foryour', 1), ('anotherdecision', 1), ('buyingat', 1), ('pounder', 1), ('conventionally', 1), ('pickier', 1), ('meatiertaste', 1), ('cringed', 1), ('scheduled', 1), ('cocapoo', 1), ('wolfs', 1), ('timed', 1), ('healthfully', 1), ('downright', 1), ('equitable', 1), ('agreeing', 1), ('ceasar', 1), ('milans', 1), ('goldendoodle', 1), ('expel', 1), ('odorous', 1), ('odorless', 1), ('greater', 1), ('dachshunds', 1), ('scarf', 1), ('abandon', 1), ('convinence', 1), ('drag', 1), ('weightly', 1), ('argue', 1), ('upsetting', 1), ('coincidence', 1), ('timing', 1), ('distaste', 1), ('tonic', 1), ('gunking', 1), ('outright', 1), ('blessing', 1), ('fire', 1), ('deeming', 1), ('hearted', 1), ('steeps', 1), ('detox', 1), ('indulges', 1), ('disabilities', 1), ('stomache', 1), ('reveived', 1), ('nourished', 1), ('complications', 1), ('alergic', 1), ('mum', 1), ('chooses', 1), ('toffees', 1), ('snickers', 1), ('logo', 1), ('yesteryear', 1), ('vcs', 1), ('hots', 1), ('harney', 1), ('dimensional', 1), ('mugs', 1), ('placebo', 1), ('unsweeted', 1), ('unwittingly', 1), ('anywhear', 1), ('jackie', 1), ('chan', 1), ('resolvethat', 1), ('cupof', 1), ('passable', 1), ('gree', 1), ('recomment', 1), ('ally', 1), ('matcha', 1), ('exercising', 1), ('golfing', 1), ('fluids', 1), ('metabolism', 1), ('warmed', 1), ('tumbler', 1), ('perky', 1), ('barest', 1), ('tint', 1), ('sencha', 1), ('kyoto', 1), ('goos', 1), ('tes', 1), ('enouugh', 1), ('remixed', 1), ('giger', 1), ('particles', 1), ('lawnmower', 1), ('sassy', 1), ('dissloves', 1), ('murky', 1), ('swamp', 1), ('pondering', 1), ('pulverized', 1), ('coolby', 1), ('forn', 1), ('phil', 1), ('desperately', 1), ('tannic', 1), ('universe', 1), ('concentration', 1), ('promises', 1), ('unlemoned', 1), ('merest', 1), ('bennies', 1), ('physical', 1), ('healthlier', 1), ('gravitated', 1), ('motabolism', 1), ('trigylcerides', 1), ('callories', 1), ('patience', 1), ('proceeded', 1), ('glycerite', 1), ('jamba', 1), ('sweetend', 1), ('fab', 1), ('worlds', 1), ('workouts', 1), ('polar', 1), ('hundred', 1), ('bunches', 1), ('magazines', 1), ('genius', 1), ('cap', 1), ('closing', 1), ('productivity', 1), ('prettier', 1), ('leakage', 1), ('probs', 1), ('closes', 1), ('forefinger', 1), ('shield', 1), ('aspargus', 1), ('twisting', 1), ('sloshing', 1), ('disasterous', 1), ('ignores', 1), ('bushy', 1), ('rooted', 1), ('mopping', 1), ('leaky', 1), ('skepticism', 1), ('wilted', 1), ('student', 1), ('bins', 1), ('precursor', 1), ('detachable', 1), ('executed', 1), ('ownership', 1), ('stemmed', 1), ('rapping', 1), ('seam', 1), ('frustrated', 1), ('forcefully', 1), ('rooting', 1), ('capsule', 1), ('cds', 1), ('holdingdown', 1), ('circle', 1), ('spears', 1), ('chefs', 1), ('pencil', 1), ('beefeaters', 1), ('dud', 1), ('cust', 1), ('packer', 1), ('stuffing', 1), ('emergencies', 1), ('thingsespecially', 1), ('carrier', 1), ('barbara', 1), ('indicative', 1), ('knuckle', 1), ('ea', 1), ('protest', 1), ('beartoothjoe', 1), ('smoker', 1), ('mentos', 1), ('padding', 1), ('respond', 1), ('responsiveness', 1), ('merula', 1), ('lite', 1), ('espressos', 1), ('terroir', 1), ('swaziland', 1), ('congo', 1), ('irregularly', 1), ('culinary', 1), ('bishop', 1), ('queso', 1), ('fresco', 1), ('resembled', 1), ('thickest', 1), ('closely', 1), ('michael', 1), ('marshall', 1), ('pasty', 1), ('convienence', 1), ('bing', 1), ('destroyed', 1), ('insides', 1), ('rocher', 1), ('regimen', 1), ('stockings', 1), ('jn', 1), ('speediest', 1), ('ont', 1), ('overnighted', 1), ('nye', 1), ('rudolph', 1), ('gun', 1), ('ed', 1), ('unwind', 1), ('pieceslarge', 1), ('decorator', 1), ('reuse', 1), ('bead', 1), ('icinghard', 1), ('wreath', 1), ('diametergummy', 1), ('tallgummy', 1), ('tallicing', 1), ('pried', 1), ('wreat', 1), ('paint', 1), ('beenmore', 1), ('twinkies', 1), ('whopping', 1), ('eucharist', 1), ('catholic', 1), ('jesus', 1), ('dryish', 1), ('lightweights', 1), ('minsthese', 1), ('triggers', 1), ('wean', 1), ('hotspots', 1), ('ramsey', 1), ('frankenstein', 1), ('basenji', 1), ('severs', 1), ('calculations', 1), ('approx', 1), ('dums', 1), ('financial', 1), ('forbid', 1), ('proactive', 1), ('piles', 1), ('wagging', 1), ('tail', 1), ('dogadvisor', 1), ('hippie', 1), ('hounds', 1), ('amazement', 1), ('pancreas', 1), ('urina', 1), ('shihtzu', 1), ('fromm', 1), ('tolerated', 1), ('thrive', 1), ('astounded', 1), ('uninterested', 1), ('ingesting', 1), ('slept', 1), ('thinning', 1), ('outgoing', 1), ('inoperable', 1), ('tumor', 1), ('needlessly', 1), ('steriods', 1), ('soapbox', 1), ('spunky', 1), ('coon', 1), ('hound', 1), ('bounce', 1), ('dudes', 1), ('begging', 1), ('barfing', 1), ('elixers', 1), ('psst', 1), ('opt', 1), ('subsequently', 1), ('russel', 1), ('doxie', 1), ('erie', 1), ('playful', 1), ('fasting', 1), ('healthily', 1), ('pause', 1), ('relaxed', 1), ('hannaford', 1), ('researcher', 1), ('accounts', 1), ('alaskan', 1), ('weaning', 1), ('disatified', 1), ('searchomg', 1), ('combefore', 1), ('comreally', 1), ('meadows', 1), ('isubscription', 1), ('weights', 1), ('automated', 1), ('dachuhund', 1), ('cognitive', 1), ('whining', 1), ('connor', 1), ('disagreeable', 1), ('smear', 1), ('kong', 1), ('occassionally', 1), ('spouse', 1), ('downhill', 1), ('borderline', 1), ('masa', 1), ('mx', 1), ('diffrent', 1), ('haves', 1), ('lavender', 1), ('uninspiring', 1), ('ambulance', 1), ('seizures', 1), ('syncope', 1), ('pounding', 1), ('chest', 1), ('acceleration', 1), ('mental', 1), ('alertness', 1), ('effectiveness', 1), ('vitality', 1), ('labrador', 1), ('appreciates', 1), ('cookin', 1), ('evenovershadows', 1), ('starchy', 1), ('repulsively', 1), ('boyardee', 1), ('microwavable', 1), ('pierce', 1), ('alton', 1), ('jellies', 1), ('foolproof', 1), ('sections', 1), ('toster', 1), ('eggos', 1), ('desinged', 1), ('moths', 1), ('confronted', 1), ('afront', 1), ('appliance', 1), ('nailed', 1), ('grudgingly', 1), ('dominicks', 1), ('forgettable', 1), ('nicce', 1), ('recepies', 1), ('laugh', 1), ('balk', 1), ('wilds', 1), ('fiend', 1), ('overcook', 1), ('foamy', 1), ('denny', 1), ('ihop', 1), ('highlight', 1), ('ohhhhhh', 1), ('homeade', 1), ('fluffiest', 1), ('chefman', 1), ('rotatable', 1), ('customize', 1), ('enticed', 1), ('noting', 1), ('yield', 1), ('stashed', 1), ('banished', 1), ('recesses', 1), ('cabinets', 1), ('immense', 1), ('prematurely', 1), ('overcooking', 1), ('robbys', 1), ('wayyyyyyyyyy', 1), ('restocks', 1), ('partner', 1), ('insist', 1), ('krapola', 1), ('dribble', 1), ('debating', 1), ('jazz', 1), ('canisters', 1), ('negate', 1), ('pitching', 1), ('marginally', 1), ('krustead', 1), ('mapel', 1), ('bettermilk', 1), ('ads', 1), ('robs', 1), ('compote', 1), ('consitancy', 1), ('lightest', 1), ('levening', 1), ('lands', 1), ('gormet', 1), ('resturant', 1), ('downgrade', 1), ('bnecause', 1), ('cinammon', 1), ('gratted', 1), ('overripe', 1), ('scrumdiddlyumptous', 1), ('pity', 1), ('fibers', 1), ('pluses', 1), ('minuses', 1), ('mushiness', 1), ('chains', 1), ('familia', 1), ('dorset', 1), ('plunk', 1), ('unlikely', 1), ('looney', 1), ('cornflakes', 1), ('healthfulness', 1), ('buffets', 1), ('remembeer', 1), ('struggling', 1), ('burden', 1), ('mo', 1), ('purchace', 1), ('detrimental', 1), ('disturbingly', 1), ('prolonged', 1), ('topic', 1), ('debate', 1), ('developing', 1), ('elevated', 1), ('hfcskelloggs', 1), ('applaud', 1), ('monsanto', 1), ('vanishing', 1), ('cruise', 1), ('kelloggs', 1), ('muselix', 1), ('problemsand', 1), ('composition', 1), ('represents', 1), ('inherit', 1), ('resti', 1), ('consecutively', 1), ('indicating', 1), ('yogi', 1), ('flavorspomegranates', 1), ('latin', 1), ('pomum', 1), ('granatus', 1), ('companion', 1), ('mingle', 1), ('brewingi', 1), ('flesh', 1), ('captured', 1), ('conclusionbuy', 1), ('brit', 1), ('perfumey', 1), ('stems', 1), ('repulsive', 1), ('mesh', 1), ('anyhow', 1), ('adjustments', 1), ('unsealed', 1), ('recipies', 1), ('hilton', 1), ('alcoholic', 1), ('extracted', 1), ('examine', 1), ('tourist', 1), ('artichoke', 1), ('beckoned', 1), ('earthier', 1), ('keemun', 1), ('explore', 1), ('amazes', 1), ('extolling', 1), ('insipid', 1), ('oversteeping', 1), ('wimp', 1), ('enhancers', 1), ('theri', 1), ('additions', 1), ('amaranth', 1), ('teapot', 1), ('seeped', 1), ('fragility', 1), ('entertaining', 1), ('tolerant', 1), ('bariatric', 1), ('pellet', 1), ('sloth', 1), ('addled', 1), ('explored', 1), ('oatmeals', 1), ('liquidy', 1), ('escaping', 1), ('requiring', 1), ('thickeners', 1), ('fructouse', 1), ('doctors', 1), ('soupy', 1), ('abby', 1), ('reccomended', 1), ('mccanns', 1), ('cinn', 1), ('tastefull', 1), ('reith', 1), ('nuke', 1), ('banh', 1), ('soaking', 1), ('ants', 1), ('webpage', 1), ('references', 1), ('bahn', 1), ('pushing', 1), ('drippy', 1), ('technology', 1), ('upped', 1), ('habenero', 1), ('waved', 1), ('allspice', 1), ('chasing', 1), ('negging', 1), ('anyattention', 1), ('sickly', 1), ('remotelyresemble', 1), ('facsimile', 1), ('harbors', 1), ('stuffis', 1), ('walkerwood', 1), ('hawaiian', 1), ('joes', 1), ('darjeerling', 1), ('stainless', 1), ('sophistication', 1), ('implied', 1), ('peony', 1), ('isoftness', 1), ('destroy', 1), ('discouraging', 1), ('leg', 1), ('jaded', 1), ('samovar', 1), ('ceylon', 1), ('metropolitan', 1), ('unremarkable', 1), ('looseleaf', 1), ('eith', 1), ('buisiness', 1), ('bodum', 1), ('unshelled', 1), ('becuase', 1), ('operate', 1), ('acknowledged', 1), ('crudites', 1), ('lumpfish', 1), ('savored', 1), ('cavier', 1), ('bavarian', 1), ('depressed', 1), ('zevia', 1), ('smokiness', 1), ('whipping', 1), ('stirred', 1), ('wear', 1), ('geek', 1), ('organiccons', 1), ('pricethe', 1), ('guarding', 1), ('malva', 1), ('soften', 1), ('ftgfop', 1), ('lifted', 1), ('brunch', 1), ('artifial', 1), ('district', 1), ('turtle', 1), ('starbuck', 1), ('assumption', 1), ('calculating', 1), ('dorms', 1), ('lapse', 1), ('intend', 1), ('yeck', 1), ('meetings', 1), ('pleases', 1), ('honeybush', 1), ('sceptical', 1), ('abt', 1), ('shriveled', 1), ('washington', 1), ('meeting', 1), ('server', 1), ('spas', 1), ('sachet', 1), ('micpreamp', 1), ('expectation', 1), ('carefulif', 1), ('mbox', 1), ('gear', 1), ('cs', 1), ('nough', 1), ('easiest', 1), ('intimidated', 1), ('models', 1), ('interrupted', 1), ('invention', 1), ('accompanies', 1), ('download', 1), ('restarts', 1), ('uninstalling', 1), ('hubs', 1), ('ports', 1), ('logged', 1), ('explaining', 1), ('instructing', 1), ('bam', 1), ('specifications', 1), ('clue', 1), ('inadequacy', 1), ('csrs', 1), ('pretending', 1), ('accommodate', 1), ('technologies', 1), ('indication', 1), ('booklet', 1), ('incompatible', 1), ('videos', 1), ('installation', 1), ('updates', 1), ('exchanging', 1), ('attempts', 1), ('flawlessly', 1), ('cardiod', 1), ('rotational', 1), ('plugs', 1), ('firewire', 1), ('solutions', 1), ('reinstating', 1), ('analyzer', 1), ('rta', 1), ('windowsxp', 1), ('precisely', 1), ('speaker', 1), ('crossover', 1), ('networks', 1), ('sinewaves', 1), ('oscilloscope', 1), ('peaks', 1), ('frequency', 1), ('toslink', 1), ('amplifier', 1), ('integrated', 1), ('cards', 1), ('cheesy', 1), ('soundcards', 1), ('amps', 1), ('receivers', 1), ('multimedia', 1), ('improperly', 1), ('cables', 1), ('blaming', 1), ('dinky', 1), ('icile', 1), ('disconnects', 1), ('shielding', 1), ('insulation', 1), ('electrical', 1), ('unshielded', 1), ('insists', 1), ('circumvent', 1), ('jerking', 1), ('blames', 1), ('laziness', 1), ('resources', 1), ('programming', 1), ('navigate', 1), ('amusing', 1), ('themintmovieman', 1), ('defect', 1), ('authorization', 1), ('wii', 1), ('builtin', 1), ('presidential', 1), ('election', 1), ('muy', 1), ('buen', 1), ('tama', 1), ('uno', 1), ('puede', 1), ('llevar', 1), ('lado', 1), ('junto', 1), ('hacer', 1), ('grabaci', 1), ('antes', 1), ('este', 1), ('tuve', 1), ('muchos', 1), ('problemas', 1), ('pero', 1), ('fin', 1), ('pude', 1), ('una', 1), ('decente', 1), ('micr', 1), ('fono', 1), ('hasta', 1), ('genera', 1), ('ruidos', 1), ('ning', 1), ('tipo', 1), ('calidad', 1), ('es', 1), ('impresionante', 1), ('algo', 1), ('exceeds', 1), ('linux', 1), ('gripe', 1), ('trim', 1), ('modem', 1), ('onstage', 1), ('gig', 1), ('othere', 1), ('verrryyy', 1), ('deff', 1), ('deirectly', 1), ('hassles', 1), ('feather', 1), ('hop', 1), ('samson', 1), ('messed', 1), ('reaper', 1), ('arnt', 1), ('familure', 1), ('lag', 1), ('musicians', 1), ('cheapand', 1), ('ifyou', 1), ('clumsy', 1), ('indicationsof', 1), ('position', 1), ('guessing', 1), ('buzzing', 1), ('noises', 1), ('language', 1), ('bat', 1), ('ir', 1), ('overheat', 1), ('yeti', 1), ('beefy', 1), ('eighty', 1), ('distortion', 1), ('unfailingly', 1), ('primitive', 1), ('invaluable', 1), ('ustream', 1), ('cubase', 1), ('interim', 1), ('vocally', 1), ('acoustically', 1), ('blanks', 1), ('mounted', 1), ('littl', 1), ('cop', 1), ('gizmo', 1), ('scholarship', 1), ('pepperdine', 1), ('coluratura', 1), ('soprano', 1), ('sings', 1), ('plays', 1), ('dell', 1), ('jbl', 1), ('memorex', 1), ('warranty', 1), ('oktava', 1), ('reliability', 1), ('programs', 1), ('recognizing', 1), ('stressing', 1), ('converters', 1), ('connecting', 1), ('webinars', 1), ('cord', 1), ('wherever', 1), ('equipped', 1), ('features', 1), ('communication', 1), ('compatibly', 1), ('performed', 1), ('loudly', 1), ('salesman', 1), ('disposal', 1), ('brilliant', 1), ('converts', 1), ('neuman', 1), ('blockhouse', 1), ('animation', 1), ('dvd', 1), ('series', 1), ('holly', 1), ('monkey', 1), ('circuit', 1), ('engage', 1), ('defeat', 1), ('profound', 1), ('crickets', 1), ('establishing', 1), ('productive', 1), ('usefulness', 1), ('digital', 1), ('peak', 1), ('compressor', 1), ('capability', 1), ('indicator', 1), ('louder', 1), ('uninstall', 1), ('unplug', 1), ('installing', 1), ('notification', 1), ('obtaining', 1), ('whoever', 1), ('gaming', 1), ('xbox', 1), ('mixers', 1), ('devnotes', 1), ('posterous', 1), ('listen', 1), ('mlx', 1), ('converted', 1), ('generator', 1), ('soundboard', 1), ('fancier', 1), ('imac', 1), ('dual', 1), ('ghz', 1), ('gb', 1), ('ram', 1), ('horn', 1), ('duplicate', 1), ('arrow', 1), ('accompanying', 1), ('decides', 1), ('wart', 1), ('latency', 1), ('rode', 1), ('procaster', 1), ('handheld', 1), ('treating', 1), ('foresee', 1), ('sony', 1), ('touchy', 1), ('jostling', 1), ('podcasters', 1), ('musical', 1), ('demos', 1), ('chinsy', 1), ('musician', 1), ('unboxing', 1), ('stereo', 1), ('prevailant', 1), ('sing', 1), ('adaptor', 1), ('camcorder', 1), ('pcm', 1), ('dv', 1), ('tapes', 1), ('capturing', 1), ('protools', 1), ('impasse', 1), ('closet', 1), ('coloration', 1), ('exist', 1), ('radio', 1), ('chats', 1), ('desktop', 1), ('acquaintance', 1), ('comparably', 1), ('lightsnake', 1), ('privileges', 1), ('electrovoice', 1), ('crank', 1), ('volumes', 1), ('brits', 1), ('ireland', 1), ('trifles', 1), ('sthg', 1), ('snuff', 1), ('customary', 1), ('longish', 1), ('laminated', 1), ('successes', 1), ('triffle', 1), ('iv', 1), ('upstate', 1), ('dissapointment', 1), ('humid', 1), ('redskin', 1), ('punctuated', 1), ('jostled', 1), ('storesand', 1), ('abiding', 1), ('diminished', 1), ('ager', 1), ('adjunct', 1), ('beers', 1), ('understated', 1), ('pubs', 1), ('iican', 1), ('greenbeans', 1), ('bristol', 1), ('countryside', 1), ('blossom', 1), ('chocolat', 1), ('colossal', 1), ('jumbo', 1), ('freight', 1), ('wallhangers', 1), ('prosciutto', 1), ('thirds', 1), ('cascading', 1), ('bravo', 1), ('trully', 1), ('pitiful', 1), ('steamroller', 1), ('junior', 1), ('copycat', 1), ('sleeve', 1), ('touching', 1), ('hight', 1), ('addictively', 1), ('albanese', 1), ('snakes', 1), ('friggin', 1), ('assigned', 1), ('firms', 1), ('subsidiary', 1), ('established', 1), ('smylie', 1), ('alli', 1), ('weighted', 1), ('kg', 1), ('faithful', 1), ('infact', 1), ('flavos', 1), ('goose', 1), ('reorderd', 1), ('lactic', 1), ('sue', 1), ('martinies', 1), ('outragous', 1), ('overshadowed', 1), ('courteous', 1), ('rarity', 1), ('craft', 1), ('keepsake', 1), ('flash', 1), ('pasteurized', 1), ('booster', 1), ('reminder', 1), ('dictated', 1), ('bionaturae', 1), ('rounder', 1), ('kalamata', 1), ('tapanade', 1), ('humus', 1), ('fantabulous', 1), ('helper', 1), ('milkit', 1), ('taught', 1), ('relishes', 1), ('sauteing', 1), ('naan', 1), ('nonfat', 1), ('oilsalt', 1), ('greatas', 1), ('vege', 1), ('indescribable', 1), ('equate', 1), ('goop', 1), ('crusties', 1), ('lifting', 1), ('trailed', 1), ('sprectrum', 1), ('grayish', 1), ('mad', 1), ('elmer', 1), ('sickening', 1), ('gds', 1), ('tacky', 1), ('sickeningly', 1), ('rubber', 1), ('cement', 1), ('width', 1), ('ecofriendly', 1), ('littlemore', 1), ('mmmm', 1), ('brittany', 1), ('france', 1), ('savora', 1), ('bringback', 1), ('overhauling', 1), ('unfortunatley', 1), ('dishearting', 1), ('succumb', 1), ('grumpy', 1), ('freaking', 1), ('phase', 1), ('dubious', 1), ('refrigeration', 1), ('fiirst', 1), ('monastero', 1), ('isolo', 1), ('piana', 1), ('remarks', 1), ('influencing', 1), ('patties', 1), ('argo', 1), ('brm', 1), ('discern', 1), ('elasticity', 1), ('calculate', 1), ('charms', 1), ('bribing', 1), ('kaffee', 1), ('coastarican', 1), ('peaberry', 1), ('peruvian', 1), ('geliva', 1), ('lifelong', 1), ('led', 1), ('maturing', 1), ('noir', 1), ('harshness', 1), ('flavred', 1), ('aeropress', 1), ('splendid', 1), ('commuter', 1), ('skyrocketed', 1), ('rosa', 1), ('jut', 1), ('silk', 1), ('reccommend', 1), ('valentine', 1), ('untill', 1), ('wagyu', 1), ('crossbred', 1), ('prefecture', 1), ('chouquettes', 1), ('puffs', 1), ('denied', 1), ('liege', 1), ('gaufres', 1), ('pebbles', 1), ('pearl', 1), ('pretzel', 1), ('mangoes', 1), ('copy', 1), ('upc', 1), ('ozserving', 1), ('mlamount', 1), ('servingcalories', 1), ('thiamin', 1), ('riboflavin', 1), ('niacin', 1), ('folate', 1), ('zinc', 1), ('dietingredientscertified', 1), ('xanthan', 1), ('alginate', 1), ('casein', 1), ('maximizing', 1), ('orac', 1), ('fighter', 1), ('alzheimer', 1), ('dementia', 1), ('inclusion', 1), ('albeit', 1), ('perversion', 1), ('milky', 1), ('zola', 1), ('samzon', 1), ('horrendous', 1), ('gussie', 1), ('meltaways', 1), ('mereingues', 1), ('bombs', 1), ('universal', 1), ('haze', 1), ('hamilton', 1), ('decker', 1), ('toothpicks', 1), ('gd', 1), ('afghans', 1), ('eukanauba', 1), ('developers', 1), ('cripple', 1), ('banks', 1), ('purebred', 1), ('praised', 1), ('unbiased', 1), ('publicity', 1), ('balding', 1), ('alleviated', 1), ('vomit', 1), ('wolfhound', 1), ('failing', 1), ('scores', 1), ('checkout', 1), ('shinier', 1), ('inability', 1), ('prolific', 1), ('gmos', 1), ('stones', 1), ('pose', 1), ('warnings', 1), ('competitively', 1), ('principal', 1), ('displeased', 1), ('chipaholic', 1), ('mission', 1), ('peppery', 1), ('fairfield', 1), ('idaho', 1), ('viki', 1), ('crabtree', 1), ('popchip', 1), ('hybrid', 1), ('snacker', 1), ('officially', 1), ('ounches', 1), ('kof', 1), ('pareve', 1), ('temptation', 1), ('lowfat', 1), ('sampled', 1), ('reordered', 1), ('haveing', 1), ('sustenance', 1), ('copious', 1), ('tubers', 1), ('overload', 1), ('tide', 1), ('pirate', 1), ('booty', 1), ('glove', 1), ('plethora', 1), ('asset', 1), ('extruded', 1), ('deer', 1), ('possess', 1), ('microscopic', 1), ('largely', 1), ('deriving', 1), ('remorse', 1), ('selections', 1), ('bestest', 1), ('muncho', 1), ('munchie', 1), ('crunchie', 1), ('doorstep', 1), ('jean', 1), ('roth', 1), ('knock', 1), ('tatse', 1), ('tulsa', 1), ('sluggish', 1), ('icky', 1), ('overindulging', 1), ('wantned', 1), ('swap', 1), ('definitly', 1), ('tounge', 1), ('thanpotato', 1), ('expo', 1), ('anaheim', 1), ('pricce', 1), ('instantaneously', 1), ('readers', 1), ('crunchaholic', 1), ('venture', 1), ('fingernails', 1), ('godbless', 1), ('bf', 1), ('purchsed', 1), ('wa', 1), ('dwindling', 1), ('reoccurring', 1), ('affair', 1), ('yester', 1), ('riding', 1), ('woo', 1), ('hoo', 1), ('bashing', 1), ('snackers', 1), ('jillian', 1), ('michaels', 1), ('consensus', 1), ('measly', 1), ('advertisement', 1), ('lotta', 1), ('score', 1), ('solo', 1), ('pushed', 1), ('greasiness', 1), ('pts', 1), ('jalape', 1), ('paramsan', 1), ('singlularly', 1), ('goodl', 1), ('services', 1), ('aboulutely', 1), ('enormous', 1), ('varity', 1), ('diferent', 1), ('stacy', 1), ('sends', 1), ('deiced', 1), ('accepted', 1), ('eww', 1), ('battle', 1), ('bulge', 1), ('mars', 1), ('forcefeed', 1), ('branding', 1), ('snackwell', 1), ('gigantic', 1), ('enhancer', 1), ('weightwatcher', 1), ('breaksdown', 1), ('stephen', 1), ('alec', 1), ('scant', 1), ('turnpike', 1), ('balances', 1), ('sourcream', 1), ('ownthe', 1), ('caloriesthe', 1), ('chemicall', 1), ('deliciously', 1), ('thesse', 1), ('reall', 1), ('tracking', 1), ('colorado', 1), ('nick', 1), ('multipack', 1), ('plans', 1), ('snacky', 1), ('caloriecount', 1), ('jalepemo', 1), ('gathering', 1), ('prospective', 1), ('trish', 1), ('kowalski', 1), ('highy', 1), ('disregarding', 1), ('upscale', 1), ('forcing', 1), ('shudder', 1), ('bleh', 1), ('hoopla', 1), ('uneaten', 1), ('lie', 1), ('dope', 1), ('freshman', 1), ('balancing', 1), ('blocker', 1), ('teh', 1), ('vinger', 1), ('overdid', 1), ('yourelf', 1), ('suto', 1), ('smothered', 1), ('fledged', 1), ('clocks', 1), ('accompany', 1), ('differences', 1), ('averse', 1), ('everyonebbq', 1), ('bbqoriginal', 1), ('moreparmesan', 1), ('latter', 1), ('bagi', 1), ('regima', 1), ('que', 1), ('containted', 1), ('seasalt', 1), ('weened', 1), ('conversely', 1), ('acclimatization', 1), ('fulfill', 1), ('succumbing', 1), ('vice', 1), ('versa', 1), ('whirl', 1), ('monotony', 1), ('snackies', 1), ('driven', 1), ('ricecakes', 1), ('stealing', 1), ('umami', 1), ('quell', 1), ('chipped', 1), ('realistic', 1), ('accomplish', 1), ('fund', 1), ('raising', 1), ('ripoff', 1), ('synonymous', 1), ('glutamic', 1), ('regime', 1), ('amulti', 1), ('plywood', 1), ('barbecuing', 1), ('clerk', 1), ('mat', 1), ('avail', 1), ('acted', 1), ('aloof', 1), ('perplexing', 1), ('aesthetically', 1), ('airpocket', 1), ('krogers', 1), ('offsets', 1), ('advise', 1), ('curios', 1), ('apo', 1), ('reship', 1), ('dallas', 1), ('quesadilla', 1), ('verde', 1), ('zomg', 1), ('madeleine', 1), ('desires', 1), ('apollo', 1), ('sooooooooooooo', 1), ('reqular', 1), ('revelation', 1), ('romaine', 1), ('cookbooks', 1), ('artisan', 1), ('machinery', 1), ('heats', 1), ('proprietary', 1), ('virginflo', 1), ('rancidity', 1), ('induced', 1), ('solvents', 1), ('bleaching', 1), ('deodorizing', 1), ('hydrogenation', 1), ('celsius', 1), ('steering', 1), ('offends', 1), ('preserves', 1), ('amyps', 1), ('fruitcake', 1), ('intollerances', 1), ('painless', 1), ('tic', 1), ('tacs', 1), ('yawning', 1), ('drowsy', 1), ('heinous', 1), ('stream', 1), ('suppressant', 1), ('gittery', 1), ('subscibe', 1), ('otr', 1), ('autoship', 1), ('energized', 1), ('fibromyalgia', 1), ('saps', 1), ('fatigue', 1), ('fog', 1), ('hah', 1), ('uplift', 1), ('headachy', 1), ('yike', 1), ('chaser', 1), ('engineer', 1), ('speeds', 1), ('summarize', 1), ('woot', 1), ('turnpikes', 1), ('sinthetic', 1), ('bypass', 1), ('bazi', 1), ('cola', 1), ('sambazon', 1), ('withdrawals', 1), ('monsters', 1), ('nos', 1), ('reassuring', 1), ('massage', 1), ('beeswax', 1), ('candles', 1), ('recieving', 1), ('tincture', 1), ('quart', 1), ('cloth', 1), ('renewed', 1), ('doxee', 1), ('boss', 1), ('blessings', 1), ('shooting', 1), ('guns', 1), ('floaters', 1), ('residuals', 1), ('devine', 1), ('sucks', 1), ('lucks', 1), ('waking', 1), ('wiff', 1), ('miracles', 1), ('painter', 1), ('antidotal', 1), ('depot', 1), ('butternut', 1), ('replica', 1), ('stanley', 1), ('matte', 1), ('court', 1), ('regulation', 1), ('task', 1), ('bodybuilder', 1), ('infinitely', 1), ('refridgerate', 1), ('epa', 1), ('refridgeration', 1), ('dilly', 1), ('loli', 1), ('sameseasoning', 1), ('applied', 1), ('encrusted', 1), ('clothes', 1), ('ebay', 1), ('ketchupy', 1), ('vinigary', 1), ('jay', 1), ('sneak', 1), ('tracked', 1), ('courtesy', 1), ('anecdote', 1), ('restocked', 1), ('unbelievably', 1), ('knockoffs', 1), ('minimizes', 1), ('ayear', 1), ('protected', 1), ('crushing', 1), ('barbque', 1), ('chipsoctober', 1), ('proving', 1), ('deflated', 1), ('montreal', 1), ('misprint', 1), ('hmmmm', 1), ('census', 1), ('politically', 1), ('sigh', 1), ('vote', 1), ('fetus', 1), ('warmth', 1), ('protocol', 1), ('charred', 1), ('incubate', 1), ('incubator', 1), ('coit', 1), ('tower', 1), ('moistest', 1), ('suggests', 1), ('refills', 1), ('anticipate', 1), ('chins', 1), ('downsized', 1), ('rules', 1), ('shrink', 1), ('dumb', 1), ('downsize', 1), ('chug', 1), ('spritz', 1), ('lemos', 1), ('refreshments', 1), ('nevermind', 1), ('refreshed', 1), ('throttle', 1), ('austin', 1), ('troubled', 1), ('immunity', 1), ('populated', 1), ('probiotic', 1), ('immune', 1), ('introducing', 1), ('rebound', 1), ('amoxicillin', 1), ('liners', 1), ('polyester', 1), ('simplepac', 1), ('teenager', 1), ('gates', 1), ('abbott', 1), ('laboratories', 1), ('gocery', 1), ('encoraging', 1), ('convinient', 1), ('formulabe', 1), ('cows', 1), ('fifth', 1), ('maltose', 1), ('dextrin', 1), ('seventh', 1), ('odering', 1), ('constapation', 1), ('macines', 1), ('formulated', 1), ('coccidia', 1), ('giardia', 1), ('veterinary', 1), ('mismanagement', 1), ('sicker', 1), ('prednisone', 1), ('episodes', 1), ('fluffier', 1), ('photos', 1), ('newfoundlands', 1), ('newf', 1), ('solos', 1), ('squeaker', 1), ('dentabones', 1), ('antler', 1), ('urinating', 1), ('continuing', 1), ('exercises', 1), ('exam', 1), ('excursions', 1), ('drippings', 1), ('digging', 1), ('flea', 1), ('occurrance', 1), ('nap', 1), ('droppings', 1), ('collar', 1), ('chalet', 1), ('candyland', 1), ('drab', 1), ('brights', 1), ('unbearable', 1), ('laughed', 1), ('outraged', 1), ('repulsed', 1), ('rewrap', 1), ('vivid', 1), ('lolipops', 1), ('uncracked', 1), ('comical', 1), ('notoy', 1), ('vases', 1), ('centerpieces', 1), ('compliments', 1), ('wizard', 1), ('deceiving', 1), ('dimentions', 1), ('differnet', 1), ('lengths', 1), ('vase', 1), ('spiral', 1), ('cuter', 1), ('complements', 1), ('attempting', 1), ('warren', 1), ('buffett', 1), ('wealth', 1), ('regard', 1), ('recipient', 1), ('deserved', 1), ('ghirardelli', 1), ('formerly', 1), ('ukrops', 1), ('surpass', 1), ('deserving', 1), ('poetry', 1), ('dealings', 1), ('perfict', 1), ('cary', 1), ('resonable', 1), ('shareing', 1), ('youll', 1), ('mintiness', 1), ('wintergreens', 1), ('icebreakers', 1), ('sufficiently', 1), ('resolves', 1), ('suitcase', 1), ('earrings', 1), ('valuables', 1), ('pillboxes', 1), ('pin', 1), ('theyre', 1), ('counterpart', 1), ('irritating', 1), ('walgreens', 1), ('altoid', 1), ('hue', 1), ('totaled', 1), ('hime', 1), ('genmai', 1), ('peoples', 1), ('ceremonial', 1), ('characterized', 1), ('pyramid', 1), ('enhanced', 1), ('ethereal', 1), ('marriage', 1), ('osmanthus', 1), ('blossoms', 1), ('prompty', 1), ('abates', 1), ('dispelled', 1), ('contribute', 1), ('folk', 1), ('dissapoint', 1), ('scones', 1), ('raves', 1), ('breakfasts', 1), ('schemes', 1), ('delays', 1), ('sprue', 1), ('awareness', 1), ('indistinguishable', 1), ('subbed', 1), ('leavening', 1), ('unsatisfactorily', 1), ('pamelas', 1), ('lifestyle', 1), ('coach', 1), ('desireable', 1), ('remarkable', 1), ('spin', 1), ('hemp', 1), ('exhibited', 1), ('unused', 1), ('talent', 1), ('convienient', 1), ('ricotta', 1), ('paula', 1), ('dean', 1), ('tremendously', 1), ('gravely', 1), ('puchased', 1), ('distinguish', 1), ('heaviness', 1), ('carnitine', 1), ('citrimax', 1), ('ia', 1), ('acesulfame', 1), ('disneyland', 1), ('grabbed', 1), ('mish', 1), ('mash', 1), ('clarify', 1), ('spendy', 1), ('codes', 1), ('nephew', 1), ('museum', 1), ('explosives', 1), ('wraps', 1), ('printing', 1), ('contaminate', 1), ('sealable', 1), ('closures', 1), ('ripen', 1), ('generating', 1), ('hazardous', 1), ('guided', 1), ('twang', 1), ('circumstance', 1), ('cheeper', 1), ('lattes', 1), ('benefts', 1), ('doses', 1), ('alternately', 1), ('sifted', 1), ('bakers', 1), ('crystalize', 1), ('moister', 1), ('nutritionist', 1), ('shrug', 1), ('guiltily', 1), ('apologizing', 1), ('slathered', 1), ('transformed', 1), ('mackays', 1), ('rolling', 1), ('tar', 1), ('bend', 1), ('graphics', 1), ('file', 1), ('retails', 1), ('mangled', 1), ('pristine', 1), ('warped', 1), ('sweetest', 1), ('dings', 1), ('wasteful', 1), ('strianese', 1), ('brutal', 1), ('overlooked', 1), ('sarnese', 1), ('nocerino', 1), ('grower', 1), ('mob', 1), ('ersatz', 1), ('maestro', 1), ('fluctuates', 1), ('pays', 1), ('venders', 1), ('consequence', 1), ('approaching', 1), ('banged', 1), ('serial', 1), ('mimic', 1), ('eu', 1), ('emblem', 1), ('corsorzio', 1), ('enlarge', 1), ('stamps', 1), ('hoodwinking', 1), ('nonsense', 1), ('squism', 1), ('casually', 1), ('punk', 1), ('coward', 1), ('domestic', 1), ('offended', 1), ('incapable', 1), ('classless', 1), ('amazzon', 1), ('iam', 1), ('lake', 1), ('intervals', 1), ('louisanna', 1), ('iowa', 1), ('comm', 1), ('hazalnut', 1), ('orleans', 1), ('peet', 1), ('loyalist', 1), ('blagk', 1), ('roasts', 1), ('surpasses', 1), ('increasing', 1), ('namely', 1), ('lotion', 1), ('rubbed', 1), ('sheets', 1), ('ultimately', 1), ('dharana', 1), ('purchaseing', 1), ('carys', 1), ('tiis', 1), ('subcription', 1), ('nprice', 1), ('kiwi', 1), ('airway', 1), ('constricted', 1), ('foodstuffs', 1), ('radius', 1), ('managers', 1), ('brined', 1), ('agents', 1), ('glazes', 1), ('rubs', 1), ('juicing', 1), ('paralized', 1), ('disco', 1), ('altura', 1), ('suited', 1), ('persistent', 1), ('velvety', 1), ('lively', 1), ('pekoe', 1), ('farrr', 1), ('sensibly', 1), ('decaffienated', 1), ('suits', 1), ('ethiopian', 1), ('coop', 1), ('timor', 1), ('tanzanian', 1), ('shorthair', 1), ('crossed', 1), ('sleeps', 1), ('hears', 1), ('junky', 1), ('chocolately', 1), ('envirokids', 1), ('southwestern', 1), ('spreader', 1), ('traffic', 1), ('calm', 1), ('lollies', 1), ('jan', 1), ('tomatoe', 1), ('ues', 1), ('replenish', 1), ('amy', 1), ('brians', 1), ('vico', 1), ('superfluous', 1), ('nothicker', 1), ('guava', 1), ('recyclable', 1), ('teenagers', 1), ('athletes', 1), ('teen', 1), ('residual', 1), ('assistance', 1), ('symbols', 1), ('landfill', 1), ('culture', 1), ('sustainability', 1), ('pineapplethis', 1), ('smidge', 1), ('leader', 1), ('bicycle', 1), ('hydrator', 1), ('recuperating', 1), ('aweek', 1), ('aggravate', 1), ('andacid', 1), ('tasteis', 1), ('approached', 1), ('dismissive', 1), ('tot', 1), ('undefinable', 1), ('shoeveling', 1), ('deposited', 1), ('northeast', 1), ('milks', 1), ('detract', 1), ('billed', 1), ('oxident', 1), ('slippery', 1), ('utmost', 1), ('importance', 1), ('bump', 1), ('afore', 1), ('invigorating', 1), ('immature', 1), ('ripe', 1), ('mowing', 1), ('waterlogged', 1), ('yoga', 1), ('instructor', 1), ('hangover', 1), ('partied', 1), ('pedialyte', 1), ('dermatologist', 1), ('classes', 1), ('rids', 1), ('cramps', 1), ('calves', 1), ('exhausted', 1), ('concourse', 1), ('jfk', 1), ('flight', 1), ('unsatisfying', 1), ('rumblings', 1), ('traveled', 1), ('fred', 1), ('meyer', 1), ('pureed', 1), ('alimentum', 1), ('hypoallergenic', 1), ('enfamel', 1), ('meds', 1), ('vit', 1), ('neocate', 1), ('colitis', 1), ('pediatrician', 1), ('fulfills', 1), ('criteria', 1), ('switches', 1), ('breastmillk', 1), ('similiac', 1), ('seriousely', 1), ('natures', 1), ('hormonal', 1), ('diapers', 1), ('answerdear', 1), ('firstly', 1), ('requirements', 1), ('dilution', 1), ('mineral', 1), ('ranges', 1), ('committee', 1), ('pediatric', 1), ('handbook', 1), ('nextstep', 1), ('utilized', 1), ('elicit', 1), ('ensue', 1), ('healthcare', 1), ('provider', 1), ('trout', 1), ('nori', 1), ('formed', 1), ('linoleic', 1), ('linolenic', 1), ('legumes', 1), ('needsmost', 1), ('ingestion', 1), ('ovomucoid', 1), ('ovalbumin', 1), ('ovotransferrin', 1), ('lysozyme', 1), ('ovomucin', 1), ('associates', 1), ('triggered', 1), ('seasonal', 1), ('pollen', 1), ('ragweed', 1), ('goosefoot', 1), ('pollens', 1), ('estimated', 1), ('outgrow', 1), ('eggesbo', 1), ('botten', 1), ('halvorsen', 1), ('magnus', 1), ('population', 1), ('lorinature', 1), ('connisseur', 1), ('brothy', 1), ('staged', 1), ('hung', 1), ('roomates', 1), ('exremely', 1), ('pitbull', 1), ('retreiver', 1), ('vitalicious', 1), ('makeover', 1), ('fuel', 1), ('tbsps', 1), ('vitamuffins', 1), ('pam', 1), ('rio', 1), ('llasa', 1), ('tibetan', 1), ('daythey', 1), ('weddingbut', 1), ('airbrushed', 1), ('americolor', 1), ('lolly', 1), ('elite', 1), ('underwhelming', 1), ('altogther', 1), ('mindset', 1), ('forgetting', 1), ('measures', 1), ('accumulated', 1), ('bewer', 1), ('stregnth', 1), ('suprised', 1), ('kona', 1), ('feral', 1), ('trapped', 1), ('spayed', 1), ('handicapped', 1), ('unloading', 1), ('gather', 1), ('rifle', 1), ('odors', 1), ('wetted', 1), ('grapefruit', 1), ('rossi', 1), ('mozzarella', 1), ('puchase', 1), ('sandwitches', 1), ('undon', 1), ('hummos', 1), ('krinos', 1), ('extremelly', 1), ('bottling', 1), ('gravity', 1), ('fermenter', 1), ('vino', 1), ('italiano', 1), ('foils', 1), ('sg', 1), ('toppers', 1), ('farmwiner', 1), ('zin', 1), ('license', 1), ('hobby', 1), ('mellows', 1), ('intent', 1), ('carboy', 1), ('unoaked', 1), ('backsweetening', 1), ('peary', 1), ('minded', 1), ('cellar', 1), ('fermenting', 1), ('barolo', 1), ('eagerly', 1), ('anticipating', 1), ('insane', 1), ('paw', 1), ('smelt', 1), ('trainer', 1), ('adjusting', 1), ('sec', 1), ('gulping', 1), ('targeting', 1), ('fastly', 1), ('proplem', 1), ('tightens', 1), ('mamma', 1), ('jamma', 1), ('gentleman', 1), ('topper', 1), ('overpaying', 1), ('slimming', 1), ('primo', 1), ('chucked', 1), ('unwrapping', 1), ('orignal', 1), ('pamphlet', 1), ('preetier', 1), ('contributor', 1), ('orginal', 1), ('karachi', 1), ('halwa', 1), ('crabmeat', 1), ('satisfatory', 1), ('approximate', 1), ('anchovy', 1), ('lars', 1), ('refers', 1), ('glossed', 1), ('dh', 1), ('chilly', 1), ('coffeeshop', 1), ('heap', 1), ('wouldecaf', 1), ('palpitations', 1), ('colombian', 1), ('entails', 1), ('dissipated', 1), ('inoffensive', 1), ('diner', 1), ('strikes', 1), ('appealingly', 1), ('winey', 1), ('ubiquitous', 1), ('ambient', 1), ('sucked', 1), ('shrinking', 1), ('brick', 1), ('hiss', 1), ('hints', 1), ('acrid', 1), ('breakfasty', 1), ('benefited', 1), ('distinctiveness', 1), ('sap', 1), ('buffer', 1), ('cuppa', 1), ('untypically', 1), ('heaped', 1), ('curl', 1), ('decades', 1), ('elegantly', 1), ('sidewalk', 1), ('spell', 1), ('conflict', 1), ('tinker', 1), ('creamers', 1), ('spills', 1), ('appreciable', 1), ('decanted', 1), ('noon', 1), ('foregn', 1), ('edgy', 1), ('screen', 1), ('burr', 1), ('oddness', 1), ('sips', 1), ('hinted', 1), ('pickiest', 1), ('definitelly', 1), ('pep', 1), ('intimate', 1), ('btaste', 1), ('forgive', 1), ('opaque', 1), ('smoothly', 1), ('subtract', 1), ('snobby', 1), ('rule', 1), ('detailed', 1), ('involves', 1), ('removal', 1), ('unroasted', 1), ('immersed', 1), ('drained', 1), ('reintroduced', 1), ('roasting', 1), ('multitude', 1), ('negatively', 1), ('spiky', 1), ('commending', 1), ('attacted', 1), ('splendas', 1), ('pureness', 1), ('mcdonald', 1), ('enlisted', 1), ('smiled', 1), ('sniffer', 1), ('mimicked', 1), ('snipped', 1), ('loc', 1), ('dimensions', 1), ('fervently', 1), ('endorsement', 1), ('creams', 1), ('stellarmoney', 1), ('mocha', 1), ('nuances', 1), ('built', 1), ('energizing', 1), ('goodwill', 1), ('curiosity', 1), ('undrinkable', 1), ('robusta', 1), ('awe', 1), ('ian', 1), ('unpacking', 1), ('enemies', 1), ('resorted', 1), ('detectible', 1), ('clog', 1), ('bitternesscons', 1), ('flavourful', 1), ('apartment', 1), ('scented', 1), ('heady', 1), ('hav', 1), ('trialing', 1), ('crapload', 1), ('overflow', 1), ('americas', 1), ('sumatra', 1), ('brightness', 1), ('intrude', 1), ('purist', 1), ('recommending', 1), ('unpleasantness', 1), ('coffeehouse', 1), ('einsteins', 1), ('decaffs', 1), ('politely', 1), ('caffein', 1), ('winding', 1), ('bothers', 1), ('sunrise', 1), ('invest', 1), ('voltages', 1), ('malcom', 1), ('saudi', 1), ('arabia', 1), ('village', 1), ('ml', 1), ('redwood', 1), ('carbonation', 1), ('schweppes', 1), ('drowns', 1), ('barrels', 1), ('accounting', 1), ('asin', 1), ('images', 1), ('gnomes', 1), ('cloyingly', 1), ('regualar', 1), ('syrah', 1), ('cabernet', 1), ('merlot', 1), ('tempranillo', 1), ('sangiovese', 1), ('zinfandels', 1), ('sparkling', 1), ('choclatique', 1), ('ohman', 1), ('oops', 1), ('zuppa', 1), ('engelesia', 1), ('choux', 1), ('hollywood', 1), ('gino', 1), ('rossimangia', 1), ('passione', 1), ('caterer', 1), ('yorkies', 1), ('sees', 1), ('circles', 1), ('chihuhua', 1), ('grandkids', 1), ('reusable', 1), ('watter', 1), ('evens', 1), ('aromas', 1), ('reguarding', 1), ('unanswered', 1), ('extrememly', 1), ('answering', 1), ('expedited', 1), ('declined', 1), ('purchasers', 1), ('jammies', 1), ('responsibility', 1), ('fulfillment', 1), ('hindsight', 1), ('starter', 1), ('tather', 1), ('feast', 1), ('shoes', 1), ('rug', 1), ('gratefully', 1), ('elevates', 1), ('host', 1), ('supreme', 1), ('aluminum', 1), ('cordial', 1), ('theliquor', 1), ('isdelicious', 1), ('liquors', 1), ('mouths', 1), ('humane', 1), ('society', 1), ('spat', 1), ('crystallization', 1), ('highs', 1), ('crashes', 1), ('experts', 1), ('chops', 1), ('strangely', 1), ('supper', 1), ('cooker', 1), ('marinading', 1), ('spelled', 1), ('hanoud', 1), ('istanbul', 1), ('angelina', 1), ('tagine', 1), ('fearful', 1), ('conducive', 1), ('volunteered', 1), ('savoring', 1), ('quote', 1), ('norman', 1), ('bates', 1), ('hitchcock', 1), ('psycho', 1), ('therapeutic', 1), ('briefcase', 1), ('aerobic', 1), ('froze', 1), ('truley', 1), ('deliicous', 1), ('saran', 1), ('handwritten', 1), ('caloreis', 1), ('smile', 1), ('googly', 1), ('swing', 1), ('listening', 1), ('birds', 1), ('thaks', 1), ('retired', 1), ('tis', 1), ('anothert', 1), ('numbness', 1), ('tylenol', 1), ('glasses', 1), ('fads', 1), ('inhibit', 1), ('inflammation', 1), ('facilitate', 1), ('arthritis', 1), ('spasms', 1), ('sprains', 1), ('consentrate', 1), ('considerably', 1), ('sleeping', 1), ('inflamation', 1), ('gout', 1), ('races', 1), ('dancer', 1), ('objects', 1), ('dancing', 1), ('object', 1), ('reacts', 1), ('knee', 1), ('bends', 1), ('concentrates', 1), ('montmorency', 1), ('rtcj', 1), ('excellence', 1), ('beancoffee', 1), ('awsome', 1), ('cookiie', 1), ('division', 1), ('monte', 1), ('testthe', 1), ('photograph', 1), ('unmixed', 1), ('evie', 1), ('piper', 1), ('obliged', 1), ('usukuchi', 1), ('sashimi', 1), ('saltier', 1), ('ending', 1), ('kentucky', 1), ('bourbon', 1), ('splashing', 1), ('episode', 1), ('channell', 1), ('competes', 1), ('picnic', 1), ('flows', 1), ('freely', 1), ('coffe', 1), ('xi', 1), ('hu', 1), ('jing', 1), ('polyphenol', 1), ('catechins', 1), ('contributive', 1), ('unstick', 1), ('cornmeal', 1), ('oysters', 1), ('flovor', 1), ('ruled', 1), ('appointment', 1), ('aug', 1), ('speculation', 1), ('crops', 1), ('cavashon', 1), ('circulation', 1), ('jitteryness', 1), ('stinging', 1), ('op', 1), ('braggs', 1), ('regarded', 1), ('carbonated', 1), ('acidify', 1), ('ph', 1), ('alkalizing', 1), ('advocate', 1), ('hippocrates', 1), ('bragg', 1), ('preface', 1), ('focused', 1), ('capture', 1), ('passersby', 1), ('amedium', 1), ('netherlands', 1), ('scouring', 1), ('salvaged', 1), ('macciato', 1), ('dolche', 1), ('guesto', 1), ('prepares', 1), ('dolce', 1), ('staral', 1), ('disciplined', 1), ('technique', 1), ('visualize', 1), ('miniscule', 1), ('paperclip', 1), ('obeying', 1), ('stretching', 1), ('inhale', 1), ('woofers', 1), ('unsure', 1), ('ie', 1), ('isafe', 1), ('awesomely', 1), ('wisconsin', 1), ('capers', 1), ('uwajimaya', 1), ('identifiable', 1), ('motivated', 1), ('understatement', 1), ('darford', 1), ('promote', 1), ('sheph', 1), ('wakes', 1), ('aregular', 1), ('pencils', 1), ('quoted', 1), ('dispatched', 1), ('fox', 1), ('sponsors', 1), ('consumes', 1), ('redbarn', 1), ('straws', 1), ('passer', 1), ('oue', 1), ('unscrupulous', 1), ('cultures', 1), ('collectors', 1), ('shamelessly', 1), ('unbearably', 1), ('mellowing', 1), ('oohs', 1), ('aahhhs', 1), ('meanacing', 1), ('experiments', 1), ('resulted', 1), ('poped', 1), ('mades', 1), ('laughter', 1), ('smallness', 1), ('differed', 1), ('orville', 1), ('vegaline', 1), ('grear', 1), ('grove', 1), ('il', 1), ('bullet', 1)]\n"
     ]
    }
   ],
   "source": [
    "# import operator\n",
    "# sorted_dict = sorted(vocab_train.items(), key=lambda x: x[1],reverse = True)         #key = operator.itemgetter(1) to sort a list of tuples on the second key\n",
    "# print(sorted_dict)"
   ]
  },
  {
   "cell_type": "code",
   "execution_count": 0,
   "metadata": {
    "colab": {},
    "colab_type": "code",
    "id": "28Akb4EyOtf_"
   },
   "outputs": [],
   "source": [
    "# indices_train = dict()\n",
    "# ind = 1\n",
    "# for i in range(len(sorted_dict)):\n",
    "#     a = sorted_dict[i][0]\n",
    "#     indices_train[a] = ind\n",
    "#     ind+=1"
   ]
  },
  {
   "cell_type": "code",
   "execution_count": 35,
   "metadata": {
    "colab": {
     "base_uri": "https://localhost:8080/",
     "height": 346
    },
    "colab_type": "code",
    "id": "iz3Nl2O0I4In",
    "outputId": "62e2184f-4df2-4c85-93b4-93ed920877bd"
   },
   "outputs": [
    {
     "data": {
      "text/html": [
       "<div>\n",
       "<style scoped>\n",
       "    .dataframe tbody tr th:only-of-type {\n",
       "        vertical-align: middle;\n",
       "    }\n",
       "\n",
       "    .dataframe tbody tr th {\n",
       "        vertical-align: top;\n",
       "    }\n",
       "\n",
       "    .dataframe thead th {\n",
       "        text-align: right;\n",
       "    }\n",
       "</style>\n",
       "<table border=\"1\" class=\"dataframe\">\n",
       "  <thead>\n",
       "    <tr style=\"text-align: right;\">\n",
       "      <th></th>\n",
       "      <th>Id</th>\n",
       "      <th>ProductId</th>\n",
       "      <th>UserId</th>\n",
       "      <th>ProfileName</th>\n",
       "      <th>HelpfulnessNumerator</th>\n",
       "      <th>HelpfulnessDenominator</th>\n",
       "      <th>Score</th>\n",
       "      <th>Time</th>\n",
       "      <th>Summary</th>\n",
       "      <th>Text</th>\n",
       "      <th>preprocessed_text</th>\n",
       "      <th>preprocessed_summary</th>\n",
       "    </tr>\n",
       "  </thead>\n",
       "  <tbody>\n",
       "    <tr>\n",
       "      <th>2546</th>\n",
       "      <td>2774</td>\n",
       "      <td>B00002NCJC</td>\n",
       "      <td>A196AJHU9EASJN</td>\n",
       "      <td>Alex Chaffee</td>\n",
       "      <td>0</td>\n",
       "      <td>0</td>\n",
       "      <td>1</td>\n",
       "      <td>1282953600</td>\n",
       "      <td>thirty bucks?</td>\n",
       "      <td>Why is this $[...] when the same product is av...</td>\n",
       "      <td>product available victor traps unreal course t...</td>\n",
       "      <td>thirty bucks</td>\n",
       "    </tr>\n",
       "    <tr>\n",
       "      <th>2547</th>\n",
       "      <td>2775</td>\n",
       "      <td>B00002NCJC</td>\n",
       "      <td>A13RRPGE79XFFH</td>\n",
       "      <td>reader48</td>\n",
       "      <td>0</td>\n",
       "      <td>0</td>\n",
       "      <td>1</td>\n",
       "      <td>1281052800</td>\n",
       "      <td>Flies Begone</td>\n",
       "      <td>We have used the Victor fly bait for 3 seasons...</td>\n",
       "      <td>used victor fly bait seasons ca not beat great...</td>\n",
       "      <td>flies begone</td>\n",
       "    </tr>\n",
       "    <tr>\n",
       "      <th>1145</th>\n",
       "      <td>1244</td>\n",
       "      <td>B00002Z754</td>\n",
       "      <td>A3B8RCEI0FXFI6</td>\n",
       "      <td>B G Chase</td>\n",
       "      <td>10</td>\n",
       "      <td>10</td>\n",
       "      <td>1</td>\n",
       "      <td>962236800</td>\n",
       "      <td>WOW Make your own 'slickers' !</td>\n",
       "      <td>I just received my shipment and could hardly w...</td>\n",
       "      <td>received shipment could hardly wait try produc...</td>\n",
       "      <td>wow make islickers</td>\n",
       "    </tr>\n",
       "    <tr>\n",
       "      <th>1146</th>\n",
       "      <td>1245</td>\n",
       "      <td>B00002Z754</td>\n",
       "      <td>A29Z5PI9BW2PU3</td>\n",
       "      <td>Robbie</td>\n",
       "      <td>7</td>\n",
       "      <td>7</td>\n",
       "      <td>1</td>\n",
       "      <td>961718400</td>\n",
       "      <td>Great Product</td>\n",
       "      <td>This was a really good idea and the final prod...</td>\n",
       "      <td>really good idea final product outstanding use...</td>\n",
       "      <td>great product</td>\n",
       "    </tr>\n",
       "    <tr>\n",
       "      <th>2942</th>\n",
       "      <td>3204</td>\n",
       "      <td>B000084DVR</td>\n",
       "      <td>A1UGDJP1ZJWVPF</td>\n",
       "      <td>T. Moore \"thoughtful reader\"</td>\n",
       "      <td>1</td>\n",
       "      <td>1</td>\n",
       "      <td>1</td>\n",
       "      <td>1177977600</td>\n",
       "      <td>Good stuff!</td>\n",
       "      <td>I'm glad my 45lb cocker/standard poodle puppy ...</td>\n",
       "      <td>glad cocker standard poodle puppy loves stuff ...</td>\n",
       "      <td>good stuff</td>\n",
       "    </tr>\n",
       "  </tbody>\n",
       "</table>\n",
       "</div>"
      ],
      "text/plain": [
       "        Id  ... preprocessed_summary\n",
       "2546  2774  ...         thirty bucks\n",
       "2547  2775  ...         flies begone\n",
       "1145  1244  ...   wow make islickers\n",
       "1146  1245  ...        great product\n",
       "2942  3204  ...           good stuff\n",
       "\n",
       "[5 rows x 12 columns]"
      ]
     },
     "execution_count": 35,
     "metadata": {
      "tags": []
     },
     "output_type": "execute_result"
    }
   ],
   "source": [
    "final.head()"
   ]
  },
  {
   "cell_type": "markdown",
   "metadata": {},
   "source": [
    "# 1. Splitting data in Train and Test"
   ]
  },
  {
   "cell_type": "code",
   "execution_count": 0,
   "metadata": {
    "colab": {},
    "colab_type": "code",
    "id": "h-lYsnuNI4Fq"
   },
   "outputs": [],
   "source": [
    "X = final['preprocessed_text']"
   ]
  },
  {
   "cell_type": "code",
   "execution_count": 0,
   "metadata": {
    "colab": {},
    "colab_type": "code",
    "id": "Zu8Ju0sbI3-a"
   },
   "outputs": [],
   "source": [
    "Y = final['Score']"
   ]
  },
  {
   "cell_type": "code",
   "execution_count": 0,
   "metadata": {
    "colab": {},
    "colab_type": "code",
    "id": "iCbjkAGfOtTc"
   },
   "outputs": [],
   "source": [
    "from sklearn.model_selection import train_test_split\n",
    "x_train , x_test , y_train , y_test = train_test_split(X,Y,test_size = 0.3,shuffle = False)"
   ]
  },
  {
   "cell_type": "code",
   "execution_count": 40,
   "metadata": {
    "colab": {
     "base_uri": "https://localhost:8080/",
     "height": 88
    },
    "colab_type": "code",
    "id": "wMVxv5UhOtQw",
    "outputId": "483c35a2-8ba8-4d5c-e3e1-a62dcd55dab1"
   },
   "outputs": [
    {
     "name": "stdout",
     "output_type": "stream",
     "text": [
      "Shape of Input  - Train: (3490,)\n",
      "Shape of Output - Train: (3490,)\n",
      "Shape of Input  - Test : (1496,)\n",
      "Shape of Output - Test : (1496,)\n"
     ]
    }
   ],
   "source": [
    "print(\"Shape of Input  - Train:\", x_train.shape)\n",
    "print(\"Shape of Output - Train:\", y_train.shape)\n",
    "print(\"Shape of Input  - Test :\", x_test.shape)\n",
    "print(\"Shape of Output - Test :\", y_test.shape)"
   ]
  },
  {
   "cell_type": "code",
   "execution_count": 0,
   "metadata": {
    "colab": {},
    "colab_type": "code",
    "id": "GGj5KFENI5Gl"
   },
   "outputs": [],
   "source": []
  },
  {
   "cell_type": "markdown",
   "metadata": {
    "colab_type": "text",
    "id": "vWU21-vpKbmM"
   },
   "source": [
    "# 2. Tokenizing data"
   ]
  },
  {
   "cell_type": "code",
   "execution_count": 43,
   "metadata": {
    "colab": {
     "base_uri": "https://localhost:8080/",
     "height": 52
    },
    "colab_type": "code",
    "id": "OtLjA7LmI5Dp",
    "outputId": "1dc37f37-17b5-4d21-92ad-317adbfe2b22"
   },
   "outputs": [
    {
     "name": "stdout",
     "output_type": "stream",
     "text": [
      "[40, 4589, 3767, 3768, 3208, 1116, 1, 614, 4, 7]\n",
      "3490\n"
     ]
    }
   ],
   "source": [
    "from keras.preprocessing import sequence\n",
    "from keras.preprocessing.text import Tokenizer\n",
    "tokenize = Tokenizer(num_words=5000)\n",
    "\n",
    "tokenize.fit_on_texts(x_train)\n",
    "\n",
    "Xtrain_new = tokenize.texts_to_sequences(x_train)\n",
    "Xtest_new = tokenize.texts_to_sequences(x_test)\n",
    "\n",
    "print(Xtrain_new[1])\n",
    "print(len(Xtrain_new))"
   ]
  },
  {
   "cell_type": "code",
   "execution_count": 0,
   "metadata": {
    "colab": {},
    "colab_type": "code",
    "id": "X_cyrNoSI5BB"
   },
   "outputs": [],
   "source": []
  },
  {
   "cell_type": "code",
   "execution_count": 0,
   "metadata": {
    "colab": {
     "base_uri": "https://localhost:8080/",
     "height": 35
    },
    "colab_type": "code",
    "id": "lRBtZFdD6ads",
    "outputId": "237f8695-90b7-485e-de48-e0405c40e494"
   },
   "outputs": [
    {
     "name": "stderr",
     "output_type": "stream",
     "text": [
      "Using TensorFlow backend.\n"
     ]
    }
   ],
   "source": [
    "# Credits: https://machinelearningmastery.com/sequence-classification-lstm-recurrent-neural-networks-python-keras/\n",
    "# LSTM for sequence classification in the IMDB dataset\n",
    "import numpy\n",
    "from keras.datasets import imdb\n",
    "from keras.models import Sequential\n",
    "from keras.layers import Dense\n",
    "from keras.layers import LSTM\n",
    "from keras.layers.embeddings import Embedding\n",
    "from keras.preprocessing import sequence\n",
    "# fix random seed for reproducibility\n",
    "numpy.random.seed(7)\n"
   ]
  },
  {
   "cell_type": "code",
   "execution_count": 47,
   "metadata": {
    "colab": {
     "base_uri": "https://localhost:8080/",
     "height": 799
    },
    "colab_type": "code",
    "id": "XR2FRYDF4uds",
    "outputId": "84c6d7aa-acce-4350-c604-566095eb80ad"
   },
   "outputs": [
    {
     "name": "stdout",
     "output_type": "stream",
     "text": [
      "(3490, 600)\n",
      "[   0    0    0    0    0    0    0    0    0    0    0    0    0    0\n",
      "    0    0    0    0    0    0    0    0    0    0    0    0    0    0\n",
      "    0    0    0    0    0    0    0    0    0    0    0    0    0    0\n",
      "    0    0    0    0    0    0    0    0    0    0    0    0    0    0\n",
      "    0    0    0    0    0    0    0    0    0    0    0    0    0    0\n",
      "    0    0    0    0    0    0    0    0    0    0    0    0    0    0\n",
      "    0    0    0    0    0    0    0    0    0    0    0    0    0    0\n",
      "    0    0    0    0    0    0    0    0    0    0    0    0    0    0\n",
      "    0    0    0    0    0    0    0    0    0    0    0    0    0    0\n",
      "    0    0    0    0    0    0    0    0    0    0    0    0    0    0\n",
      "    0    0    0    0    0    0    0    0    0    0    0    0    0    0\n",
      "    0    0    0    0    0    0    0    0    0    0    0    0    0    0\n",
      "    0    0    0    0    0    0    0    0    0    0    0    0    0    0\n",
      "    0    0    0    0    0    0    0    0    0    0    0    0    0    0\n",
      "    0    0    0    0    0    0    0    0    0    0    0    0    0    0\n",
      "    0    0    0    0    0    0    0    0    0    0    0    0    0    0\n",
      "    0    0    0    0    0    0    0    0    0    0    0    0    0    0\n",
      "    0    0    0    0    0    0    0    0    0    0    0    0    0    0\n",
      "    0    0    0    0    0    0    0    0    0    0    0    0    0    0\n",
      "    0    0    0    0    0    0    0    0    0    0    0    0    0    0\n",
      "    0    0    0    0    0    0    0    0    0    0    0    0    0    0\n",
      "    0    0    0    0    0    0    0    0    0    0    0    0    0    0\n",
      "    0    0    0    0    0    0    0    0    0    0    0    0    0    0\n",
      "    0    0    0    0    0    0    0    0    0    0    0    0    0    0\n",
      "    0    0    0    0    0    0    0    0    0    0    0    0    0    0\n",
      "    0    0    0    0    0    0    0    0    0    0    0    0    0    0\n",
      "    0    0    0    0    0    0    0    0    0    0    0    0    0    0\n",
      "    0    0    0    0    0    0    0    0    0    0    0    0    0    0\n",
      "    0    0    0    0    0    0    0    0    0    0    0    0    0    0\n",
      "    0    0    0    0    0    0    0    0    0    0    0    0    0    0\n",
      "    0    0    0    0    0    0    0    0    0    0    0    0    0    0\n",
      "    0    0    0    0    0    0    0    0    0    0    0    0    0    0\n",
      "    0    0    0    0    0    0    0    0    0    0    0    0    0    0\n",
      "    0    0    0    0    0    0    0    0    0    0    0    0    0    0\n",
      "    0    0    0    0    0    0    0    0    0    0    0    0    0    0\n",
      "    0    0    0    0    0    0    0    0    0    0    0    0    0    0\n",
      "    0    0    0    0    0    0    0    0    0    0    0    0    0    0\n",
      "    0    0    0    0    0    0    0    0    0    0    0    0    0    0\n",
      "    0    0    0    0    0    0    0    0    0    0    0    0    0    0\n",
      "    0    0    0    0    0    0    0    0    0    0    0    0    0    0\n",
      "    0    0    0    0    0    0    0    0    0    0    0    0    0    0\n",
      "    0    0    0    0    0    0    0    0    0    0    0    0    0    0\n",
      "    0    0   40 4589 3767 3768 3208 1116    1  614    4    7]\n"
     ]
    }
   ],
   "source": [
    "# truncate and/or pad input sequences\n",
    "max_review_length = 600\n",
    "X_train = sequence.pad_sequences(Xtrain_new, maxlen=max_review_length)\n",
    "X_test = sequence.pad_sequences(Xtest_new, maxlen=max_review_length)\n",
    "\n",
    "print(X_train.shape)\n",
    "print(X_train[1])"
   ]
  },
  {
   "cell_type": "code",
   "execution_count": 0,
   "metadata": {
    "colab": {},
    "colab_type": "code",
    "id": "a2QkFFc8MIj7"
   },
   "outputs": [],
   "source": [
    "top_words = 5000"
   ]
  },
  {
   "cell_type": "markdown",
   "metadata": {},
   "source": [
    "# 3. Architecture 1"
   ]
  },
  {
   "cell_type": "code",
   "execution_count": 53,
   "metadata": {
    "colab": {
     "base_uri": "https://localhost:8080/",
     "height": 499
    },
    "colab_type": "code",
    "id": "QPYR16TL6lit",
    "outputId": "df70860a-8df7-4fa1-b54f-7b63668d83d1"
   },
   "outputs": [
    {
     "name": "stdout",
     "output_type": "stream",
     "text": [
      "WARNING:tensorflow:From /usr/local/lib/python3.6/dist-packages/keras/backend/tensorflow_backend.py:541: The name tf.placeholder is deprecated. Please use tf.compat.v1.placeholder instead.\n",
      "\n",
      "WARNING:tensorflow:From /usr/local/lib/python3.6/dist-packages/keras/backend/tensorflow_backend.py:4432: The name tf.random_uniform is deprecated. Please use tf.random.uniform instead.\n",
      "\n",
      "WARNING:tensorflow:From /usr/local/lib/python3.6/dist-packages/keras/optimizers.py:793: The name tf.train.Optimizer is deprecated. Please use tf.compat.v1.train.Optimizer instead.\n",
      "\n",
      "WARNING:tensorflow:From /usr/local/lib/python3.6/dist-packages/keras/backend/tensorflow_backend.py:3657: The name tf.log is deprecated. Please use tf.math.log instead.\n",
      "\n",
      "WARNING:tensorflow:From /usr/local/lib/python3.6/dist-packages/tensorflow_core/python/ops/nn_impl.py:183: where (from tensorflow.python.ops.array_ops) is deprecated and will be removed in a future version.\n",
      "Instructions for updating:\n",
      "Use tf.where in 2.0, which has the same broadcast rule as np.where\n",
      "Model: \"sequential_2\"\n",
      "_________________________________________________________________\n",
      "Layer (type)                 Output Shape              Param #   \n",
      "=================================================================\n",
      "embedding_1 (Embedding)      (None, 600, 32)           160000    \n",
      "_________________________________________________________________\n",
      "lstm_1 (LSTM)                (None, 100)               53200     \n",
      "_________________________________________________________________\n",
      "dense_1 (Dense)              (None, 1)                 101       \n",
      "=================================================================\n",
      "Total params: 213,301\n",
      "Trainable params: 213,301\n",
      "Non-trainable params: 0\n",
      "_________________________________________________________________\n",
      "None\n"
     ]
    }
   ],
   "source": [
    "# create the model\n",
    "embedding_vecor_length = 32\n",
    "model = Sequential()\n",
    "model.add(Embedding(top_words, embedding_vecor_length, input_length=max_review_length))\n",
    "model.add(LSTM(100))\n",
    "model.add(Dense(1, activation='sigmoid'))\n",
    "model.compile(loss='binary_crossentropy', optimizer='adadelta', metrics=['accuracy'])\n",
    "print(model.summary())\n",
    "#Refer: https://datascience.stackexchange.com/questions/10615/number-of-parameters-in-an-lstm-model"
   ]
  },
  {
   "cell_type": "code",
   "execution_count": 54,
   "metadata": {
    "colab": {
     "base_uri": "https://localhost:8080/",
     "height": 695
    },
    "colab_type": "code",
    "id": "CyOwuC3d7BXq",
    "outputId": "efe4ba93-0b6a-4961-ef87-b85e2ad75787"
   },
   "outputs": [
    {
     "name": "stdout",
     "output_type": "stream",
     "text": [
      "WARNING:tensorflow:From /usr/local/lib/python3.6/dist-packages/keras/backend/tensorflow_backend.py:1033: The name tf.assign_add is deprecated. Please use tf.compat.v1.assign_add instead.\n",
      "\n",
      "WARNING:tensorflow:From /usr/local/lib/python3.6/dist-packages/keras/backend/tensorflow_backend.py:1020: The name tf.assign is deprecated. Please use tf.compat.v1.assign instead.\n",
      "\n",
      "WARNING:tensorflow:From /usr/local/lib/python3.6/dist-packages/keras/backend/tensorflow_backend.py:3005: The name tf.Session is deprecated. Please use tf.compat.v1.Session instead.\n",
      "\n",
      "Train on 3490 samples, validate on 1496 samples\n",
      "Epoch 1/10\n",
      "WARNING:tensorflow:From /usr/local/lib/python3.6/dist-packages/keras/backend/tensorflow_backend.py:190: The name tf.get_default_session is deprecated. Please use tf.compat.v1.get_default_session instead.\n",
      "\n",
      "WARNING:tensorflow:From /usr/local/lib/python3.6/dist-packages/keras/backend/tensorflow_backend.py:197: The name tf.ConfigProto is deprecated. Please use tf.compat.v1.ConfigProto instead.\n",
      "\n",
      "WARNING:tensorflow:From /usr/local/lib/python3.6/dist-packages/keras/backend/tensorflow_backend.py:207: The name tf.global_variables is deprecated. Please use tf.compat.v1.global_variables instead.\n",
      "\n",
      "WARNING:tensorflow:From /usr/local/lib/python3.6/dist-packages/keras/backend/tensorflow_backend.py:216: The name tf.is_variable_initialized is deprecated. Please use tf.compat.v1.is_variable_initialized instead.\n",
      "\n",
      "WARNING:tensorflow:From /usr/local/lib/python3.6/dist-packages/keras/backend/tensorflow_backend.py:223: The name tf.variables_initializer is deprecated. Please use tf.compat.v1.variables_initializer instead.\n",
      "\n",
      "3490/3490 [==============================] - 52s 15ms/step - loss: 0.4912 - acc: 0.8370 - val_loss: 0.4753 - val_acc: 0.8255\n",
      "Epoch 2/10\n",
      "3490/3490 [==============================] - 51s 15ms/step - loss: 0.4350 - acc: 0.8433 - val_loss: 0.4597 - val_acc: 0.8255\n",
      "Epoch 3/10\n",
      "3490/3490 [==============================] - 51s 15ms/step - loss: 0.4270 - acc: 0.8433 - val_loss: 0.4434 - val_acc: 0.8255\n",
      "Epoch 4/10\n",
      "3490/3490 [==============================] - 53s 15ms/step - loss: 0.4097 - acc: 0.8433 - val_loss: 0.4188 - val_acc: 0.8329\n",
      "Epoch 5/10\n",
      "3490/3490 [==============================] - 53s 15ms/step - loss: 0.3687 - acc: 0.8530 - val_loss: 0.4373 - val_acc: 0.8309\n",
      "Epoch 6/10\n",
      "3490/3490 [==============================] - 53s 15ms/step - loss: 0.3101 - acc: 0.8696 - val_loss: 0.4298 - val_acc: 0.8416\n",
      "Epoch 7/10\n",
      "3490/3490 [==============================] - 53s 15ms/step - loss: 0.2687 - acc: 0.8928 - val_loss: 0.3281 - val_acc: 0.8610\n",
      "Epoch 8/10\n",
      "3490/3490 [==============================] - 53s 15ms/step - loss: 0.2106 - acc: 0.9155 - val_loss: 0.3233 - val_acc: 0.8676\n",
      "Epoch 9/10\n",
      "3490/3490 [==============================] - 53s 15ms/step - loss: 0.1645 - acc: 0.9335 - val_loss: 0.3481 - val_acc: 0.8643\n",
      "Epoch 10/10\n",
      "3490/3490 [==============================] - 53s 15ms/step - loss: 0.1405 - acc: 0.9430 - val_loss: 0.3744 - val_acc: 0.8697\n"
     ]
    }
   ],
   "source": [
    "a = model.fit(X_train, y_train, nb_epoch=10, batch_size=64,validation_data=(X_test, y_test))\n",
    "# Final evaluation of the model"
   ]
  },
  {
   "cell_type": "code",
   "execution_count": 55,
   "metadata": {
    "colab": {
     "base_uri": "https://localhost:8080/",
     "height": 35
    },
    "colab_type": "code",
    "id": "8ZqJW6a49u3Q",
    "outputId": "e7a4f4d4-e800-4b56-a17f-b66dfebf9656"
   },
   "outputs": [
    {
     "name": "stdout",
     "output_type": "stream",
     "text": [
      "dict_keys(['val_loss', 'val_acc', 'loss', 'acc'])\n"
     ]
    }
   ],
   "source": [
    "history_dict = a.history\n",
    "print(history_dict.keys())"
   ]
  },
  {
   "cell_type": "code",
   "execution_count": 0,
   "metadata": {
    "colab": {},
    "colab_type": "code",
    "id": "eeb4YV4e_SKh"
   },
   "outputs": [],
   "source": [
    "%matplotlib notebook\n",
    "import matplotlib.pyplot as plt\n",
    "import numpy as np\n",
    "import time\n",
    "# https://gist.github.com/greydanus/f6eee59eaf1d90fcb3b534a25362cea4\n",
    "# https://stackoverflow.com/a/14434334\n",
    "# this function is used to update the plots for each epoch and error\n",
    "def plt_dynamic(x, vy, ty, ax, colors=['b']):\n",
    "    ax.plot(x, vy, 'b', label=\"Validation Loss\")\n",
    "    ax.plot(x, ty, 'r', label=\"Train Loss\")\n",
    "    plt.legend()\n",
    "    plt.grid()\n",
    "    fig.canvas.draw()"
   ]
  },
  {
   "cell_type": "code",
   "execution_count": 56,
   "metadata": {
    "colab": {
     "base_uri": "https://localhost:8080/",
     "height": 336
    },
    "colab_type": "code",
    "id": "MQJ8V-MX7OcE",
    "outputId": "de6bb870-1b15-4f99-847e-c21e644562ae"
   },
   "outputs": [
    {
     "name": "stdout",
     "output_type": "stream",
     "text": [
      "Accuracy: 96.05%\n",
      "##################################\n",
      "Accuracy: 86.97%\n"
     ]
    },
    {
     "data": {
      "image/png": "[encoded data removed]",
      "text/plain": [
       "<Figure size 432x288 with 1 Axes>"
      ]
     },
     "metadata": {
      "tags": []
     },
     "output_type": "display_data"
    }
   ],
   "source": [
    "%matplotlib inline \n",
    "scores1 = model.evaluate(X_train, y_train, verbose=0)\n",
    "print(\"Accuracy: %.2f%%\" % (scores1[1]*100))\n",
    "print(\"##################################\")\n",
    "scores = model.evaluate(X_test, y_test, verbose=0)\n",
    "print(\"Accuracy: %.2f%%\" % (scores[1]*100))\n",
    "\n",
    "\n",
    "\n",
    "fig,ax = plt.subplots(1,1)\n",
    "ax.set_xlabel('epoch') ; ax.set_ylabel('Categorical Crossentropy Loss')\n",
    "\n",
    "\n",
    "x = list(range(1,11))\n",
    "\n",
    "\n",
    "vy = a.history['val_loss']\n",
    "ty = a.history['loss']\n",
    "plt_dynamic(x, vy, ty, ax)"
   ]
  },
  {
   "cell_type": "code",
   "execution_count": 0,
   "metadata": {
    "colab": {},
    "colab_type": "code",
    "id": "0AJ5_wqUEe4r"
   },
   "outputs": [],
   "source": [
    "\n",
    "from keras.layers.normalization import BatchNormalization\n",
    "from keras.layers import Dropout\n"
   ]
  },
  {
   "cell_type": "markdown",
   "metadata": {},
   "source": [
    "# 4. Architecture 2"
   ]
  },
  {
   "cell_type": "code",
   "execution_count": 59,
   "metadata": {
    "colab": {
     "base_uri": "https://localhost:8080/",
     "height": 464
    },
    "colab_type": "code",
    "id": "cS9zTgHQITSW",
    "outputId": "f60394f6-722a-49a1-9707-38ded78c7c86"
   },
   "outputs": [
    {
     "name": "stdout",
     "output_type": "stream",
     "text": [
      "WARNING:tensorflow:From /usr/local/lib/python3.6/dist-packages/keras/backend/tensorflow_backend.py:148: The name tf.placeholder_with_default is deprecated. Please use tf.compat.v1.placeholder_with_default instead.\n",
      "\n",
      "WARNING:tensorflow:From /usr/local/lib/python3.6/dist-packages/keras/backend/tensorflow_backend.py:3733: calling dropout (from tensorflow.python.ops.nn_ops) with keep_prob is deprecated and will be removed in a future version.\n",
      "Instructions for updating:\n",
      "Please use `rate` instead of `keep_prob`. Rate should be set to `rate = 1 - keep_prob`.\n",
      "Model: \"sequential_4\"\n",
      "_________________________________________________________________\n",
      "Layer (type)                 Output Shape              Param #   \n",
      "=================================================================\n",
      "embedding_3 (Embedding)      (None, 600, 32)           160000    \n",
      "_________________________________________________________________\n",
      "lstm_3 (LSTM)                (None, 200)               186400    \n",
      "_________________________________________________________________\n",
      "batch_normalization_1 (Batch (None, 200)               800       \n",
      "_________________________________________________________________\n",
      "dropout_1 (Dropout)          (None, 200)               0         \n",
      "_________________________________________________________________\n",
      "dense_2 (Dense)              (None, 1)                 201       \n",
      "=================================================================\n",
      "Total params: 347,401\n",
      "Trainable params: 347,001\n",
      "Non-trainable params: 400\n",
      "_________________________________________________________________\n",
      "None\n"
     ]
    }
   ],
   "source": [
    "# create the model\n",
    "embedding_vecor_length = 32\n",
    "model = Sequential()\n",
    "model.add(Embedding(top_words, embedding_vecor_length, input_length=max_review_length))\n",
    "model.add(LSTM(200))\n",
    "model.add(BatchNormalization())\n",
    "model.add(Dropout(0.5))\n",
    "\n",
    "\n",
    "model.add(Dense(1, activation='relu'))\n",
    "model.compile(loss='binary_crossentropy', optimizer='adam', metrics=['accuracy'])\n",
    "print(model.summary())\n"
   ]
  },
  {
   "cell_type": "code",
   "execution_count": 0,
   "metadata": {
    "colab": {},
    "colab_type": "code",
    "id": "61AF-UkaCt-a"
   },
   "outputs": [],
   "source": [
    "model.compile(loss='binary_crossentropy', optimizer='adam', metrics=['accuracy'])"
   ]
  },
  {
   "cell_type": "code",
   "execution_count": 61,
   "metadata": {
    "colab": {
     "base_uri": "https://localhost:8080/",
     "height": 390
    },
    "colab_type": "code",
    "id": "j_6cgoiTJ41K",
    "outputId": "10e6cf8d-c0bd-400b-8d77-e11f35846a50"
   },
   "outputs": [
    {
     "name": "stdout",
     "output_type": "stream",
     "text": [
      "Train on 3490 samples, validate on 1496 samples\n",
      "Epoch 1/10\n",
      "3490/3490 [==============================] - 106s 31ms/step - loss: 3.3853 - acc: 0.3817 - val_loss: 1.9694 - val_acc: 0.8202\n",
      "Epoch 2/10\n",
      "3490/3490 [==============================] - 105s 30ms/step - loss: 0.5424 - acc: 0.7605 - val_loss: 0.5752 - val_acc: 0.8195\n",
      "Epoch 3/10\n",
      "3490/3490 [==============================] - 105s 30ms/step - loss: 0.6236 - acc: 0.7954 - val_loss: 0.8474 - val_acc: 0.7219\n",
      "Epoch 4/10\n",
      "3490/3490 [==============================] - 107s 31ms/step - loss: 0.4929 - acc: 0.7980 - val_loss: 2.3697 - val_acc: 0.4713\n",
      "Epoch 5/10\n",
      "3490/3490 [==============================] - 107s 31ms/step - loss: 0.3519 - acc: 0.8476 - val_loss: 2.2204 - val_acc: 0.2861\n",
      "Epoch 6/10\n",
      "3490/3490 [==============================] - 107s 31ms/step - loss: 0.2102 - acc: 0.8307 - val_loss: 1.8947 - val_acc: 0.2841\n",
      "Epoch 7/10\n",
      "3490/3490 [==============================] - 108s 31ms/step - loss: 0.2027 - acc: 0.7711 - val_loss: 1.8590 - val_acc: 0.3095\n",
      "Epoch 8/10\n",
      "3490/3490 [==============================] - 107s 31ms/step - loss: 0.1310 - acc: 0.7599 - val_loss: 1.0002 - val_acc: 0.6270\n",
      "Epoch 9/10\n",
      "3490/3490 [==============================] - 107s 31ms/step - loss: 0.0806 - acc: 0.6903 - val_loss: 1.2022 - val_acc: 0.4452\n",
      "Epoch 10/10\n",
      "3490/3490 [==============================] - 107s 31ms/step - loss: 0.0508 - acc: 0.6438 - val_loss: 1.1675 - val_acc: 0.5301\n"
     ]
    }
   ],
   "source": [
    "a = model.fit(X_train, y_train, nb_epoch=10, batch_size=64,validation_data=(X_test, y_test))"
   ]
  },
  {
   "cell_type": "code",
   "execution_count": 62,
   "metadata": {
    "colab": {
     "base_uri": "https://localhost:8080/",
     "height": 336
    },
    "colab_type": "code",
    "id": "GApnc6soLKk0",
    "outputId": "5c852584-7997-4fd1-8135-ea8003bf93dd"
   },
   "outputs": [
    {
     "name": "stdout",
     "output_type": "stream",
     "text": [
      "Accuracy: 62.21%\n",
      "##################################\n",
      "Accuracy: 53.01%\n"
     ]
    },
    {
     "data": {
      "image/png": "[encoded data removed]",
      "text/plain": [
       "<Figure size 432x288 with 1 Axes>"
      ]
     },
     "metadata": {
      "tags": []
     },
     "output_type": "display_data"
    }
   ],
   "source": [
    "%matplotlib inline \n",
    "scores1 = model.evaluate(X_train, y_train, verbose=0)\n",
    "print(\"Accuracy: %.2f%%\" % (scores1[1]*100))\n",
    "print(\"##################################\")\n",
    "scores = model.evaluate(X_test, y_test, verbose=0)\n",
    "print(\"Accuracy: %.2f%%\" % (scores[1]*100))\n",
    "\n",
    "\n",
    "\n",
    "fig,ax = plt.subplots(1,1)\n",
    "ax.set_xlabel('epoch') ; ax.set_ylabel('Categorical Crossentropy Loss')\n",
    "\n",
    "\n",
    "x = list(range(1,11))\n",
    "\n",
    "\n",
    "vy = a.history['val_loss']\n",
    "ty = a.history['loss']\n",
    "plt_dynamic(x, vy, ty, ax)"
   ]
  },
  {
   "cell_type": "markdown",
   "metadata": {},
   "source": [
    "# 5. Architeture 3"
   ]
  },
  {
   "cell_type": "code",
   "execution_count": 63,
   "metadata": {
    "colab": {
     "base_uri": "https://localhost:8080/",
     "height": 355
    },
    "colab_type": "code",
    "id": "l6t3WSwjUQCV",
    "outputId": "26dbcf08-d86e-4e74-c96d-ed04b4ba6ea0"
   },
   "outputs": [
    {
     "name": "stdout",
     "output_type": "stream",
     "text": [
      "Model: \"sequential_5\"\n",
      "_________________________________________________________________\n",
      "Layer (type)                 Output Shape              Param #   \n",
      "=================================================================\n",
      "embedding_4 (Embedding)      (None, 600, 32)           160000    \n",
      "_________________________________________________________________\n",
      "lstm_4 (LSTM)                (None, 200)               186400    \n",
      "_________________________________________________________________\n",
      "batch_normalization_2 (Batch (None, 200)               800       \n",
      "_________________________________________________________________\n",
      "dropout_2 (Dropout)          (None, 200)               0         \n",
      "_________________________________________________________________\n",
      "dense_3 (Dense)              (None, 1)                 201       \n",
      "=================================================================\n",
      "Total params: 347,401\n",
      "Trainable params: 347,001\n",
      "Non-trainable params: 400\n",
      "_________________________________________________________________\n",
      "None\n"
     ]
    }
   ],
   "source": [
    "# create the model\n",
    "embedding_vecor_length = 32\n",
    "model = Sequential()\n",
    "model.add(Embedding(top_words, embedding_vecor_length, input_length=max_review_length))\n",
    "model.add(LSTM(200))\n",
    "model.add(BatchNormalization())\n",
    "model.add(Dropout(0.5))\n",
    "\n",
    "model.add(Dense(1, activation='relu'))\n",
    "model.compile(loss='binary_crossentropy', optimizer='adam', metrics=['accuracy'])\n",
    "print(model.summary())"
   ]
  },
  {
   "cell_type": "code",
   "execution_count": 64,
   "metadata": {
    "colab": {
     "base_uri": "https://localhost:8080/",
     "height": 746
    },
    "colab_type": "code",
    "id": "jD-NuyzxUYcS",
    "outputId": "8d1ec179-a05b-4b40-9e37-af874204ce6c"
   },
   "outputs": [
    {
     "name": "stdout",
     "output_type": "stream",
     "text": [
      "Train on 3490 samples, validate on 1496 samples\n",
      "Epoch 1/20\n",
      "3490/3490 [==============================] - 111s 32ms/step - loss: 3.1595 - acc: 0.4117 - val_loss: 0.8487 - val_acc: 0.8162\n",
      "Epoch 2/20\n",
      "3490/3490 [==============================] - 110s 31ms/step - loss: 0.6266 - acc: 0.7587 - val_loss: 1.1484 - val_acc: 0.8222\n",
      "Epoch 3/20\n",
      "3490/3490 [==============================] - 110s 31ms/step - loss: 0.5124 - acc: 0.8298 - val_loss: 0.5414 - val_acc: 0.8102\n",
      "Epoch 4/20\n",
      "3490/3490 [==============================] - 109s 31ms/step - loss: 0.3594 - acc: 0.8516 - val_loss: 0.7247 - val_acc: 0.7527\n",
      "Epoch 5/20\n",
      "3490/3490 [==============================] - 109s 31ms/step - loss: 0.2166 - acc: 0.8390 - val_loss: 0.8427 - val_acc: 0.7620\n",
      "Epoch 6/20\n",
      "3490/3490 [==============================] - 110s 31ms/step - loss: 0.1607 - acc: 0.7822 - val_loss: 1.4069 - val_acc: 0.6758\n",
      "Epoch 7/20\n",
      "3490/3490 [==============================] - 109s 31ms/step - loss: 0.1063 - acc: 0.7172 - val_loss: 4.3088 - val_acc: 0.4298\n",
      "Epoch 8/20\n",
      "3490/3490 [==============================] - 110s 32ms/step - loss: 0.0772 - acc: 0.6458 - val_loss: 3.1029 - val_acc: 0.5408\n",
      "Epoch 9/20\n",
      "3490/3490 [==============================] - 111s 32ms/step - loss: 0.0592 - acc: 0.5871 - val_loss: 9.2515 - val_acc: 0.2560\n",
      "Epoch 10/20\n",
      "3490/3490 [==============================] - 110s 32ms/step - loss: 0.0525 - acc: 0.5338 - val_loss: 1.2806 - val_acc: 0.5087\n",
      "Epoch 11/20\n",
      "3490/3490 [==============================] - 110s 31ms/step - loss: 0.0481 - acc: 0.4991 - val_loss: 10.7219 - val_acc: 0.2186\n",
      "Epoch 12/20\n",
      "3490/3490 [==============================] - 110s 32ms/step - loss: 0.0453 - acc: 0.4622 - val_loss: 3.2125 - val_acc: 0.5354\n",
      "Epoch 13/20\n",
      "3490/3490 [==============================] - 110s 31ms/step - loss: 0.0418 - acc: 0.4370 - val_loss: 1.5387 - val_acc: 0.4672\n",
      "Epoch 14/20\n",
      "3490/3490 [==============================] - 110s 31ms/step - loss: 0.0408 - acc: 0.4215 - val_loss: 1.7552 - val_acc: 0.2112\n",
      "Epoch 15/20\n",
      "3490/3490 [==============================] - 110s 31ms/step - loss: 0.0414 - acc: 0.4006 - val_loss: 9.4350 - val_acc: 0.2741\n",
      "Epoch 16/20\n",
      "3490/3490 [==============================] - 110s 31ms/step - loss: 0.0403 - acc: 0.3857 - val_loss: 1.7925 - val_acc: 0.4853\n",
      "Epoch 17/20\n",
      "3490/3490 [==============================] - 110s 31ms/step - loss: 0.0405 - acc: 0.3825 - val_loss: 1.7152 - val_acc: 0.4505\n",
      "Epoch 18/20\n",
      "3490/3490 [==============================] - 110s 32ms/step - loss: 0.0405 - acc: 0.3688 - val_loss: 1.6017 - val_acc: 0.3723\n",
      "Epoch 19/20\n",
      "3490/3490 [==============================] - 110s 32ms/step - loss: 0.0366 - acc: 0.3504 - val_loss: 2.7814 - val_acc: 0.0000e+00\n",
      "Epoch 20/20\n",
      "3490/3490 [==============================] - 109s 31ms/step - loss: 0.1110 - acc: 0.4026 - val_loss: 1.7761 - val_acc: 0.2092\n"
     ]
    }
   ],
   "source": [
    "model.compile(loss='binary_crossentropy', optimizer='adam', metrics=['accuracy'])\n",
    "a = model.fit(X_train, y_train, nb_epoch=20, batch_size=64,validation_data=(X_test, y_test))"
   ]
  },
  {
   "cell_type": "code",
   "execution_count": 65,
   "metadata": {
    "colab": {
     "base_uri": "https://localhost:8080/",
     "height": 336
    },
    "colab_type": "code",
    "id": "l5AnaSOLVUqN",
    "outputId": "2241c395-697e-4a6f-8c83-e401b64568fd"
   },
   "outputs": [
    {
     "name": "stdout",
     "output_type": "stream",
     "text": [
      "Accuracy: 17.97%\n",
      "##################################\n",
      "Accuracy: 20.92%\n"
     ]
    },
    {
     "data": {
      "image/png": "[encoded data removed]",
      "text/plain": [
       "<Figure size 432x288 with 1 Axes>"
      ]
     },
     "metadata": {
      "tags": []
     },
     "output_type": "display_data"
    }
   ],
   "source": [
    "%matplotlib inline \n",
    "scores1 = model.evaluate(X_train, y_train, verbose=0)\n",
    "print(\"Accuracy: %.2f%%\" % (scores1[1]*100))\n",
    "print(\"##################################\")\n",
    "scores = model.evaluate(X_test, y_test, verbose=0)\n",
    "print(\"Accuracy: %.2f%%\" % (scores[1]*100))\n",
    "\n",
    "\n",
    "\n",
    "fig,ax = plt.subplots(1,1)\n",
    "ax.set_xlabel('epoch') ; ax.set_ylabel('Categorical Crossentropy Loss')\n",
    "\n",
    "\n",
    "x = list(range(1,21))\n",
    "\n",
    "\n",
    "vy = a.history['val_loss']\n",
    "ty = a.history['loss']\n",
    "plt_dynamic(x, vy, ty, ax)"
   ]
  },
  {
   "cell_type": "markdown",
   "metadata": {
    "colab": {},
    "colab_type": "code",
    "id": "w70rITAbVUyW"
   },
   "source": [
    "# 6. Architecture 4"
   ]
  },
  {
   "cell_type": "code",
   "execution_count": 0,
   "metadata": {
    "colab": {
     "base_uri": "https://localhost:8080/",
     "height": 426
    },
    "colab_type": "code",
    "id": "0vM6dymAVVCg",
    "outputId": "b27db0d9-0a62-4338-d52b-7e2956b3a182"
   },
   "outputs": [
    {
     "name": "stdout",
     "output_type": "stream",
     "text": [
      "Model: \"sequential_16\"\n",
      "_________________________________________________________________\n",
      "Layer (type)                 Output Shape              Param #   \n",
      "=================================================================\n",
      "embedding_15 (Embedding)     (None, 600, 64)           320000    \n",
      "_________________________________________________________________\n",
      "batch_normalization_11 (Batc (None, 600, 64)           256       \n",
      "_________________________________________________________________\n",
      "lstm_20 (LSTM)               (None, 600, 2)            536       \n",
      "_________________________________________________________________\n",
      "batch_normalization_12 (Batc (None, 600, 2)            8         \n",
      "_________________________________________________________________\n",
      "lstm_21 (LSTM)               (None, 2)                 40        \n",
      "_________________________________________________________________\n",
      "dropout_23 (Dropout)         (None, 2)                 0         \n",
      "_________________________________________________________________\n",
      "dense_25 (Dense)             (None, 1)                 3         \n",
      "=================================================================\n",
      "Total params: 320,843\n",
      "Trainable params: 320,711\n",
      "Non-trainable params: 132\n",
      "_________________________________________________________________\n",
      "None\n"
     ]
    }
   ],
   "source": [
    "# create the model\n",
    "embedding_vecor_length = 64\n",
    "model = Sequential()\n",
    "model.add(Embedding(top_words, embedding_vecor_length, input_length=max_review_length))\n",
    "model.add(BatchNormalization())\n",
    "model.add(LSTM(2, return_sequences=True))\n",
    "model.add(BatchNormalization())\n",
    "model.add(LSTM(2))\n",
    "model.add(Dropout(0.25))\n",
    "model.add(Dense(1, activation='sigmoid'))\n",
    "model.compile(loss='binary_crossentropy', optimizer='adam', metrics=['accuracy'])\n",
    "print(model.summary())"
   ]
  },
  {
   "cell_type": "code",
   "execution_count": 0,
   "metadata": {
    "colab": {
     "base_uri": "https://localhost:8080/",
     "height": 568
    },
    "colab_type": "code",
    "id": "gzwXjSfuVU9o",
    "outputId": "08087995-0ab1-4c9b-f3eb-390e92c48323"
   },
   "outputs": [
    {
     "name": "stdout",
     "output_type": "stream",
     "text": [
      "Train on 3490 samples, validate on 1496 samples\n",
      "Epoch 1/15\n",
      "3490/3490 [==============================] - 60s 17ms/step - loss: 0.6203 - acc: 0.8246 - val_loss: 0.5959 - val_acc: 0.8255\n",
      "Epoch 2/15\n",
      "3490/3490 [==============================] - 48s 14ms/step - loss: 0.5614 - acc: 0.8441 - val_loss: 0.5569 - val_acc: 0.8262\n",
      "Epoch 3/15\n",
      "3490/3490 [==============================] - 48s 14ms/step - loss: 0.5224 - acc: 0.8507 - val_loss: 0.5267 - val_acc: 0.8275\n",
      "Epoch 4/15\n",
      "3490/3490 [==============================] - 47s 14ms/step - loss: 0.4628 - acc: 0.8582 - val_loss: 0.4804 - val_acc: 0.8282\n",
      "Epoch 5/15\n",
      "3490/3490 [==============================] - 47s 13ms/step - loss: 0.3996 - acc: 0.8593 - val_loss: 0.4396 - val_acc: 0.8255\n",
      "Epoch 6/15\n",
      "3490/3490 [==============================] - 49s 14ms/step - loss: 0.3645 - acc: 0.8716 - val_loss: 0.4173 - val_acc: 0.8249\n",
      "Epoch 7/15\n",
      "3490/3490 [==============================] - 48s 14ms/step - loss: 0.3349 - acc: 0.9080 - val_loss: 0.3997 - val_acc: 0.8255\n",
      "Epoch 8/15\n",
      "3490/3490 [==============================] - 48s 14ms/step - loss: 0.3154 - acc: 0.9195 - val_loss: 0.3979 - val_acc: 0.8222\n",
      "Epoch 9/15\n",
      "3490/3490 [==============================] - 47s 13ms/step - loss: 0.2996 - acc: 0.9269 - val_loss: 0.3797 - val_acc: 0.8255\n",
      "Epoch 10/15\n",
      "3490/3490 [==============================] - 47s 13ms/step - loss: 0.2815 - acc: 0.9387 - val_loss: 0.3729 - val_acc: 0.8262\n",
      "Epoch 11/15\n",
      "3490/3490 [==============================] - 47s 14ms/step - loss: 0.2721 - acc: 0.9390 - val_loss: 0.3734 - val_acc: 0.8422\n",
      "Epoch 12/15\n",
      "3490/3490 [==============================] - 47s 13ms/step - loss: 0.2608 - acc: 0.9415 - val_loss: 0.3568 - val_acc: 0.8549\n",
      "Epoch 13/15\n",
      "3490/3490 [==============================] - 49s 14ms/step - loss: 0.2453 - acc: 0.9447 - val_loss: 0.3523 - val_acc: 0.8549\n",
      "Epoch 14/15\n",
      "3490/3490 [==============================] - 51s 15ms/step - loss: 0.2408 - acc: 0.9487 - val_loss: 0.3473 - val_acc: 0.8583\n",
      "Epoch 15/15\n",
      "3490/3490 [==============================] - 50s 14ms/step - loss: 0.2301 - acc: 0.9533 - val_loss: 0.3497 - val_acc: 0.8616\n"
     ]
    }
   ],
   "source": [
    "a = model.fit(X_train, y_train, epochs = 15, batch_size = 64, verbose=1,validation_data=(X_test, y_test))"
   ]
  },
  {
   "cell_type": "code",
   "execution_count": 0,
   "metadata": {
    "colab": {
     "base_uri": "https://localhost:8080/",
     "height": 336
    },
    "colab_type": "code",
    "id": "YA_ZtAfnVf4K",
    "outputId": "7dad2e8a-47fc-4fd2-fe3d-4cad6bd6afc0"
   },
   "outputs": [
    {
     "name": "stdout",
     "output_type": "stream",
     "text": [
      "Accuracy: 97.97%\n",
      "##################################\n",
      "Accuracy: 86.16%\n"
     ]
    },
    {
     "data": {
      "image/png": "[encoded data removed]",
      "text/plain": [
       "<Figure size 432x288 with 1 Axes>"
      ]
     },
     "metadata": {
      "tags": []
     },
     "output_type": "display_data"
    }
   ],
   "source": [
    "%matplotlib inline \n",
    "scores1 = model.evaluate(X_train, y_train, verbose=0)\n",
    "print(\"Accuracy: %.2f%%\" % (scores1[1]*100))\n",
    "print(\"##################################\")\n",
    "scores = model.evaluate(X_test, y_test, verbose=0)\n",
    "print(\"Accuracy: %.2f%%\" % (scores[1]*100))\n",
    "\n",
    "\n",
    "\n",
    "fig,ax = plt.subplots(1,1)\n",
    "ax.set_xlabel('epoch') ; ax.set_ylabel('Categorical Crossentropy Loss')\n",
    "\n",
    "\n",
    "x = list(range(1,16))\n",
    "\n",
    "\n",
    "vy = a.history['val_loss']\n",
    "ty = a.history['loss']\n",
    "plt_dynamic(x, vy, ty, ax)"
   ]
  },
  {
   "cell_type": "markdown",
   "metadata": {
    "colab": {},
    "colab_type": "code",
    "id": "hRil7MKXVwpU"
   },
   "source": [
    "# 7. Architecture 5"
   ]
  },
  {
   "cell_type": "code",
   "execution_count": 0,
   "metadata": {
    "colab": {
     "base_uri": "https://localhost:8080/",
     "height": 319
    },
    "colab_type": "code",
    "id": "FroDiVboVwlz",
    "outputId": "ea55ccbe-a1fd-4d5e-e082-a86338b8b8a6"
   },
   "outputs": [
    {
     "name": "stdout",
     "output_type": "stream",
     "text": [
      "Model: \"sequential_18\"\n",
      "_________________________________________________________________\n",
      "Layer (type)                 Output Shape              Param #   \n",
      "=================================================================\n",
      "embedding_17 (Embedding)     (None, 600, 64)           320000    \n",
      "_________________________________________________________________\n",
      "lstm_24 (LSTM)               (None, 600, 10)           3000      \n",
      "_________________________________________________________________\n",
      "lstm_25 (LSTM)               (None, 10)                840       \n",
      "_________________________________________________________________\n",
      "dense_27 (Dense)             (None, 1)                 11        \n",
      "=================================================================\n",
      "Total params: 323,851\n",
      "Trainable params: 323,851\n",
      "Non-trainable params: 0\n",
      "_________________________________________________________________\n",
      "None\n"
     ]
    }
   ],
   "source": [
    "model = Sequential()\n",
    "model.add(Embedding(top_words, embedding_vecor_length, input_length=max_review_length))\n",
    "model.add(LSTM(10,return_sequences=True,dropout=0.5,recurrent_dropout=0.5))\n",
    "model.add(LSTM(10,dropout=0.5,recurrent_dropout=0.5))\n",
    "model.add(Dense(1,activation='sigmoid'))\n",
    "model.compile(loss='binary_crossentropy',optimizer='adam',metrics=['accuracy'])\n",
    "print(model.summary())"
   ]
  },
  {
   "cell_type": "code",
   "execution_count": 0,
   "metadata": {
    "colab": {
     "base_uri": "https://localhost:8080/",
     "height": 212
    },
    "colab_type": "code",
    "id": "a9o-fz_RVyEM",
    "outputId": "9262b9b8-e25c-4b94-b67b-e33a92620aad"
   },
   "outputs": [
    {
     "name": "stdout",
     "output_type": "stream",
     "text": [
      "Train on 3490 samples, validate on 1496 samples\n",
      "Epoch 1/5\n",
      "3490/3490 [==============================] - 78s 22ms/step - loss: 0.5935 - acc: 0.8244 - val_loss: 0.4455 - val_acc: 0.8255\n",
      "Epoch 2/5\n",
      "3490/3490 [==============================] - 69s 20ms/step - loss: 0.4028 - acc: 0.8441 - val_loss: 0.3656 - val_acc: 0.8322\n",
      "Epoch 3/5\n",
      "3490/3490 [==============================] - 69s 20ms/step - loss: 0.2689 - acc: 0.8997 - val_loss: 0.2683 - val_acc: 0.9011\n",
      "Epoch 4/5\n",
      "3490/3490 [==============================] - 69s 20ms/step - loss: 0.1690 - acc: 0.9570 - val_loss: 0.2606 - val_acc: 0.9124\n",
      "Epoch 5/5\n",
      "3490/3490 [==============================] - 69s 20ms/step - loss: 0.1182 - acc: 0.9725 - val_loss: 0.2709 - val_acc: 0.9151\n"
     ]
    }
   ],
   "source": [
    "a = model.fit(X_train, y_train, epochs = 5, batch_size = 64, verbose=1,validation_data=(X_test, y_test))"
   ]
  },
  {
   "cell_type": "code",
   "execution_count": 0,
   "metadata": {
    "colab": {
     "base_uri": "https://localhost:8080/",
     "height": 336
    },
    "colab_type": "code",
    "id": "hDSpskY2VyAH",
    "outputId": "f5826c9b-ebfc-4248-9843-231ea3ce82d4"
   },
   "outputs": [
    {
     "name": "stdout",
     "output_type": "stream",
     "text": [
      "Accuracy: 98.88%\n",
      "##################################\n",
      "Accuracy: 91.51%\n"
     ]
    },
    {
     "data": {
      "image/png": "[encoded data removed]",
      "text/plain": [
       "<Figure size 432x288 with 1 Axes>"
      ]
     },
     "metadata": {
      "tags": []
     },
     "output_type": "display_data"
    }
   ],
   "source": [
    "%matplotlib inline \n",
    "scores1 = model.evaluate(X_train, y_train, verbose=0)\n",
    "print(\"Accuracy: %.2f%%\" % (scores1[1]*100))\n",
    "print(\"##################################\")\n",
    "scores = model.evaluate(X_test, y_test, verbose=0)\n",
    "print(\"Accuracy: %.2f%%\" % (scores[1]*100))\n",
    "\n",
    "\n",
    "\n",
    "fig,ax = plt.subplots(1,1)\n",
    "ax.set_xlabel('epoch') ; ax.set_ylabel('Categorical Crossentropy Loss')\n",
    "\n",
    "\n",
    "x = list(range(1,6))\n",
    "\n",
    "\n",
    "vy = a.history['val_loss']\n",
    "ty = a.history['loss']\n",
    "plt_dynamic(x, vy, ty, ax)"
   ]
  },
  {
   "cell_type": "markdown",
   "metadata": {},
   "source": [
    "# 8. Architecture 6"
   ]
  },
  {
   "cell_type": "code",
   "execution_count": 0,
   "metadata": {
    "colab": {
     "base_uri": "https://localhost:8080/",
     "height": 319
    },
    "colab_type": "code",
    "id": "lTVmF4uxY6q1",
    "outputId": "5b6431ee-f253-4761-a013-4bf8bd1b61aa"
   },
   "outputs": [
    {
     "name": "stdout",
     "output_type": "stream",
     "text": [
      "Model: \"sequential_21\"\n",
      "_________________________________________________________________\n",
      "Layer (type)                 Output Shape              Param #   \n",
      "=================================================================\n",
      "embedding_19 (Embedding)     (None, 600, 64)           320000    \n",
      "_________________________________________________________________\n",
      "lstm_28 (LSTM)               (None, 600, 2)            536       \n",
      "_________________________________________________________________\n",
      "lstm_29 (LSTM)               (None, 2)                 40        \n",
      "_________________________________________________________________\n",
      "dense_29 (Dense)             (None, 1)                 3         \n",
      "=================================================================\n",
      "Total params: 320,579\n",
      "Trainable params: 320,579\n",
      "Non-trainable params: 0\n",
      "_________________________________________________________________\n",
      "None\n"
     ]
    }
   ],
   "source": [
    "model = Sequential()\n",
    "model.add(Embedding(top_words, embedding_vecor_length, input_length=max_review_length))\n",
    "model.add(LSTM(2,return_sequences=True,dropout=0.5,recurrent_dropout=0.5))\n",
    "model.add(LSTM(2,dropout=0.5,recurrent_dropout=0.5))\n",
    "model.add(Dense(1,activation='sigmoid'))\n",
    "model.compile(loss='binary_crossentropy',optimizer='adam',metrics=['accuracy'])\n",
    "print(model.summary())"
   ]
  },
  {
   "cell_type": "code",
   "execution_count": 0,
   "metadata": {
    "colab": {
     "base_uri": "https://localhost:8080/",
     "height": 568
    },
    "colab_type": "code",
    "id": "58AyoFK4ZNVQ",
    "outputId": "2b08239f-6edf-4c0e-bb62-efb714405536"
   },
   "outputs": [
    {
     "name": "stdout",
     "output_type": "stream",
     "text": [
      "Train on 3490 samples, validate on 1496 samples\n",
      "Epoch 1/15\n",
      "3490/3490 [==============================] - 73s 21ms/step - loss: 0.6592 - acc: 0.8215 - val_loss: 0.6253 - val_acc: 0.8255\n",
      "Epoch 2/15\n",
      "3490/3490 [==============================] - 62s 18ms/step - loss: 0.6027 - acc: 0.8424 - val_loss: 0.5636 - val_acc: 0.8255\n",
      "Epoch 3/15\n",
      "3490/3490 [==============================] - 65s 19ms/step - loss: 0.5541 - acc: 0.8433 - val_loss: 0.5082 - val_acc: 0.8255\n",
      "Epoch 4/15\n",
      "3490/3490 [==============================] - 67s 19ms/step - loss: 0.5147 - acc: 0.8476 - val_loss: 0.4541 - val_acc: 0.8302\n",
      "Epoch 5/15\n",
      "3490/3490 [==============================] - 66s 19ms/step - loss: 0.4662 - acc: 0.8673 - val_loss: 0.3956 - val_acc: 0.8717\n",
      "Epoch 6/15\n",
      "3490/3490 [==============================] - 66s 19ms/step - loss: 0.4135 - acc: 0.9011 - val_loss: 0.3442 - val_acc: 0.9004\n",
      "Epoch 7/15\n",
      "3490/3490 [==============================] - 66s 19ms/step - loss: 0.3630 - acc: 0.9195 - val_loss: 0.3140 - val_acc: 0.8984\n",
      "Epoch 8/15\n",
      "3490/3490 [==============================] - 64s 18ms/step - loss: 0.3174 - acc: 0.9352 - val_loss: 0.3029 - val_acc: 0.9004\n",
      "Epoch 9/15\n",
      "3490/3490 [==============================] - 64s 18ms/step - loss: 0.2895 - acc: 0.9384 - val_loss: 0.2948 - val_acc: 0.8991\n",
      "Epoch 10/15\n",
      "3490/3490 [==============================] - 64s 18ms/step - loss: 0.2554 - acc: 0.9504 - val_loss: 0.2928 - val_acc: 0.8971\n",
      "Epoch 11/15\n",
      "3490/3490 [==============================] - 63s 18ms/step - loss: 0.2472 - acc: 0.9447 - val_loss: 0.2889 - val_acc: 0.9031\n",
      "Epoch 12/15\n",
      "3490/3490 [==============================] - 63s 18ms/step - loss: 0.2294 - acc: 0.9473 - val_loss: 0.2782 - val_acc: 0.9011\n",
      "Epoch 13/15\n",
      "3490/3490 [==============================] - 64s 18ms/step - loss: 0.2152 - acc: 0.9479 - val_loss: 0.2878 - val_acc: 0.8957\n",
      "Epoch 14/15\n",
      "3490/3490 [==============================] - 63s 18ms/step - loss: 0.2069 - acc: 0.9507 - val_loss: 0.2901 - val_acc: 0.8964\n",
      "Epoch 15/15\n",
      "3490/3490 [==============================] - 64s 18ms/step - loss: 0.1912 - acc: 0.9487 - val_loss: 0.3063 - val_acc: 0.8951\n"
     ]
    }
   ],
   "source": [
    "a = model.fit(X_train, y_train, epochs = 15, batch_size = 64, verbose=1,validation_data=(X_test, y_test))"
   ]
  },
  {
   "cell_type": "code",
   "execution_count": 0,
   "metadata": {
    "colab": {
     "base_uri": "https://localhost:8080/",
     "height": 336
    },
    "colab_type": "code",
    "id": "pSXYUlytZSYN",
    "outputId": "ab76bd25-1a6e-4ab8-a565-e6764388cc50"
   },
   "outputs": [
    {
     "name": "stdout",
     "output_type": "stream",
     "text": [
      "Accuracy: 99.48%\n",
      "##################################\n",
      "Accuracy: 89.51%\n"
     ]
    },
    {
     "data": {
      "image/png": "[encoded data removed]",
      "text/plain": [
       "<Figure size 432x288 with 1 Axes>"
      ]
     },
     "metadata": {
      "tags": []
     },
     "output_type": "display_data"
    }
   ],
   "source": [
    "%matplotlib inline \n",
    "scores1 = model.evaluate(X_train, y_train, verbose=0)\n",
    "print(\"Accuracy: %.2f%%\" % (scores1[1]*100))\n",
    "print(\"##################################\")\n",
    "scores = model.evaluate(X_test, y_test, verbose=0)\n",
    "print(\"Accuracy: %.2f%%\" % (scores[1]*100))\n",
    "\n",
    "\n",
    "\n",
    "fig,ax = plt.subplots(1,1)\n",
    "ax.set_xlabel('epoch') ; ax.set_ylabel('Categorical Crossentropy Loss')\n",
    "\n",
    "\n",
    "x = list(range(1,16))\n",
    "\n",
    "\n",
    "vy = a.history['val_loss']\n",
    "ty = a.history['loss']\n",
    "plt_dynamic(x, vy, ty, ax)"
   ]
  },
  {
   "cell_type": "markdown",
   "metadata": {},
   "source": [
    "# 9. Conclusion"
   ]
  },
  {
   "cell_type": "code",
   "execution_count": 1,
   "metadata": {},
   "outputs": [
    {
     "name": "stdout",
     "output_type": "stream",
     "text": [
      "+----------------+--------+----------------+---------------+\n",
      "|     Model      | Epochs | Train Accuracy | Test Accuracy |\n",
      "+----------------+--------+----------------+---------------+\n",
      "| Architecture 1 |   10   |     96.05%     |     86.97%    |\n",
      "| Architecture 2 |   10   |     62.21%     |     53.01%    |\n",
      "| Architecture 3 |   20   |     17.97%     |     20.92%    |\n",
      "| Architecture 4 |   15   |     97.97%     |     86.16%    |\n",
      "| Architecture 5 |   5    |     98.88%     |     91.51%    |\n",
      "| Architecture 6 |   15   |     99.48%     |     89.51%    |\n",
      "+----------------+--------+----------------+---------------+\n"
     ]
    }
   ],
   "source": [
    "# http://zetcode.com/python/prettytable/\n",
    "from prettytable import PrettyTable\n",
    "\n",
    "#If you get a ModuleNotFoundError error , install prettytable using: pip3 install prettytable\n",
    "\n",
    "x = PrettyTable()\n",
    "\n",
    "x.field_names = [\"Model\", \"Epochs\", \"Train Accuracy\",\"Test Accuracy\"]\n",
    "\n",
    "x.add_row([\"Architecture 1\",10, '96.05%','86.97%'])\n",
    "x.add_row([\"Architecture 2\",10, '62.21%','53.01%'])\n",
    "x.add_row([\"Architecture 3\",20, '17.97%','20.92%'])\n",
    "x.add_row([\"Architecture 4\",15, '97.97%','86.16%'])\n",
    "x.add_row([\"Architecture 5\",5, '98.88%','91.51%'])\n",
    "x.add_row([\"Architecture 6\",15, '99.48%','89.51%'])\n",
    "\n",
    "print(x)\n"
   ]
  },
  {
   "cell_type": "code",
   "execution_count": null,
   "metadata": {},
   "outputs": [],
   "source": []
  }
 ],
 "metadata": {
  "colab": {
   "collapsed_sections": [],
   "name": "03 Amazon Fine Food Reviews Analysis_KNN.ipynb",
   "provenance": []
  },
  "kernelspec": {
   "display_name": "Python 3",
   "language": "python",
   "name": "python3"
  },
  "language_info": {
   "codemirror_mode": {
    "name": "ipython",
    "version": 3
   },
   "file_extension": ".py",
   "mimetype": "text/x-python",
   "name": "python",
   "nbconvert_exporter": "python",
   "pygments_lexer": "ipython3",
   "version": "3.7.3"
  }
 },
 "nbformat": 4,
 "nbformat_minor": 1
}
